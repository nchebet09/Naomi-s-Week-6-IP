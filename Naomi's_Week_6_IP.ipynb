{
  "nbformat": 4,
  "nbformat_minor": 0,
  "metadata": {
    "colab": {
      "name": "Naomi's Week 6 IP",
      "provenance": [],
      "collapsed_sections": [],
      "toc_visible": true,
      "authorship_tag": "ABX9TyOQs9niXd1IHjpH4k1c186k",
      "include_colab_link": true
    },
    "kernelspec": {
      "name": "python3",
      "display_name": "Python 3"
    }
  },
  "cells": [
    {
      "cell_type": "markdown",
      "metadata": {
        "id": "view-in-github",
        "colab_type": "text"
      },
      "source": [
        "<a href=\"https://colab.research.google.com/github/nchebet09/Naomi-s-Week-6-IP/blob/master/Naomi's_Week_6_IP.ipynb\" target=\"_parent\"><img src=\"https://colab.research.google.com/assets/colab-badge.svg\" alt=\"Open In Colab\"/></a>"
      ]
    },
    {
      "cell_type": "markdown",
      "metadata": {
        "id": "fmV3YckpFg9w",
        "colab_type": "text"
      },
      "source": [
        "##  Documentation"
      ]
    },
    {
      "cell_type": "markdown",
      "metadata": {
        "id": "Jg47Dj7jFoTf",
        "colab_type": "text"
      },
      "source": [
        "### a.) Defining the question \n",
        "\n",
        "Include team rankings to determine the prediction result of a game between team 1 and team 2, based on who's home and who's away, and whether or not the game is friendly."
      ]
    },
    {
      "cell_type": "markdown",
      "metadata": {
        "id": "vFF7roBRF925",
        "colab_type": "text"
      },
      "source": [
        "### b.) The metric for success\n",
        "\n",
        "Being able to create a model that can:\n",
        "\n",
        "1. Predict the number of goals the home team scores\n",
        "2. Predict the number of goals the away team scores"
      ]
    },
    {
      "cell_type": "markdown",
      "metadata": {
        "id": "kj8gB6PaGjrt",
        "colab_type": "text"
      },
      "source": [
        "### c.) Understanding the context\n",
        "\n",
        "You've been recruited as a football analyst in Mchezopesa Ltd Company to create a model that predicts the results between team 1 and team 2. The prediction has to capture who is home and away, the team rankings and whether the game is friendly or not.\n",
        "\n",
        "Two datasets have been provided:\n",
        "1. Fifa dataset which has 57,793 records and 16 columns. Some of the columns include: team rank, country, rank change, total points and rank date.\n",
        "\n",
        "2. Results dataset which has 40,839 records and 9 columns. Some of the columns include: date of the match, home and away teams, tournament, home and away scores and whether the game was played at a neutral court or not"
      ]
    },
    {
      "cell_type": "markdown",
      "metadata": {
        "id": "6GV_ZAWTGxNh",
        "colab_type": "text"
      },
      "source": [
        "### d.) Experimental design\n",
        "\n",
        "We will start of with:\n",
        "\n",
        "Loading the data and initial data exploration\n",
        "\n",
        "Followed by:\n",
        "\n",
        "Validate the data from external source\n",
        "\n",
        "Clean the data\n",
        "\n",
        "Merge the datasets\n",
        "\n",
        "EDA (Plotting Univariate and Bivariate summaries)\n",
        "\n",
        "KFold Cross-validation and RMSE computation\n",
        "\n",
        "Polynomial regression\n",
        "\n",
        "Feature Engineering and Logistic regression\n",
        "\n",
        "Creating residual plots for our models and assessing their heteroscedasticity using Bartlett's test\n",
        "\n",
        "Checking for multicollinearity\n",
        "\n",
        "\n"
      ]
    },
    {
      "cell_type": "markdown",
      "metadata": {
        "id": "htW19lHcG_Wl",
        "colab_type": "text"
      },
      "source": [
        "### e.) Data Relevance\n",
        "\n",
        "Yes, we had relevant data to help us solve the problem at hand"
      ]
    },
    {
      "cell_type": "markdown",
      "metadata": {
        "id": "kqooWp-3HObp",
        "colab_type": "text"
      },
      "source": [
        "##  Reading and Initial Data Exploration"
      ]
    },
    {
      "cell_type": "code",
      "metadata": {
        "id": "G6ygQbAsJoOn",
        "colab_type": "code",
        "colab": {
          "base_uri": "https://localhost:8080/",
          "height": 72
        },
        "outputId": "66b6dc04-4c25-46a7-bf41-3d44705c42cf"
      },
      "source": [
        "# importing our libraries\n",
        "\n",
        "import pandas as pd\n",
        "import numpy as np\n",
        "import matplotlib.pyplot as plt\n",
        "import seaborn as sns\n",
        "\n",
        "from sklearn.model_selection import train_test_split\n",
        "from sklearn.linear_model import LogisticRegression\n",
        "from sklearn.linear_model import LinearRegression\n",
        "from sklearn.preprocessing import PolynomialFeatures\n",
        "from sklearn import metrics\n",
        "from sklearn.metrics import confusion_matrix\n",
        "\n",
        "import warnings\n",
        "warnings.filterwarnings('ignore') # the code is used to suppress various deprecation warnings from plotnine run\n"
      ],
      "execution_count": 1,
      "outputs": [
        {
          "output_type": "stream",
          "text": [
            "/usr/local/lib/python3.6/dist-packages/statsmodels/tools/_testing.py:19: FutureWarning: pandas.util.testing is deprecated. Use the functions in the public API at pandas.testing instead.\n",
            "  import pandas.util.testing as tm\n"
          ],
          "name": "stderr"
        }
      ]
    },
    {
      "cell_type": "markdown",
      "metadata": {
        "id": "CFuzr-1hJWz7",
        "colab_type": "text"
      },
      "source": [
        "### Fifa ranking dataset"
      ]
    },
    {
      "cell_type": "code",
      "metadata": {
        "id": "_Slk81dhKT0E",
        "colab_type": "code",
        "colab": {}
      },
      "source": [
        "# loading the datasets\n",
        "\n",
        "fifa = pd.read_csv('fifa_ranking.csv')"
      ],
      "execution_count": 2,
      "outputs": []
    },
    {
      "cell_type": "code",
      "metadata": {
        "id": "Kt6Bnr4mKj1P",
        "colab_type": "code",
        "colab": {
          "base_uri": "https://localhost:8080/",
          "height": 308
        },
        "outputId": "88aad3ca-e683-4b13-c346-00088723904b"
      },
      "source": [
        "# previewing the head of our dataset\n",
        "\n",
        "fifa.head()"
      ],
      "execution_count": 3,
      "outputs": [
        {
          "output_type": "execute_result",
          "data": {
            "text/html": [
              "<div>\n",
              "<style scoped>\n",
              "    .dataframe tbody tr th:only-of-type {\n",
              "        vertical-align: middle;\n",
              "    }\n",
              "\n",
              "    .dataframe tbody tr th {\n",
              "        vertical-align: top;\n",
              "    }\n",
              "\n",
              "    .dataframe thead th {\n",
              "        text-align: right;\n",
              "    }\n",
              "</style>\n",
              "<table border=\"1\" class=\"dataframe\">\n",
              "  <thead>\n",
              "    <tr style=\"text-align: right;\">\n",
              "      <th></th>\n",
              "      <th>rank</th>\n",
              "      <th>country_full</th>\n",
              "      <th>country_abrv</th>\n",
              "      <th>total_points</th>\n",
              "      <th>previous_points</th>\n",
              "      <th>rank_change</th>\n",
              "      <th>cur_year_avg</th>\n",
              "      <th>cur_year_avg_weighted</th>\n",
              "      <th>last_year_avg</th>\n",
              "      <th>last_year_avg_weighted</th>\n",
              "      <th>two_year_ago_avg</th>\n",
              "      <th>two_year_ago_weighted</th>\n",
              "      <th>three_year_ago_avg</th>\n",
              "      <th>three_year_ago_weighted</th>\n",
              "      <th>confederation</th>\n",
              "      <th>rank_date</th>\n",
              "    </tr>\n",
              "  </thead>\n",
              "  <tbody>\n",
              "    <tr>\n",
              "      <th>0</th>\n",
              "      <td>1</td>\n",
              "      <td>Germany</td>\n",
              "      <td>GER</td>\n",
              "      <td>0.0</td>\n",
              "      <td>57</td>\n",
              "      <td>0</td>\n",
              "      <td>0.0</td>\n",
              "      <td>0.0</td>\n",
              "      <td>0.0</td>\n",
              "      <td>0.0</td>\n",
              "      <td>0.0</td>\n",
              "      <td>0.0</td>\n",
              "      <td>0.0</td>\n",
              "      <td>0.0</td>\n",
              "      <td>UEFA</td>\n",
              "      <td>1993-08-08</td>\n",
              "    </tr>\n",
              "    <tr>\n",
              "      <th>1</th>\n",
              "      <td>2</td>\n",
              "      <td>Italy</td>\n",
              "      <td>ITA</td>\n",
              "      <td>0.0</td>\n",
              "      <td>57</td>\n",
              "      <td>0</td>\n",
              "      <td>0.0</td>\n",
              "      <td>0.0</td>\n",
              "      <td>0.0</td>\n",
              "      <td>0.0</td>\n",
              "      <td>0.0</td>\n",
              "      <td>0.0</td>\n",
              "      <td>0.0</td>\n",
              "      <td>0.0</td>\n",
              "      <td>UEFA</td>\n",
              "      <td>1993-08-08</td>\n",
              "    </tr>\n",
              "    <tr>\n",
              "      <th>2</th>\n",
              "      <td>3</td>\n",
              "      <td>Switzerland</td>\n",
              "      <td>SUI</td>\n",
              "      <td>0.0</td>\n",
              "      <td>50</td>\n",
              "      <td>9</td>\n",
              "      <td>0.0</td>\n",
              "      <td>0.0</td>\n",
              "      <td>0.0</td>\n",
              "      <td>0.0</td>\n",
              "      <td>0.0</td>\n",
              "      <td>0.0</td>\n",
              "      <td>0.0</td>\n",
              "      <td>0.0</td>\n",
              "      <td>UEFA</td>\n",
              "      <td>1993-08-08</td>\n",
              "    </tr>\n",
              "    <tr>\n",
              "      <th>3</th>\n",
              "      <td>4</td>\n",
              "      <td>Sweden</td>\n",
              "      <td>SWE</td>\n",
              "      <td>0.0</td>\n",
              "      <td>55</td>\n",
              "      <td>0</td>\n",
              "      <td>0.0</td>\n",
              "      <td>0.0</td>\n",
              "      <td>0.0</td>\n",
              "      <td>0.0</td>\n",
              "      <td>0.0</td>\n",
              "      <td>0.0</td>\n",
              "      <td>0.0</td>\n",
              "      <td>0.0</td>\n",
              "      <td>UEFA</td>\n",
              "      <td>1993-08-08</td>\n",
              "    </tr>\n",
              "    <tr>\n",
              "      <th>4</th>\n",
              "      <td>5</td>\n",
              "      <td>Argentina</td>\n",
              "      <td>ARG</td>\n",
              "      <td>0.0</td>\n",
              "      <td>51</td>\n",
              "      <td>5</td>\n",
              "      <td>0.0</td>\n",
              "      <td>0.0</td>\n",
              "      <td>0.0</td>\n",
              "      <td>0.0</td>\n",
              "      <td>0.0</td>\n",
              "      <td>0.0</td>\n",
              "      <td>0.0</td>\n",
              "      <td>0.0</td>\n",
              "      <td>CONMEBOL</td>\n",
              "      <td>1993-08-08</td>\n",
              "    </tr>\n",
              "  </tbody>\n",
              "</table>\n",
              "</div>"
            ],
            "text/plain": [
              "   rank country_full  ... confederation   rank_date\n",
              "0     1      Germany  ...          UEFA  1993-08-08\n",
              "1     2        Italy  ...          UEFA  1993-08-08\n",
              "2     3  Switzerland  ...          UEFA  1993-08-08\n",
              "3     4       Sweden  ...          UEFA  1993-08-08\n",
              "4     5    Argentina  ...      CONMEBOL  1993-08-08\n",
              "\n",
              "[5 rows x 16 columns]"
            ]
          },
          "metadata": {
            "tags": []
          },
          "execution_count": 3
        }
      ]
    },
    {
      "cell_type": "code",
      "metadata": {
        "id": "XANZiCZ3Kwy3",
        "colab_type": "code",
        "colab": {
          "base_uri": "https://localhost:8080/",
          "height": 308
        },
        "outputId": "768d8184-8cbb-4e77-fd0a-32a36869399a"
      },
      "source": [
        "# previewing the tail of our dataset\n",
        "\n",
        "fifa.tail()"
      ],
      "execution_count": 4,
      "outputs": [
        {
          "output_type": "execute_result",
          "data": {
            "text/html": [
              "<div>\n",
              "<style scoped>\n",
              "    .dataframe tbody tr th:only-of-type {\n",
              "        vertical-align: middle;\n",
              "    }\n",
              "\n",
              "    .dataframe tbody tr th {\n",
              "        vertical-align: top;\n",
              "    }\n",
              "\n",
              "    .dataframe thead th {\n",
              "        text-align: right;\n",
              "    }\n",
              "</style>\n",
              "<table border=\"1\" class=\"dataframe\">\n",
              "  <thead>\n",
              "    <tr style=\"text-align: right;\">\n",
              "      <th></th>\n",
              "      <th>rank</th>\n",
              "      <th>country_full</th>\n",
              "      <th>country_abrv</th>\n",
              "      <th>total_points</th>\n",
              "      <th>previous_points</th>\n",
              "      <th>rank_change</th>\n",
              "      <th>cur_year_avg</th>\n",
              "      <th>cur_year_avg_weighted</th>\n",
              "      <th>last_year_avg</th>\n",
              "      <th>last_year_avg_weighted</th>\n",
              "      <th>two_year_ago_avg</th>\n",
              "      <th>two_year_ago_weighted</th>\n",
              "      <th>three_year_ago_avg</th>\n",
              "      <th>three_year_ago_weighted</th>\n",
              "      <th>confederation</th>\n",
              "      <th>rank_date</th>\n",
              "    </tr>\n",
              "  </thead>\n",
              "  <tbody>\n",
              "    <tr>\n",
              "      <th>57788</th>\n",
              "      <td>206</td>\n",
              "      <td>Anguilla</td>\n",
              "      <td>AIA</td>\n",
              "      <td>0.0</td>\n",
              "      <td>0</td>\n",
              "      <td>1</td>\n",
              "      <td>0.0</td>\n",
              "      <td>0.0</td>\n",
              "      <td>0.0</td>\n",
              "      <td>0.0</td>\n",
              "      <td>0.0</td>\n",
              "      <td>0.0</td>\n",
              "      <td>0.0</td>\n",
              "      <td>0.0</td>\n",
              "      <td>CONCACAF</td>\n",
              "      <td>2018-06-07</td>\n",
              "    </tr>\n",
              "    <tr>\n",
              "      <th>57789</th>\n",
              "      <td>206</td>\n",
              "      <td>Bahamas</td>\n",
              "      <td>BAH</td>\n",
              "      <td>0.0</td>\n",
              "      <td>0</td>\n",
              "      <td>1</td>\n",
              "      <td>0.0</td>\n",
              "      <td>0.0</td>\n",
              "      <td>0.0</td>\n",
              "      <td>0.0</td>\n",
              "      <td>0.0</td>\n",
              "      <td>0.0</td>\n",
              "      <td>0.0</td>\n",
              "      <td>0.0</td>\n",
              "      <td>CONCACAF</td>\n",
              "      <td>2018-06-07</td>\n",
              "    </tr>\n",
              "    <tr>\n",
              "      <th>57790</th>\n",
              "      <td>206</td>\n",
              "      <td>Eritrea</td>\n",
              "      <td>ERI</td>\n",
              "      <td>0.0</td>\n",
              "      <td>0</td>\n",
              "      <td>1</td>\n",
              "      <td>0.0</td>\n",
              "      <td>0.0</td>\n",
              "      <td>0.0</td>\n",
              "      <td>0.0</td>\n",
              "      <td>0.0</td>\n",
              "      <td>0.0</td>\n",
              "      <td>0.0</td>\n",
              "      <td>0.0</td>\n",
              "      <td>CAF</td>\n",
              "      <td>2018-06-07</td>\n",
              "    </tr>\n",
              "    <tr>\n",
              "      <th>57791</th>\n",
              "      <td>206</td>\n",
              "      <td>Somalia</td>\n",
              "      <td>SOM</td>\n",
              "      <td>0.0</td>\n",
              "      <td>0</td>\n",
              "      <td>1</td>\n",
              "      <td>0.0</td>\n",
              "      <td>0.0</td>\n",
              "      <td>0.0</td>\n",
              "      <td>0.0</td>\n",
              "      <td>0.0</td>\n",
              "      <td>0.0</td>\n",
              "      <td>0.0</td>\n",
              "      <td>0.0</td>\n",
              "      <td>CAF</td>\n",
              "      <td>2018-06-07</td>\n",
              "    </tr>\n",
              "    <tr>\n",
              "      <th>57792</th>\n",
              "      <td>206</td>\n",
              "      <td>Tonga</td>\n",
              "      <td>TGA</td>\n",
              "      <td>0.0</td>\n",
              "      <td>0</td>\n",
              "      <td>1</td>\n",
              "      <td>0.0</td>\n",
              "      <td>0.0</td>\n",
              "      <td>0.0</td>\n",
              "      <td>0.0</td>\n",
              "      <td>0.0</td>\n",
              "      <td>0.0</td>\n",
              "      <td>0.0</td>\n",
              "      <td>0.0</td>\n",
              "      <td>OFC</td>\n",
              "      <td>2018-06-07</td>\n",
              "    </tr>\n",
              "  </tbody>\n",
              "</table>\n",
              "</div>"
            ],
            "text/plain": [
              "       rank country_full  ... confederation   rank_date\n",
              "57788   206     Anguilla  ...      CONCACAF  2018-06-07\n",
              "57789   206      Bahamas  ...      CONCACAF  2018-06-07\n",
              "57790   206      Eritrea  ...           CAF  2018-06-07\n",
              "57791   206      Somalia  ...           CAF  2018-06-07\n",
              "57792   206        Tonga  ...           OFC  2018-06-07\n",
              "\n",
              "[5 rows x 16 columns]"
            ]
          },
          "metadata": {
            "tags": []
          },
          "execution_count": 4
        }
      ]
    },
    {
      "cell_type": "code",
      "metadata": {
        "id": "DzJooxANCt3D",
        "colab_type": "code",
        "colab": {
          "base_uri": "https://localhost:8080/",
          "height": 122
        },
        "outputId": "b1eb3571-b452-4868-eaaa-961cb1d8c1a7"
      },
      "source": [
        "# checking columns of our dataset\n",
        "\n",
        "fifa.columns"
      ],
      "execution_count": 5,
      "outputs": [
        {
          "output_type": "execute_result",
          "data": {
            "text/plain": [
              "Index(['rank', 'country_full', 'country_abrv', 'total_points',\n",
              "       'previous_points', 'rank_change', 'cur_year_avg',\n",
              "       'cur_year_avg_weighted', 'last_year_avg', 'last_year_avg_weighted',\n",
              "       'two_year_ago_avg', 'two_year_ago_weighted', 'three_year_ago_avg',\n",
              "       'three_year_ago_weighted', 'confederation', 'rank_date'],\n",
              "      dtype='object')"
            ]
          },
          "metadata": {
            "tags": []
          },
          "execution_count": 5
        }
      ]
    },
    {
      "cell_type": "code",
      "metadata": {
        "id": "7Z3euiN2-MAV",
        "colab_type": "code",
        "colab": {
          "base_uri": "https://localhost:8080/",
          "height": 34
        },
        "outputId": "ae145b30-8313-4147-ec5c-209631fda628"
      },
      "source": [
        "# checking for the shape of fifa dataset\n",
        "\n",
        "fifa.shape\n",
        "\n",
        "# fifa dataset has 57,793 records and 16 columns"
      ],
      "execution_count": 6,
      "outputs": [
        {
          "output_type": "execute_result",
          "data": {
            "text/plain": [
              "(57793, 16)"
            ]
          },
          "metadata": {
            "tags": []
          },
          "execution_count": 6
        }
      ]
    },
    {
      "cell_type": "code",
      "metadata": {
        "id": "Kz_wmWMR-T3u",
        "colab_type": "code",
        "colab": {
          "base_uri": "https://localhost:8080/",
          "height": 314
        },
        "outputId": "70ea3d85-2350-4a9c-d104-3a1199a35a5e"
      },
      "source": [
        "# checking for data types for each column in our dataset\n",
        "\n",
        "fifa.dtypes"
      ],
      "execution_count": 7,
      "outputs": [
        {
          "output_type": "execute_result",
          "data": {
            "text/plain": [
              "rank                         int64\n",
              "country_full                object\n",
              "country_abrv                object\n",
              "total_points               float64\n",
              "previous_points              int64\n",
              "rank_change                  int64\n",
              "cur_year_avg               float64\n",
              "cur_year_avg_weighted      float64\n",
              "last_year_avg              float64\n",
              "last_year_avg_weighted     float64\n",
              "two_year_ago_avg           float64\n",
              "two_year_ago_weighted      float64\n",
              "three_year_ago_avg         float64\n",
              "three_year_ago_weighted    float64\n",
              "confederation               object\n",
              "rank_date                   object\n",
              "dtype: object"
            ]
          },
          "metadata": {
            "tags": []
          },
          "execution_count": 7
        }
      ]
    },
    {
      "cell_type": "code",
      "metadata": {
        "id": "EmhatM8p-lzW",
        "colab_type": "code",
        "colab": {
          "base_uri": "https://localhost:8080/",
          "height": 331
        },
        "outputId": "1f19f2f2-93f7-466d-e505-2901810a6016"
      },
      "source": [
        "# checking for any null values in our dataset and also checking for any null values in each column\n",
        "\n",
        "# print(fifa.isnull().any())\n",
        "print(fifa.isnull().values.any())\n",
        "print(fifa.isnull().sum())\n",
        "\n",
        "# Our dataset has no missing values"
      ],
      "execution_count": 8,
      "outputs": [
        {
          "output_type": "stream",
          "text": [
            "False\n",
            "rank                       0\n",
            "country_full               0\n",
            "country_abrv               0\n",
            "total_points               0\n",
            "previous_points            0\n",
            "rank_change                0\n",
            "cur_year_avg               0\n",
            "cur_year_avg_weighted      0\n",
            "last_year_avg              0\n",
            "last_year_avg_weighted     0\n",
            "two_year_ago_avg           0\n",
            "two_year_ago_weighted      0\n",
            "three_year_ago_avg         0\n",
            "three_year_ago_weighted    0\n",
            "confederation              0\n",
            "rank_date                  0\n",
            "dtype: int64\n"
          ],
          "name": "stdout"
        }
      ]
    },
    {
      "cell_type": "code",
      "metadata": {
        "id": "huVN_sl4AdNm",
        "colab_type": "code",
        "colab": {
          "base_uri": "https://localhost:8080/",
          "height": 314
        },
        "outputId": "fffad05e-6281-4b1a-a625-3f462dfe7273"
      },
      "source": [
        "# checking for unique values in all the columns\n",
        "\n",
        "fifa.nunique()"
      ],
      "execution_count": 9,
      "outputs": [
        {
          "output_type": "execute_result",
          "data": {
            "text/plain": [
              "rank                         209\n",
              "country_full                 216\n",
              "country_abrv                 216\n",
              "total_points               11114\n",
              "previous_points             1557\n",
              "rank_change                  121\n",
              "cur_year_avg                7419\n",
              "cur_year_avg_weighted       7419\n",
              "last_year_avg               7473\n",
              "last_year_avg_weighted      7001\n",
              "two_year_ago_avg            7575\n",
              "two_year_ago_weighted       6513\n",
              "three_year_ago_avg          7628\n",
              "three_year_ago_weighted     5849\n",
              "confederation                  6\n",
              "rank_date                    286\n",
              "dtype: int64"
            ]
          },
          "metadata": {
            "tags": []
          },
          "execution_count": 9
        }
      ]
    },
    {
      "cell_type": "code",
      "metadata": {
        "id": "wDN6LnXzx7ky",
        "colab_type": "code",
        "colab": {
          "base_uri": "https://localhost:8080/",
          "height": 314
        },
        "outputId": "8774e582-1858-45ec-bf90-8530c53f84e2"
      },
      "source": [
        "fifa['rank'].unique()"
      ],
      "execution_count": 10,
      "outputs": [
        {
          "output_type": "execute_result",
          "data": {
            "text/plain": [
              "array([  1,   2,   3,   4,   5,   6,   7,   8,   9,  10,  11,  12,  13,\n",
              "        14,  15,  16,  17,  18,  19,  20,  21,  22,  23,  24,  25,  26,\n",
              "        27,  28,  29,  30,  31,  32,  33,  34,  35,  36,  37,  38,  39,\n",
              "        40,  41,  42,  43,  44,  45,  46,  47,  48,  49,  50,  51,  52,\n",
              "        53,  54,  55,  56,  57,  58,  59,  60,  61,  62,  63,  64,  65,\n",
              "        66,  67,  68,  69,  70,  71,  72,  73,  74,  75,  76,  77,  78,\n",
              "        79,  80,  81,  82,  83,  84,  85,  86,  87,  88,  89,  90,  91,\n",
              "        92,  93,  94,  95,  96,  97,  98,  99, 100, 101, 102, 103, 104,\n",
              "       105, 106, 107, 108, 109, 110, 111, 112, 113, 114, 115, 116, 117,\n",
              "       118, 119, 120, 121, 122, 123, 124, 125, 126, 127, 128, 129, 130,\n",
              "       131, 132, 133, 134, 135, 136, 137, 138, 139, 140, 141, 142, 143,\n",
              "       144, 145, 146, 148, 149, 150, 151, 152, 153, 154, 155, 156, 157,\n",
              "       158, 159, 160, 161, 162, 163, 164, 165, 166, 167, 147, 168, 169,\n",
              "       170, 171, 172, 173, 174, 176, 175, 177, 178, 179, 180, 181, 182,\n",
              "       183, 184, 185, 186, 187, 188, 189, 190, 191, 192, 193, 194, 195,\n",
              "       196, 197, 198, 199, 200, 201, 202, 203, 204, 205, 207, 206, 208,\n",
              "       209])"
            ]
          },
          "metadata": {
            "tags": []
          },
          "execution_count": 10
        }
      ]
    },
    {
      "cell_type": "code",
      "metadata": {
        "id": "q5SOW3vByDWM",
        "colab_type": "code",
        "colab": {
          "base_uri": "https://localhost:8080/",
          "height": 809
        },
        "outputId": "f341c4e5-e00c-48f6-c67e-b37c0140c80d"
      },
      "source": [
        "fifa['country_full'].unique()"
      ],
      "execution_count": 11,
      "outputs": [
        {
          "output_type": "execute_result",
          "data": {
            "text/plain": [
              "array(['Germany', 'Italy', 'Switzerland', 'Sweden', 'Argentina',\n",
              "       'Republic of Ireland', 'Russia', 'Brazil', 'Norway', 'Denmark',\n",
              "       'England', 'France', 'Spain', 'Mexico', 'RCS', 'Netherlands',\n",
              "       'Nigeria', 'Belgium', 'Colombia', 'Poland', 'Romania', 'Uruguay',\n",
              "       'Portugal', 'Cameroon', 'Zambia', 'Egypt', 'Wales', 'USA',\n",
              "       \"Côte d'Ivoire\", 'Scotland', 'Tunisia', 'Greece', 'Morocco',\n",
              "       'Algeria', 'Ecuador', 'Korea Republic', 'Bulgaria', 'Austria',\n",
              "       'Costa Rica', 'Northern Ireland', 'Honduras', 'Hungary', 'Japan',\n",
              "       'Saudi Arabia', 'China PR', 'Canada', 'Finland', 'Ghana', 'Chile',\n",
              "       'Zimbabwe', 'Qatar', 'Australia', 'Iceland', 'IR Iran',\n",
              "       'United Arab Emirates', 'Yugoslavia', 'Iraq', 'Senegal', 'Bolivia',\n",
              "       'Kuwait', 'Korea DPR', 'El Salvador', 'Turkey', 'Gabon', 'Guinea',\n",
              "       'Thailand', 'Paraguay', 'Malawi', 'Israel', 'Peru', 'Zaire',\n",
              "       'Cyprus', 'Singapore', 'Mali', 'Malaysia', 'Bermuda', 'Niger',\n",
              "       'Syria', 'Bahrain', 'New Zealand', 'Madagascar', 'Malta',\n",
              "       'Jamaica', 'Lithuania', 'Trinidad and Tobago', 'Sierra Leone',\n",
              "       'Jordan', 'Kenya', 'Latvia', 'Yemen', 'Tanzania', 'Albania',\n",
              "       'Angola', 'Venezuela', 'Ethiopia', 'Burundi', 'Oman', 'Indonesia',\n",
              "       'Liberia', 'Mozambique', 'Puerto Rico', 'Swaziland', 'Hong Kong',\n",
              "       'Uganda', 'Barbados', 'Myanmar', 'Congo', 'Lebanon',\n",
              "       'South Africa', 'Luxembourg', 'Faroe Islands', 'Guatemala',\n",
              "       'Burkina Faso', 'Togo', 'Suriname', 'Fiji', 'Croatia', 'Estonia',\n",
              "       'San Marino', 'Bangladesh', 'St Vincent and the Grenadines',\n",
              "       'Netherlands Antilles', 'Mauritius', 'Benin', 'Panama', 'Sudan',\n",
              "       'Antigua and Barbuda', 'Slovenia', 'India', 'Belarus', 'Ukraine',\n",
              "       'Vietnam', 'Guinea-Bissau', 'Guyana', 'Botswana', 'St Lucia',\n",
              "       'Tahiti', 'Grenada', 'Haiti', 'Libya', 'Laos', 'Mauritania',\n",
              "       'Cape Verde Islands', 'Solomon Islands', 'Brunei Darussalam',\n",
              "       'Lesotho', 'Dominican Republic', 'Pakistan', 'Nicaragua', 'Cuba',\n",
              "       'Seychelles', 'Central African Republic', 'Gambia', 'Namibia',\n",
              "       'Cayman Islands', 'Nepal', 'Liechtenstein', 'Equatorial Guinea',\n",
              "       'Chinese Taipei', 'Sri Lanka', 'Philippines', 'Chad', 'Vanuatu',\n",
              "       'Aruba', 'Bahamas', 'Maldives', 'Macau', 'Slovakia',\n",
              "       'St Kitts and Nevis', 'Czech Republic', 'Georgia', 'FYR Macedonia',\n",
              "       'Moldova', 'Armenia', 'Azerbaijan', 'Uzbekistan', 'Turkmenistan',\n",
              "       'Kazakhstan', 'Tajikistan', 'Kyrgyz Republic', 'Somalia',\n",
              "       'Djibouti', 'Dominica', 'Rwanda', 'Belize', 'Cambodia',\n",
              "       'Bosnia and Herzegovina', 'Guam', 'Papua New Guinea', 'Tonga',\n",
              "       'Samoa', 'Andorra', 'Cook Islands', 'British Virgin Islands',\n",
              "       'Anguilla', 'São Tomé e Príncipe', 'Eritrea', 'American Samoa',\n",
              "       'Palestine', 'Mongolia', 'Turks and Caicos Islands',\n",
              "       'US Virgin Islands', 'Montserrat', 'Congo DR', 'Bhutan',\n",
              "       'Serbia and Montenegro', 'Afghanistan', 'New Caledonia', 'Serbia',\n",
              "       'Timor-Leste', 'Comoros', 'Montenegro', 'Curaçao', 'South Sudan',\n",
              "       'Kosovo', 'Gibraltar'], dtype=object)"
            ]
          },
          "metadata": {
            "tags": []
          },
          "execution_count": 11
        }
      ]
    },
    {
      "cell_type": "code",
      "metadata": {
        "id": "0Z0gGDNfyVBr",
        "colab_type": "code",
        "colab": {
          "base_uri": "https://localhost:8080/",
          "height": 191
        },
        "outputId": "1ca5beeb-38c8-4575-d3bd-af66a7e99bcd"
      },
      "source": [
        "fifa['rank_change'].unique()"
      ],
      "execution_count": 12,
      "outputs": [
        {
          "output_type": "execute_result",
          "data": {
            "text/plain": [
              "array([  0,   9,   5,   1,  -5,  -1,  -6,   7,   2,  11,   3,  -9,  -4,\n",
              "        16, -10,  10,  -2,  -7,   8,  30,  13, -11,  23,   4,  -3, -27,\n",
              "        25,  28, -12, -21, -15, -18,  18, -16, -23,  31,  19,  21,  46,\n",
              "       -17,  53,  15, -29, -13, -20,  14, -24, -14,  -8,   6,  12,  29,\n",
              "        38,  33,  92,  17,  22,  27,  26,  24,  20,  40,  37,  36,  32,\n",
              "       -28,  41, -30, -34, -46, -41, -38, -40, -37, -72, -26, -25,  49,\n",
              "        42,  47,  72,  34, -19, -43, -31,  39, -22,  65, -32, -47, -36,\n",
              "        59,  35, -33, -42, -39,  55,  44,  52, -35,  48,  51,  58,  57,\n",
              "        43,  50,  45, -45, -50,  54,  60, -53,  71,  77,  69,  73,  82,\n",
              "       -44, -52, -49, -62])"
            ]
          },
          "metadata": {
            "tags": []
          },
          "execution_count": 12
        }
      ]
    },
    {
      "cell_type": "code",
      "metadata": {
        "id": "POVlGRt9yxsP",
        "colab_type": "code",
        "colab": {
          "base_uri": "https://localhost:8080/",
          "height": 34
        },
        "outputId": "47a22af1-402f-4fc0-c598-167c6326d194"
      },
      "source": [
        "fifa['confederation'].unique()"
      ],
      "execution_count": 13,
      "outputs": [
        {
          "output_type": "execute_result",
          "data": {
            "text/plain": [
              "array(['UEFA', 'CONMEBOL', 'CONCACAF', 'CAF', 'AFC', 'OFC'], dtype=object)"
            ]
          },
          "metadata": {
            "tags": []
          },
          "execution_count": 13
        }
      ]
    },
    {
      "cell_type": "code",
      "metadata": {
        "id": "y15WK1txzBlk",
        "colab_type": "code",
        "colab": {
          "base_uri": "https://localhost:8080/",
          "height": 1000
        },
        "outputId": "3b3268f2-ad8f-447d-c9c9-c3eea5560422"
      },
      "source": [
        "fifa['rank_date'].unique()"
      ],
      "execution_count": 14,
      "outputs": [
        {
          "output_type": "execute_result",
          "data": {
            "text/plain": [
              "array(['1993-08-08', '1993-09-23', '1993-10-22', '1993-11-19',\n",
              "       '1993-12-23', '1994-02-15', '1994-03-15', '1994-04-19',\n",
              "       '1994-05-17', '1994-06-14', '1994-07-21', '1994-09-13',\n",
              "       '1994-10-25', '1994-11-22', '1994-12-20', '1995-02-20',\n",
              "       '1995-04-19', '1995-05-16', '1995-06-13', '1995-07-25',\n",
              "       '1995-08-22', '1995-09-19', '1995-10-17', '1995-11-21',\n",
              "       '1995-12-19', '1996-01-24', '1996-02-21', '1996-04-24',\n",
              "       '1996-05-22', '1996-07-03', '1996-08-28', '1996-09-25',\n",
              "       '1996-10-23', '1996-11-20', '1996-12-18', '1997-02-27',\n",
              "       '1997-04-09', '1997-05-14', '1997-06-18', '1997-07-16',\n",
              "       '1997-08-20', '1997-09-17', '1997-10-17', '1997-11-19',\n",
              "       '1997-12-23', '1998-02-18', '1998-03-18', '1998-04-22',\n",
              "       '1998-05-20', '1998-07-15', '1998-08-19', '1998-09-16',\n",
              "       '1998-10-21', '1998-11-18', '1998-12-23', '1999-01-27',\n",
              "       '1999-02-24', '1999-03-24', '1999-04-21', '1999-05-19',\n",
              "       '1999-06-16', '1999-07-21', '1999-08-18', '1999-09-15',\n",
              "       '1999-10-13', '1999-11-17', '1999-12-22', '2000-01-19',\n",
              "       '2000-02-16', '2000-03-15', '2000-04-12', '2000-05-10',\n",
              "       '2000-06-07', '2000-07-05', '2000-08-09', '2000-09-06',\n",
              "       '2000-10-11', '2000-11-15', '2000-12-20', '2001-01-17',\n",
              "       '2001-02-14', '2001-03-14', '2001-04-11', '2001-05-16',\n",
              "       '2001-06-20', '2001-07-18', '2001-08-22', '2001-09-19',\n",
              "       '2001-10-17', '2001-11-21', '2001-12-19', '2002-01-16',\n",
              "       '2002-02-13', '2002-03-20', '2002-04-17', '2002-05-15',\n",
              "       '2002-07-03', '2002-08-14', '2002-09-18', '2002-10-23',\n",
              "       '2002-11-20', '2002-12-18', '2003-01-15', '2003-02-19',\n",
              "       '2003-03-26', '2003-04-23', '2003-05-21', '2003-06-25',\n",
              "       '2003-07-30', '2003-08-27', '2003-09-24', '2003-10-22',\n",
              "       '2003-11-19', '2003-12-15', '2004-01-14', '2004-02-18',\n",
              "       '2004-03-17', '2004-04-14', '2004-05-12', '2004-06-09',\n",
              "       '2004-07-07', '2004-08-04', '2004-09-01', '2004-10-06',\n",
              "       '2004-11-10', '2004-12-20', '2005-01-19', '2005-02-16',\n",
              "       '2005-03-23', '2005-04-20', '2005-05-18', '2005-06-15',\n",
              "       '2005-07-20', '2005-08-17', '2005-09-12', '2005-10-17',\n",
              "       '2005-11-21', '2005-12-16', '2006-01-18', '2006-02-15',\n",
              "       '2006-03-15', '2006-04-19', '2006-05-17', '2006-07-12',\n",
              "       '2006-08-16', '2006-09-13', '2006-10-18', '2006-11-22',\n",
              "       '2006-12-18', '2007-01-17', '2007-02-14', '2007-03-14',\n",
              "       '2007-04-18', '2007-05-16', '2007-06-13', '2007-07-18',\n",
              "       '2007-08-22', '2007-09-19', '2007-10-24', '2007-11-23',\n",
              "       '2007-12-17', '2008-01-16', '2008-02-13', '2008-03-12',\n",
              "       '2008-04-09', '2008-05-07', '2008-06-04', '2008-07-02',\n",
              "       '2008-08-06', '2008-09-03', '2008-10-08', '2008-11-12',\n",
              "       '2008-12-17', '2009-01-14', '2009-02-11', '2009-03-11',\n",
              "       '2009-04-08', '2009-05-06', '2009-06-03', '2009-07-01',\n",
              "       '2009-08-05', '2009-09-02', '2009-10-16', '2009-11-20',\n",
              "       '2009-12-16', '2010-02-03', '2010-03-03', '2010-03-31',\n",
              "       '2010-04-28', '2010-05-26', '2010-07-14', '2010-08-11',\n",
              "       '2010-09-15', '2010-10-20', '2010-11-17', '2010-12-15',\n",
              "       '2011-01-12', '2011-02-02', '2011-03-09', '2011-04-13',\n",
              "       '2011-05-18', '2011-06-29', '2011-07-27', '2011-08-24',\n",
              "       '2011-09-21', '2011-10-19', '2011-11-23', '2011-12-21',\n",
              "       '2012-01-18', '2012-02-15', '2012-03-07', '2012-04-11',\n",
              "       '2012-05-09', '2012-06-06', '2012-07-04', '2012-08-08',\n",
              "       '2012-09-05', '2012-10-03', '2012-11-07', '2012-12-19',\n",
              "       '2013-01-17', '2013-02-14', '2013-03-14', '2013-04-11',\n",
              "       '2013-05-09', '2013-06-06', '2013-07-04', '2013-08-08',\n",
              "       '2013-09-12', '2013-10-17', '2013-11-28', '2013-12-19',\n",
              "       '2014-01-16', '2014-02-13', '2014-03-13', '2014-04-10',\n",
              "       '2014-05-08', '2014-06-05', '2014-07-17', '2014-08-14',\n",
              "       '2014-09-18', '2014-10-23', '2014-11-27', '2014-12-18',\n",
              "       '2015-01-08', '2015-02-12', '2015-03-12', '2015-04-09',\n",
              "       '2015-05-07', '2015-06-04', '2015-07-09', '2015-08-06',\n",
              "       '2015-09-03', '2015-10-01', '2015-11-05', '2015-12-03',\n",
              "       '2016-01-07', '2016-02-04', '2016-03-03', '2016-04-07',\n",
              "       '2016-05-05', '2016-06-02', '2016-07-14', '2016-08-11',\n",
              "       '2016-09-15', '2016-10-20', '2016-11-24', '2016-12-22',\n",
              "       '2017-01-12', '2017-02-09', '2017-03-09', '2017-04-06',\n",
              "       '2017-05-04', '2017-06-01', '2017-07-06', '2017-08-10',\n",
              "       '2017-09-14', '2017-10-16', '2017-11-23', '2017-12-21',\n",
              "       '2018-01-18', '2018-02-15', '2018-03-15', '2018-04-12',\n",
              "       '2018-05-17', '2018-06-07'], dtype=object)"
            ]
          },
          "metadata": {
            "tags": []
          },
          "execution_count": 14
        }
      ]
    },
    {
      "cell_type": "markdown",
      "metadata": {
        "id": "VVgF_HG-Jg0D",
        "colab_type": "text"
      },
      "source": [
        "### Results dataset"
      ]
    },
    {
      "cell_type": "code",
      "metadata": {
        "id": "__sIRgvjK3ie",
        "colab_type": "code",
        "colab": {}
      },
      "source": [
        "# loading the other dataset\n",
        "\n",
        "results = pd.read_csv('results.csv')"
      ],
      "execution_count": 15,
      "outputs": []
    },
    {
      "cell_type": "code",
      "metadata": {
        "id": "m_nSWjnqLG62",
        "colab_type": "code",
        "colab": {
          "base_uri": "https://localhost:8080/",
          "height": 203
        },
        "outputId": "c02f57c4-7a5f-4b3d-f43b-a34244e06f14"
      },
      "source": [
        "# loading the head our dataset\n",
        "\n",
        "results.head()"
      ],
      "execution_count": 16,
      "outputs": [
        {
          "output_type": "execute_result",
          "data": {
            "text/html": [
              "<div>\n",
              "<style scoped>\n",
              "    .dataframe tbody tr th:only-of-type {\n",
              "        vertical-align: middle;\n",
              "    }\n",
              "\n",
              "    .dataframe tbody tr th {\n",
              "        vertical-align: top;\n",
              "    }\n",
              "\n",
              "    .dataframe thead th {\n",
              "        text-align: right;\n",
              "    }\n",
              "</style>\n",
              "<table border=\"1\" class=\"dataframe\">\n",
              "  <thead>\n",
              "    <tr style=\"text-align: right;\">\n",
              "      <th></th>\n",
              "      <th>date</th>\n",
              "      <th>home_team</th>\n",
              "      <th>away_team</th>\n",
              "      <th>home_score</th>\n",
              "      <th>away_score</th>\n",
              "      <th>tournament</th>\n",
              "      <th>city</th>\n",
              "      <th>country</th>\n",
              "      <th>neutral</th>\n",
              "    </tr>\n",
              "  </thead>\n",
              "  <tbody>\n",
              "    <tr>\n",
              "      <th>0</th>\n",
              "      <td>1872-11-30</td>\n",
              "      <td>Scotland</td>\n",
              "      <td>England</td>\n",
              "      <td>0</td>\n",
              "      <td>0</td>\n",
              "      <td>Friendly</td>\n",
              "      <td>Glasgow</td>\n",
              "      <td>Scotland</td>\n",
              "      <td>False</td>\n",
              "    </tr>\n",
              "    <tr>\n",
              "      <th>1</th>\n",
              "      <td>1873-03-08</td>\n",
              "      <td>England</td>\n",
              "      <td>Scotland</td>\n",
              "      <td>4</td>\n",
              "      <td>2</td>\n",
              "      <td>Friendly</td>\n",
              "      <td>London</td>\n",
              "      <td>England</td>\n",
              "      <td>False</td>\n",
              "    </tr>\n",
              "    <tr>\n",
              "      <th>2</th>\n",
              "      <td>1874-03-07</td>\n",
              "      <td>Scotland</td>\n",
              "      <td>England</td>\n",
              "      <td>2</td>\n",
              "      <td>1</td>\n",
              "      <td>Friendly</td>\n",
              "      <td>Glasgow</td>\n",
              "      <td>Scotland</td>\n",
              "      <td>False</td>\n",
              "    </tr>\n",
              "    <tr>\n",
              "      <th>3</th>\n",
              "      <td>1875-03-06</td>\n",
              "      <td>England</td>\n",
              "      <td>Scotland</td>\n",
              "      <td>2</td>\n",
              "      <td>2</td>\n",
              "      <td>Friendly</td>\n",
              "      <td>London</td>\n",
              "      <td>England</td>\n",
              "      <td>False</td>\n",
              "    </tr>\n",
              "    <tr>\n",
              "      <th>4</th>\n",
              "      <td>1876-03-04</td>\n",
              "      <td>Scotland</td>\n",
              "      <td>England</td>\n",
              "      <td>3</td>\n",
              "      <td>0</td>\n",
              "      <td>Friendly</td>\n",
              "      <td>Glasgow</td>\n",
              "      <td>Scotland</td>\n",
              "      <td>False</td>\n",
              "    </tr>\n",
              "  </tbody>\n",
              "</table>\n",
              "</div>"
            ],
            "text/plain": [
              "         date home_team away_team  ...     city   country neutral\n",
              "0  1872-11-30  Scotland   England  ...  Glasgow  Scotland   False\n",
              "1  1873-03-08   England  Scotland  ...   London   England   False\n",
              "2  1874-03-07  Scotland   England  ...  Glasgow  Scotland   False\n",
              "3  1875-03-06   England  Scotland  ...   London   England   False\n",
              "4  1876-03-04  Scotland   England  ...  Glasgow  Scotland   False\n",
              "\n",
              "[5 rows x 9 columns]"
            ]
          },
          "metadata": {
            "tags": []
          },
          "execution_count": 16
        }
      ]
    },
    {
      "cell_type": "code",
      "metadata": {
        "id": "PNlmkwCALPNR",
        "colab_type": "code",
        "colab": {
          "base_uri": "https://localhost:8080/",
          "height": 203
        },
        "outputId": "e89c9a53-3104-45f3-c4c1-5e23d235dde1"
      },
      "source": [
        "# loading the tail of our dataset\n",
        "\n",
        "results.tail()"
      ],
      "execution_count": 17,
      "outputs": [
        {
          "output_type": "execute_result",
          "data": {
            "text/html": [
              "<div>\n",
              "<style scoped>\n",
              "    .dataframe tbody tr th:only-of-type {\n",
              "        vertical-align: middle;\n",
              "    }\n",
              "\n",
              "    .dataframe tbody tr th {\n",
              "        vertical-align: top;\n",
              "    }\n",
              "\n",
              "    .dataframe thead th {\n",
              "        text-align: right;\n",
              "    }\n",
              "</style>\n",
              "<table border=\"1\" class=\"dataframe\">\n",
              "  <thead>\n",
              "    <tr style=\"text-align: right;\">\n",
              "      <th></th>\n",
              "      <th>date</th>\n",
              "      <th>home_team</th>\n",
              "      <th>away_team</th>\n",
              "      <th>home_score</th>\n",
              "      <th>away_score</th>\n",
              "      <th>tournament</th>\n",
              "      <th>city</th>\n",
              "      <th>country</th>\n",
              "      <th>neutral</th>\n",
              "    </tr>\n",
              "  </thead>\n",
              "  <tbody>\n",
              "    <tr>\n",
              "      <th>40834</th>\n",
              "      <td>2019-07-18</td>\n",
              "      <td>American Samoa</td>\n",
              "      <td>Tahiti</td>\n",
              "      <td>8</td>\n",
              "      <td>1</td>\n",
              "      <td>Pacific Games</td>\n",
              "      <td>Apia</td>\n",
              "      <td>Samoa</td>\n",
              "      <td>True</td>\n",
              "    </tr>\n",
              "    <tr>\n",
              "      <th>40835</th>\n",
              "      <td>2019-07-18</td>\n",
              "      <td>Fiji</td>\n",
              "      <td>Solomon Islands</td>\n",
              "      <td>4</td>\n",
              "      <td>4</td>\n",
              "      <td>Pacific Games</td>\n",
              "      <td>Apia</td>\n",
              "      <td>Samoa</td>\n",
              "      <td>True</td>\n",
              "    </tr>\n",
              "    <tr>\n",
              "      <th>40836</th>\n",
              "      <td>2019-07-19</td>\n",
              "      <td>Senegal</td>\n",
              "      <td>Algeria</td>\n",
              "      <td>0</td>\n",
              "      <td>1</td>\n",
              "      <td>African Cup of Nations</td>\n",
              "      <td>Cairo</td>\n",
              "      <td>Egypt</td>\n",
              "      <td>True</td>\n",
              "    </tr>\n",
              "    <tr>\n",
              "      <th>40837</th>\n",
              "      <td>2019-07-19</td>\n",
              "      <td>Tajikistan</td>\n",
              "      <td>North Korea</td>\n",
              "      <td>0</td>\n",
              "      <td>1</td>\n",
              "      <td>Intercontinental Cup</td>\n",
              "      <td>Ahmedabad</td>\n",
              "      <td>India</td>\n",
              "      <td>True</td>\n",
              "    </tr>\n",
              "    <tr>\n",
              "      <th>40838</th>\n",
              "      <td>2019-07-20</td>\n",
              "      <td>Papua New Guinea</td>\n",
              "      <td>Fiji</td>\n",
              "      <td>1</td>\n",
              "      <td>1</td>\n",
              "      <td>Pacific Games</td>\n",
              "      <td>Apia</td>\n",
              "      <td>Samoa</td>\n",
              "      <td>True</td>\n",
              "    </tr>\n",
              "  </tbody>\n",
              "</table>\n",
              "</div>"
            ],
            "text/plain": [
              "             date         home_team  ... country  neutral\n",
              "40834  2019-07-18    American Samoa  ...   Samoa     True\n",
              "40835  2019-07-18              Fiji  ...   Samoa     True\n",
              "40836  2019-07-19           Senegal  ...   Egypt     True\n",
              "40837  2019-07-19        Tajikistan  ...   India     True\n",
              "40838  2019-07-20  Papua New Guinea  ...   Samoa     True\n",
              "\n",
              "[5 rows x 9 columns]"
            ]
          },
          "metadata": {
            "tags": []
          },
          "execution_count": 17
        }
      ]
    },
    {
      "cell_type": "code",
      "metadata": {
        "id": "y1Z4TvHVDj5f",
        "colab_type": "code",
        "colab": {
          "base_uri": "https://localhost:8080/",
          "height": 69
        },
        "outputId": "88e7f112-81b7-4cad-f9a8-34f1ca3f5ab1"
      },
      "source": [
        "# checking the columns of our dataset\n",
        "\n",
        "results.columns"
      ],
      "execution_count": 18,
      "outputs": [
        {
          "output_type": "execute_result",
          "data": {
            "text/plain": [
              "Index(['date', 'home_team', 'away_team', 'home_score', 'away_score',\n",
              "       'tournament', 'city', 'country', 'neutral'],\n",
              "      dtype='object')"
            ]
          },
          "metadata": {
            "tags": []
          },
          "execution_count": 18
        }
      ]
    },
    {
      "cell_type": "code",
      "metadata": {
        "id": "mjvnW-j3_Rd3",
        "colab_type": "code",
        "colab": {
          "base_uri": "https://localhost:8080/",
          "height": 34
        },
        "outputId": "7c66274b-903b-41b1-eb18-1befa171ebca"
      },
      "source": [
        "# checking for shape\n",
        "\n",
        "results.shape\n",
        "\n",
        "# results dataset has 40,839 records and 9 columns"
      ],
      "execution_count": 19,
      "outputs": [
        {
          "output_type": "execute_result",
          "data": {
            "text/plain": [
              "(40839, 9)"
            ]
          },
          "metadata": {
            "tags": []
          },
          "execution_count": 19
        }
      ]
    },
    {
      "cell_type": "code",
      "metadata": {
        "id": "62HZ5MyO_euW",
        "colab_type": "code",
        "colab": {
          "base_uri": "https://localhost:8080/",
          "height": 191
        },
        "outputId": "a4fc8b9a-f1de-4e41-cc80-7b1095cf3953"
      },
      "source": [
        "# checking for data types\n",
        "\n",
        "results.dtypes\n",
        "\n",
        "# results dataset had correct data types"
      ],
      "execution_count": 20,
      "outputs": [
        {
          "output_type": "execute_result",
          "data": {
            "text/plain": [
              "date          object\n",
              "home_team     object\n",
              "away_team     object\n",
              "home_score     int64\n",
              "away_score     int64\n",
              "tournament    object\n",
              "city          object\n",
              "country       object\n",
              "neutral         bool\n",
              "dtype: object"
            ]
          },
          "metadata": {
            "tags": []
          },
          "execution_count": 20
        }
      ]
    },
    {
      "cell_type": "code",
      "metadata": {
        "id": "hdzyaJKq_0Cr",
        "colab_type": "code",
        "colab": {
          "base_uri": "https://localhost:8080/",
          "height": 209
        },
        "outputId": "9195abf2-310a-4586-8dd6-f2a4f48c4478"
      },
      "source": [
        "# checking for null values\n",
        "\n",
        "# print(results.isnull().any())\n",
        "print(results.isnull().values.any())\n",
        "print(results.isnull().sum())\n",
        "\n",
        "# there are no missing values in results dataset"
      ],
      "execution_count": 21,
      "outputs": [
        {
          "output_type": "stream",
          "text": [
            "False\n",
            "date          0\n",
            "home_team     0\n",
            "away_team     0\n",
            "home_score    0\n",
            "away_score    0\n",
            "tournament    0\n",
            "city          0\n",
            "country       0\n",
            "neutral       0\n",
            "dtype: int64\n"
          ],
          "name": "stdout"
        }
      ]
    },
    {
      "cell_type": "code",
      "metadata": {
        "id": "nuHzrEVaAM3i",
        "colab_type": "code",
        "colab": {
          "base_uri": "https://localhost:8080/",
          "height": 193
        },
        "outputId": "61f36a2f-3fda-4a16-a1da-06ad650cc286"
      },
      "source": [
        "# checking for unique values in all the columns\n",
        "\n",
        "results.nunique()"
      ],
      "execution_count": 22,
      "outputs": [
        {
          "output_type": "execute_result",
          "data": {
            "text/plain": [
              "date          15115\n",
              "home_team       309\n",
              "away_team       306\n",
              "home_score       26\n",
              "away_score       22\n",
              "tournament      109\n",
              "city           1960\n",
              "country         266\n",
              "neutral           2\n",
              "dtype: int64"
            ]
          },
          "metadata": {
            "tags": []
          },
          "execution_count": 22
        }
      ]
    },
    {
      "cell_type": "code",
      "metadata": {
        "id": "SF0iMatvEIP-",
        "colab_type": "code",
        "colab": {
          "base_uri": "https://localhost:8080/",
          "height": 1000
        },
        "outputId": "b1f39d93-8687-4a48-99b5-929b935eb9e6"
      },
      "source": [
        "# exploring a few columns to check for unique values\n",
        "results['country'].unique()"
      ],
      "execution_count": 23,
      "outputs": [
        {
          "output_type": "execute_result",
          "data": {
            "text/plain": [
              "array(['Scotland', 'England', 'Wales', 'Republic of Ireland',\n",
              "       'United States', 'Uruguay', 'Austria', 'Hungary', 'Argentina',\n",
              "       'Belgium', 'France', 'Netherlands', 'Bohemia', 'Switzerland',\n",
              "       'Sweden', 'Germany', 'Italy', 'Chile', 'Norway', 'Finland',\n",
              "       'Luxembourg', 'Russia', 'Denmark', 'Spain', 'Japan', 'Brazil',\n",
              "       'Paraguay', 'China PR', 'Canada', 'Estonia', 'Guatemala',\n",
              "       'Czechoslovakia', 'Poland', 'Yugoslavia', 'New Zealand', 'Romania',\n",
              "       'Latvia', 'Portugal', 'Northern Ireland', 'Australia', 'Lithuania',\n",
              "       'Turkey', 'Mexico', 'Aruba', 'Soviet Union', 'Haiti',\n",
              "       'Philippines', 'Bulgaria', 'Jamaica', 'Kenya', 'Czech Republic',\n",
              "       'Peru', 'Honduras', 'British Guyana', 'Uganda', 'El Salvador',\n",
              "       'Barbados', 'Irish Free State', 'Trinidad and Tobago', 'Greece',\n",
              "       'Curaçao', 'Egypt', 'Dominica', 'Guadeloupe', 'Palestine',\n",
              "       'Netherlands Guyana', 'French Guiana', 'Cuba', 'Colombia',\n",
              "       'Saint Kitts and Nevis', 'Éire', 'Panama', 'Bohemia and Moravia',\n",
              "       'Slovakia', 'Manchuria', 'Croatia', 'Costa Rica', 'Afghanistan',\n",
              "       'Martinique', 'Southern Rhodesia', 'Iceland', 'Albania',\n",
              "       'Madagascar', 'Northern Rhodesia', 'Tanganyika', 'Iran', 'Ecuador',\n",
              "       'French Somaliland', 'Belgian Congo', 'Mauritius', 'Hong Kong',\n",
              "       'Vietnam', 'Macau', 'Ethiopia', 'Suriname', 'Puerto Rico',\n",
              "       'Réunion', 'Israel', 'Sierra Leone', 'Zanzibar', 'Bolivia',\n",
              "       'Gold Coast', 'South Africa', 'Netherlands Antilles',\n",
              "       'New Caledonia', 'Fiji', 'Nigeria', 'Venezuela', 'Ceylon',\n",
              "       'French Polynesia', 'Gambia', 'Singapore', 'Portuguese Guinea',\n",
              "       'German DR', 'New Hebrides', 'Burma', 'Saarland', 'Cambodia',\n",
              "       'India', 'Lebanon', 'Pakistan', 'Malaya', 'South Korea',\n",
              "       'Vietnam Republic', 'Togo', 'Indonesia', 'Sudan', 'Malta', 'Syria',\n",
              "       'Tunisia', 'Nyasaland', 'Ghana', 'Morocco', 'United Arab Republic',\n",
              "       'North Korea', 'Dahomey', 'Guinea-Bissau', 'Mali Federation',\n",
              "       'Mali', 'Vietnam DR', 'Cyprus', 'Iraq', 'Saint Lucia', 'Senegal',\n",
              "       'Libya', 'Gabon', 'Thailand', 'Congo', 'Tanzania', 'Grenada',\n",
              "       'Guinea', 'Central African Republic', 'Cameroon', 'Algeria',\n",
              "       'Kuwait', 'Ivory Coast', 'Lautoka', 'Liberia', 'Malaysia',\n",
              "       'Jordan', 'Zambia', 'Saint Vincent and the Grenadines', 'Bermuda',\n",
              "       'Niger', 'Malawi', 'DR Congo', 'Upper Volta', 'Chinese Taipei',\n",
              "       'Guyana', 'Mauritania', 'Rhodesia', 'Saudi Arabia', 'Eswatini',\n",
              "       'Mozambique', 'Papua New Guinea', 'Bahrain', 'Lesotho', 'Somalia',\n",
              "       'Zaïre', 'Sri Lanka', 'Antigua and Barbuda', 'Faroe Islands',\n",
              "       'Qatar', 'Yemen DPR', 'Burundi', 'Guam', 'Chad', 'Angola',\n",
              "       'Dominican Republic', 'Seychelles', 'São Tomé and Príncipe',\n",
              "       'Botswana', 'Benin', 'Rwanda', 'Bangladesh',\n",
              "       'United Arab Emirates', 'Zimbabwe', 'Oman', 'Equatorial Guinea',\n",
              "       'Cape Verde', 'Liechtenstein', 'Nepal', 'Greenland', 'Vanuatu',\n",
              "       'Western Samoa', 'Belize', 'Brunei', 'Djibouti', 'Burkina Faso',\n",
              "       'Yemen AR', 'Anguilla', 'Nicaragua', 'Cayman Islands', 'Monaco',\n",
              "       'Solomon Islands', 'Sint Maarten', 'Namibia', 'Saint Martin',\n",
              "       'San Marino', 'Slovenia', 'Moldova', 'Ukraine', 'Kazakhstan',\n",
              "       'Tajikistan', 'Uzbekistan', 'Turkmenistan', 'Georgia',\n",
              "       'Kyrgyzstan', 'Armenia', 'Belarus', 'Guernsey', 'Azerbaijan',\n",
              "       'North Macedonia', 'Jersey', 'Montserrat', 'Gibraltar',\n",
              "       'Bosnia and Herzegovina', 'Tonga', 'Andorra', 'Yemen',\n",
              "       'U.S. Virgin Islands', 'Palau', 'Cook Islands',\n",
              "       'British Virgin Islands', 'Eritrea', 'Bahamas', 'Micronesia',\n",
              "       'Maldives', 'Laos', 'Isle of Man', 'Samoa', 'Bhutan',\n",
              "       'Serbia and Montenegro', 'Mayotte', 'Mongolia', 'Northern Cyprus',\n",
              "       'Serbia', 'Montenegro', 'Northern Mariana Islands', 'Comoros',\n",
              "       'Turks and Caicos Islands', 'South Sudan', 'Kosovo', 'East Timor',\n",
              "       'Tahiti', 'Myanmar'], dtype=object)"
            ]
          },
          "metadata": {
            "tags": []
          },
          "execution_count": 23
        }
      ]
    },
    {
      "cell_type": "code",
      "metadata": {
        "id": "Exljs3okEfd_",
        "colab_type": "code",
        "colab": {
          "base_uri": "https://localhost:8080/",
          "height": 767
        },
        "outputId": "e2213520-0371-4031-db60-f68e66d1bf13"
      },
      "source": [
        "results['tournament'].unique()"
      ],
      "execution_count": 24,
      "outputs": [
        {
          "output_type": "execute_result",
          "data": {
            "text/plain": [
              "array(['Friendly', 'British Championship', 'Copa Lipton', 'Copa Newton',\n",
              "       'Copa Premio Honor Argentino', 'Copa Premio Honor Uruguayo',\n",
              "       'Copa Roca', 'Copa América', 'Copa Chevallier Boutell',\n",
              "       'Nordic Championship', 'International Cup', 'Baltic Cup',\n",
              "       'Balkan Cup', 'FIFA World Cup', 'Copa Rio Branco',\n",
              "       'FIFA World Cup qualification', 'CCCF Championship',\n",
              "       'NAFU Championship', 'Copa Oswaldo Cruz',\n",
              "       'Pan American Championship', 'Copa del Pacífico',\n",
              "       \"Copa Bernardo O'Higgins\", 'AFC Asian Cup qualification',\n",
              "       'Atlantic Cup', 'AFC Asian Cup', 'African Cup of Nations',\n",
              "       'Copa Paz del Chaco', 'Merdeka Tournament',\n",
              "       'UEFA Euro qualification', 'UEFA Euro',\n",
              "       'Windward Islands Tournament',\n",
              "       'African Cup of Nations qualification', 'Vietnam Independence Cup',\n",
              "       'Copa Carlos Dittborn', 'CONCACAF Championship',\n",
              "       'Copa Juan Pinto Durán', 'UAFA Cup', 'South Pacific Games',\n",
              "       'CONCACAF Championship qualification', 'Copa Artigas', 'GaNEFo',\n",
              "       \"King's Cup\", 'Gulf Cup', 'Indonesia Tournament', 'Korea Cup',\n",
              "       'Brazil Independence Cup', 'Copa Ramón Castilla',\n",
              "       'Oceania Nations Cup', 'CECAFA Cup', 'Copa Félix Bogado',\n",
              "       'Kirin Cup', 'CFU Caribbean Cup qualification',\n",
              "       'CFU Caribbean Cup', 'Amílcar Cabral Cup', 'Mundialito',\n",
              "       'West African Cup', 'Nehru Cup', 'Merlion Cup', 'UDEAC Cup',\n",
              "       'Rous Cup', 'Lunar New Year Cup', 'Tournoi de France',\n",
              "       'Malta International Tournament', 'Island Games', 'Dynasty Cup',\n",
              "       'UNCAF Cup', 'Gold Cup', 'USA Cup',\n",
              "       'Jordan International Tournament', 'Confederations Cup',\n",
              "       'United Arab Emirates Friendship Tournament',\n",
              "       'Oceania Nations Cup qualification', 'Simba Tournament',\n",
              "       'SAFF Cup', 'AFF Championship', 'King Hassan II Tournament',\n",
              "       'Cyprus International Tournament', 'Dunhill Cup', 'COSAFA Cup',\n",
              "       'Gold Cup qualification', 'SKN Football Festival', 'UNIFFAC Cup',\n",
              "       'WAFF Championship', 'Millennium Cup', \"Prime Minister's Cup\",\n",
              "       'EAFF Championship', 'AFC Challenge Cup', 'FIFI Wild Cup',\n",
              "       'ELF Cup', 'Viva World Cup', 'UAFA Cup qualification',\n",
              "       'AFC Challenge Cup qualification', 'African Nations Championship',\n",
              "       'VFF Cup', 'Dragon Cup', 'ABCS Tournament',\n",
              "       'Nile Basin Tournament', 'Nations Cup', 'Pacific Games', 'OSN Cup',\n",
              "       'CONIFA World Football Cup', 'CONIFA European Football Cup',\n",
              "       'Copa América qualification', 'World Unity Cup',\n",
              "       'Intercontinental Cup', 'AFF Championship qualification',\n",
              "       'UEFA Nations League', 'Atlantic Heritage Cup',\n",
              "       'Inter Games Football Tournament'], dtype=object)"
            ]
          },
          "metadata": {
            "tags": []
          },
          "execution_count": 24
        }
      ]
    },
    {
      "cell_type": "markdown",
      "metadata": {
        "id": "OuF3VlKGaS9v",
        "colab_type": "text"
      },
      "source": [
        "## External Data Validation\n",
        "\n",
        "To cross check the fifa rankings dataset, I used the fifa world ranking website below:\n",
        "\n",
        "https://www.fifa.com/fifa-world-ranking/ranking-table/men/rank/id2/\n",
        "\n",
        "In the website I entered 08 August 1993 to see the rankings, the rankings in the website matched our dataset"
      ]
    },
    {
      "cell_type": "markdown",
      "metadata": {
        "id": "1s9qLSddD_97",
        "colab_type": "text"
      },
      "source": [
        "## Data Cleaning"
      ]
    },
    {
      "cell_type": "markdown",
      "metadata": {
        "id": "cJI56UAXEHtI",
        "colab_type": "text"
      },
      "source": [
        "### Validity"
      ]
    },
    {
      "cell_type": "code",
      "metadata": {
        "id": "wo70DCVAEGeB",
        "colab_type": "code",
        "colab": {
          "base_uri": "https://localhost:8080/",
          "height": 203
        },
        "outputId": "9dd47aab-f1b2-42e2-da39-1c372e63e357"
      },
      "source": [
        "# dropping unnecessary columns. we have been asked to include rank in our training. \n",
        "# looking at the fifa dataset, we have columns that we will not need in our analysis, lets drop those columns\n",
        "\n",
        "fifa.drop('country_abrv', axis=1, inplace=True) # since we already have the country full name, country abrv is not necessary\n",
        "fifa.drop(fifa.iloc[:, 5:14], axis =1, inplace=True) # we will drop the average and average weighted points\n",
        "fifa.head() #preview the head after dropping unnecessary columns"
      ],
      "execution_count": 25,
      "outputs": [
        {
          "output_type": "execute_result",
          "data": {
            "text/html": [
              "<div>\n",
              "<style scoped>\n",
              "    .dataframe tbody tr th:only-of-type {\n",
              "        vertical-align: middle;\n",
              "    }\n",
              "\n",
              "    .dataframe tbody tr th {\n",
              "        vertical-align: top;\n",
              "    }\n",
              "\n",
              "    .dataframe thead th {\n",
              "        text-align: right;\n",
              "    }\n",
              "</style>\n",
              "<table border=\"1\" class=\"dataframe\">\n",
              "  <thead>\n",
              "    <tr style=\"text-align: right;\">\n",
              "      <th></th>\n",
              "      <th>rank</th>\n",
              "      <th>country_full</th>\n",
              "      <th>total_points</th>\n",
              "      <th>previous_points</th>\n",
              "      <th>rank_change</th>\n",
              "      <th>rank_date</th>\n",
              "    </tr>\n",
              "  </thead>\n",
              "  <tbody>\n",
              "    <tr>\n",
              "      <th>0</th>\n",
              "      <td>1</td>\n",
              "      <td>Germany</td>\n",
              "      <td>0.0</td>\n",
              "      <td>57</td>\n",
              "      <td>0</td>\n",
              "      <td>1993-08-08</td>\n",
              "    </tr>\n",
              "    <tr>\n",
              "      <th>1</th>\n",
              "      <td>2</td>\n",
              "      <td>Italy</td>\n",
              "      <td>0.0</td>\n",
              "      <td>57</td>\n",
              "      <td>0</td>\n",
              "      <td>1993-08-08</td>\n",
              "    </tr>\n",
              "    <tr>\n",
              "      <th>2</th>\n",
              "      <td>3</td>\n",
              "      <td>Switzerland</td>\n",
              "      <td>0.0</td>\n",
              "      <td>50</td>\n",
              "      <td>9</td>\n",
              "      <td>1993-08-08</td>\n",
              "    </tr>\n",
              "    <tr>\n",
              "      <th>3</th>\n",
              "      <td>4</td>\n",
              "      <td>Sweden</td>\n",
              "      <td>0.0</td>\n",
              "      <td>55</td>\n",
              "      <td>0</td>\n",
              "      <td>1993-08-08</td>\n",
              "    </tr>\n",
              "    <tr>\n",
              "      <th>4</th>\n",
              "      <td>5</td>\n",
              "      <td>Argentina</td>\n",
              "      <td>0.0</td>\n",
              "      <td>51</td>\n",
              "      <td>5</td>\n",
              "      <td>1993-08-08</td>\n",
              "    </tr>\n",
              "  </tbody>\n",
              "</table>\n",
              "</div>"
            ],
            "text/plain": [
              "   rank country_full  total_points  previous_points  rank_change   rank_date\n",
              "0     1      Germany           0.0               57            0  1993-08-08\n",
              "1     2        Italy           0.0               57            0  1993-08-08\n",
              "2     3  Switzerland           0.0               50            9  1993-08-08\n",
              "3     4       Sweden           0.0               55            0  1993-08-08\n",
              "4     5    Argentina           0.0               51            5  1993-08-08"
            ]
          },
          "metadata": {
            "tags": []
          },
          "execution_count": 25
        }
      ]
    },
    {
      "cell_type": "code",
      "metadata": {
        "id": "6K6JBBjx8Gib",
        "colab_type": "code",
        "colab": {
          "base_uri": "https://localhost:8080/",
          "height": 203
        },
        "outputId": "2c8210cc-dc7c-4020-e748-e0b375c79ecb"
      },
      "source": [
        "# dropping unnecessary columns on results dataframe\n",
        "\n",
        "results = results.drop(['city'], axis=1)\n",
        "results.head()"
      ],
      "execution_count": 26,
      "outputs": [
        {
          "output_type": "execute_result",
          "data": {
            "text/html": [
              "<div>\n",
              "<style scoped>\n",
              "    .dataframe tbody tr th:only-of-type {\n",
              "        vertical-align: middle;\n",
              "    }\n",
              "\n",
              "    .dataframe tbody tr th {\n",
              "        vertical-align: top;\n",
              "    }\n",
              "\n",
              "    .dataframe thead th {\n",
              "        text-align: right;\n",
              "    }\n",
              "</style>\n",
              "<table border=\"1\" class=\"dataframe\">\n",
              "  <thead>\n",
              "    <tr style=\"text-align: right;\">\n",
              "      <th></th>\n",
              "      <th>date</th>\n",
              "      <th>home_team</th>\n",
              "      <th>away_team</th>\n",
              "      <th>home_score</th>\n",
              "      <th>away_score</th>\n",
              "      <th>tournament</th>\n",
              "      <th>country</th>\n",
              "      <th>neutral</th>\n",
              "    </tr>\n",
              "  </thead>\n",
              "  <tbody>\n",
              "    <tr>\n",
              "      <th>0</th>\n",
              "      <td>1872-11-30</td>\n",
              "      <td>Scotland</td>\n",
              "      <td>England</td>\n",
              "      <td>0</td>\n",
              "      <td>0</td>\n",
              "      <td>Friendly</td>\n",
              "      <td>Scotland</td>\n",
              "      <td>False</td>\n",
              "    </tr>\n",
              "    <tr>\n",
              "      <th>1</th>\n",
              "      <td>1873-03-08</td>\n",
              "      <td>England</td>\n",
              "      <td>Scotland</td>\n",
              "      <td>4</td>\n",
              "      <td>2</td>\n",
              "      <td>Friendly</td>\n",
              "      <td>England</td>\n",
              "      <td>False</td>\n",
              "    </tr>\n",
              "    <tr>\n",
              "      <th>2</th>\n",
              "      <td>1874-03-07</td>\n",
              "      <td>Scotland</td>\n",
              "      <td>England</td>\n",
              "      <td>2</td>\n",
              "      <td>1</td>\n",
              "      <td>Friendly</td>\n",
              "      <td>Scotland</td>\n",
              "      <td>False</td>\n",
              "    </tr>\n",
              "    <tr>\n",
              "      <th>3</th>\n",
              "      <td>1875-03-06</td>\n",
              "      <td>England</td>\n",
              "      <td>Scotland</td>\n",
              "      <td>2</td>\n",
              "      <td>2</td>\n",
              "      <td>Friendly</td>\n",
              "      <td>England</td>\n",
              "      <td>False</td>\n",
              "    </tr>\n",
              "    <tr>\n",
              "      <th>4</th>\n",
              "      <td>1876-03-04</td>\n",
              "      <td>Scotland</td>\n",
              "      <td>England</td>\n",
              "      <td>3</td>\n",
              "      <td>0</td>\n",
              "      <td>Friendly</td>\n",
              "      <td>Scotland</td>\n",
              "      <td>False</td>\n",
              "    </tr>\n",
              "  </tbody>\n",
              "</table>\n",
              "</div>"
            ],
            "text/plain": [
              "         date home_team away_team  ...  tournament   country neutral\n",
              "0  1872-11-30  Scotland   England  ...    Friendly  Scotland   False\n",
              "1  1873-03-08   England  Scotland  ...    Friendly   England   False\n",
              "2  1874-03-07  Scotland   England  ...    Friendly  Scotland   False\n",
              "3  1875-03-06   England  Scotland  ...    Friendly   England   False\n",
              "4  1876-03-04  Scotland   England  ...    Friendly  Scotland   False\n",
              "\n",
              "[5 rows x 8 columns]"
            ]
          },
          "metadata": {
            "tags": []
          },
          "execution_count": 26
        }
      ]
    },
    {
      "cell_type": "code",
      "metadata": {
        "id": "-3Un-usUEiNY",
        "colab_type": "code",
        "colab": {
          "base_uri": "https://localhost:8080/",
          "height": 156
        },
        "outputId": "8809fcaf-a2c9-4a82-caa3-c1f3518022ad"
      },
      "source": [
        "\n",
        "fifa.rename({'country_full': 'country'}, axis =1, inplace=True) # renaming country_full in fifa to country\n",
        "print(fifa.head(2))\n",
        "results.rename({'date': 'dateofmatch'}, axis =1, inplace=True) # renaming date to date of match in results dataset\n",
        "                                                            # to add context to it so that it's not just a regular da\n",
        "print(results.head(2))\n",
        "\n",
        "# Great! the two columns have been renamed correctly"
      ],
      "execution_count": 27,
      "outputs": [
        {
          "output_type": "stream",
          "text": [
            "   rank  country  total_points  previous_points  rank_change   rank_date\n",
            "0     1  Germany           0.0               57            0  1993-08-08\n",
            "1     2    Italy           0.0               57            0  1993-08-08\n",
            "  dateofmatch home_team away_team  ...  tournament   country neutral\n",
            "0  1872-11-30  Scotland   England  ...    Friendly  Scotland   False\n",
            "1  1873-03-08   England  Scotland  ...    Friendly   England   False\n",
            "\n",
            "[2 rows x 8 columns]\n"
          ],
          "name": "stdout"
        }
      ]
    },
    {
      "cell_type": "markdown",
      "metadata": {
        "id": "7PB5LXLvEOU8",
        "colab_type": "text"
      },
      "source": [
        "### Completeness"
      ]
    },
    {
      "cell_type": "code",
      "metadata": {
        "id": "X8EoEpMNERnX",
        "colab_type": "code",
        "colab": {
          "base_uri": "https://localhost:8080/",
          "height": 52
        },
        "outputId": "fab2e058-382e-45fb-f32d-db69db58b531"
      },
      "source": [
        "# checking for missing values in both datasets\n",
        "\n",
        "print(fifa.isnull().values.any())\n",
        "print(results.isnull().values.any())\n",
        "\n",
        "# We have no missing value in both datasets"
      ],
      "execution_count": 28,
      "outputs": [
        {
          "output_type": "stream",
          "text": [
            "False\n",
            "False\n"
          ],
          "name": "stdout"
        }
      ]
    },
    {
      "cell_type": "markdown",
      "metadata": {
        "id": "K1COZryBER_F",
        "colab_type": "text"
      },
      "source": [
        "### Consistency"
      ]
    },
    {
      "cell_type": "code",
      "metadata": {
        "id": "23ngdtWhEXHo",
        "colab_type": "code",
        "colab": {
          "base_uri": "https://localhost:8080/",
          "height": 290
        },
        "outputId": "36e1939c-f5f7-482b-bd14-504068050584"
      },
      "source": [
        "# checking for duplicated values\n",
        "\n",
        "print(fifa.duplicated().values.any())\n",
        "print(fifa.duplicated().sum())\n",
        "print(results.duplicated().values.any())\n",
        "print(results.duplicated().sum())\n",
        "\n",
        "# fifa has some duplicated values, let's explore the records further. there are no duplicated values in results dataset\n",
        "fifa_duplicated = fifa[fifa.duplicated()]\n",
        "# checking for the shape of the duplicated records\n",
        "print(fifa_duplicated.shape)\n",
        "fifa_duplicated.head(5)\n",
        "\n",
        "# there is a total of 37 duplicated records\n",
        "# after further inspection on the duplicated values,\n",
        "# we see that it's only the country column that is duplicated, the rest of the values in the records are different\n",
        "# we wont be dropping these values as there is no legit reason to."
      ],
      "execution_count": 29,
      "outputs": [
        {
          "output_type": "stream",
          "text": [
            "True\n",
            "37\n",
            "False\n",
            "0\n",
            "(37, 6)\n"
          ],
          "name": "stdout"
        },
        {
          "output_type": "execute_result",
          "data": {
            "text/html": [
              "<div>\n",
              "<style scoped>\n",
              "    .dataframe tbody tr th:only-of-type {\n",
              "        vertical-align: middle;\n",
              "    }\n",
              "\n",
              "    .dataframe tbody tr th {\n",
              "        vertical-align: top;\n",
              "    }\n",
              "\n",
              "    .dataframe thead th {\n",
              "        text-align: right;\n",
              "    }\n",
              "</style>\n",
              "<table border=\"1\" class=\"dataframe\">\n",
              "  <thead>\n",
              "    <tr style=\"text-align: right;\">\n",
              "      <th></th>\n",
              "      <th>rank</th>\n",
              "      <th>country</th>\n",
              "      <th>total_points</th>\n",
              "      <th>previous_points</th>\n",
              "      <th>rank_change</th>\n",
              "      <th>rank_date</th>\n",
              "    </tr>\n",
              "  </thead>\n",
              "  <tbody>\n",
              "    <tr>\n",
              "      <th>41320</th>\n",
              "      <td>113</td>\n",
              "      <td>Sudan</td>\n",
              "      <td>297.13</td>\n",
              "      <td>304</td>\n",
              "      <td>-1</td>\n",
              "      <td>2011-12-21</td>\n",
              "    </tr>\n",
              "    <tr>\n",
              "      <th>41536</th>\n",
              "      <td>120</td>\n",
              "      <td>Sudan</td>\n",
              "      <td>264.81</td>\n",
              "      <td>297</td>\n",
              "      <td>-7</td>\n",
              "      <td>2012-01-18</td>\n",
              "    </tr>\n",
              "    <tr>\n",
              "      <th>41736</th>\n",
              "      <td>111</td>\n",
              "      <td>Sudan</td>\n",
              "      <td>301.67</td>\n",
              "      <td>265</td>\n",
              "      <td>9</td>\n",
              "      <td>2012-02-15</td>\n",
              "    </tr>\n",
              "    <tr>\n",
              "      <th>41944</th>\n",
              "      <td>110</td>\n",
              "      <td>Sudan</td>\n",
              "      <td>299.75</td>\n",
              "      <td>302</td>\n",
              "      <td>1</td>\n",
              "      <td>2012-03-07</td>\n",
              "    </tr>\n",
              "    <tr>\n",
              "      <th>42157</th>\n",
              "      <td>113</td>\n",
              "      <td>Sudan</td>\n",
              "      <td>292.03</td>\n",
              "      <td>300</td>\n",
              "      <td>-3</td>\n",
              "      <td>2012-04-11</td>\n",
              "    </tr>\n",
              "  </tbody>\n",
              "</table>\n",
              "</div>"
            ],
            "text/plain": [
              "       rank country  total_points  previous_points  rank_change   rank_date\n",
              "41320   113   Sudan        297.13              304           -1  2011-12-21\n",
              "41536   120   Sudan        264.81              297           -7  2012-01-18\n",
              "41736   111   Sudan        301.67              265            9  2012-02-15\n",
              "41944   110   Sudan        299.75              302            1  2012-03-07\n",
              "42157   113   Sudan        292.03              300           -3  2012-04-11"
            ]
          },
          "metadata": {
            "tags": []
          },
          "execution_count": 29
        }
      ]
    },
    {
      "cell_type": "markdown",
      "metadata": {
        "id": "ifNGZwRWEXf0",
        "colab_type": "text"
      },
      "source": [
        "### Uniformity"
      ]
    },
    {
      "cell_type": "code",
      "metadata": {
        "id": "52bAck0AEc6c",
        "colab_type": "code",
        "colab": {
          "base_uri": "https://localhost:8080/",
          "height": 296
        },
        "outputId": "03728efd-daf9-45e9-e322-44ca0d7fa45d"
      },
      "source": [
        "# from earlier dataset explorations, we saw that both fifa and results datasets had\n",
        "# rank date and date as objects, let's convert that to date time frame\n",
        "\n",
        "fifa['rank_date'] = pd.to_datetime(fifa['rank_date'])\n",
        "print(fifa.dtypes)\n",
        "\n",
        "results['dateofmatch'] = pd.to_datetime(results['dateofmatch'])\n",
        "print(results.dtypes)\n",
        "\n",
        "# both datasets have the correct data types now"
      ],
      "execution_count": 30,
      "outputs": [
        {
          "output_type": "stream",
          "text": [
            "rank                        int64\n",
            "country                    object\n",
            "total_points              float64\n",
            "previous_points             int64\n",
            "rank_change                 int64\n",
            "rank_date          datetime64[ns]\n",
            "dtype: object\n",
            "dateofmatch    datetime64[ns]\n",
            "home_team              object\n",
            "away_team              object\n",
            "home_score              int64\n",
            "away_score              int64\n",
            "tournament             object\n",
            "country                object\n",
            "neutral                  bool\n",
            "dtype: object\n"
          ],
          "name": "stdout"
        }
      ]
    },
    {
      "cell_type": "code",
      "metadata": {
        "id": "4jxKYv0KS_q1",
        "colab_type": "code",
        "colab": {}
      },
      "source": [
        "# extracting year from date column in fifa dataframe\n",
        "\n",
        "# fifa['rank_year'] = pd.DatetimeIndex(fifa['rank_date']).year\n",
        "# fifa.head()"
      ],
      "execution_count": 31,
      "outputs": []
    },
    {
      "cell_type": "code",
      "metadata": {
        "id": "IqevMJ3PTQC0",
        "colab_type": "code",
        "colab": {}
      },
      "source": [
        "# dropping the rank date column because we dont need it anymore\n",
        "# fifa= fifa.drop(['rank_date'], axis=1)\n",
        "# fifa.head()"
      ],
      "execution_count": 32,
      "outputs": []
    },
    {
      "cell_type": "code",
      "metadata": {
        "id": "VQRzeJAkSZxb",
        "colab_type": "code",
        "colab": {}
      },
      "source": [
        "# extracting year from date column in results dataset\n",
        "\n",
        "# results['yearofMatch'] = pd.DatetimeIndex(results['date']).year\n",
        "# results.head()"
      ],
      "execution_count": 33,
      "outputs": []
    },
    {
      "cell_type": "code",
      "metadata": {
        "id": "V7jruCQNS2FU",
        "colab_type": "code",
        "colab": {}
      },
      "source": [
        "# dropping the date column because we dont need it anymore\n",
        "\n",
        "# results = results.drop(['date'], axis=1)\n",
        "# results.head()"
      ],
      "execution_count": 34,
      "outputs": []
    },
    {
      "cell_type": "markdown",
      "metadata": {
        "id": "wAF6Q1lLEmq-",
        "colab_type": "text"
      },
      "source": [
        "### Outliers"
      ]
    },
    {
      "cell_type": "code",
      "metadata": {
        "id": "yE1MU8-z7WZC",
        "colab_type": "code",
        "colab": {
          "base_uri": "https://localhost:8080/",
          "height": 570
        },
        "outputId": "f2c7afd7-f952-4eb3-b671-1993769165d5"
      },
      "source": [
        "# plotting boxplot for numerical variable (rank) in fifa dataframe to check for any outliers\n",
        "\n",
        "boxplot = fifa.boxplot(column=['rank', 'total_points', 'previous_points', 'rank_change'],\n",
        "                       grid=True, rot=45, fontsize=15, figsize=(10, 8))\n",
        "\n",
        "# We have a clean boxplot of rank column showing no outliers for this column\n",
        "# total points column has a bunch og outliers but we wont be dropping any of them\n",
        "# because it's possible that a country would have more than 250 and up to 1750 points throughout the years\n",
        "# We also have some outliers on the previous points column and we wont be dropping those as well as there is no\n",
        "# legit reason to, it is part our data\n",
        "# the rank change column has a lot of outliers that dont make sense to drop so we will keep the column as it is"
      ],
      "execution_count": 35,
      "outputs": [
        {
          "output_type": "display_data",
          "data": {
            "image/png": "[encoded data removed]",
            "text/plain": [
              "<Figure size 720x576 with 1 Axes>"
            ]
          },
          "metadata": {
            "tags": [],
            "needs_background": "light"
          }
        }
      ]
    },
    {
      "cell_type": "code",
      "metadata": {
        "id": "npnvdAxGQ4bZ",
        "colab_type": "code",
        "colab": {
          "base_uri": "https://localhost:8080/",
          "height": 203
        },
        "outputId": "6891ff50-5183-464a-bdf1-adb09db34ab6"
      },
      "source": [
        "results.head()"
      ],
      "execution_count": 36,
      "outputs": [
        {
          "output_type": "execute_result",
          "data": {
            "text/html": [
              "<div>\n",
              "<style scoped>\n",
              "    .dataframe tbody tr th:only-of-type {\n",
              "        vertical-align: middle;\n",
              "    }\n",
              "\n",
              "    .dataframe tbody tr th {\n",
              "        vertical-align: top;\n",
              "    }\n",
              "\n",
              "    .dataframe thead th {\n",
              "        text-align: right;\n",
              "    }\n",
              "</style>\n",
              "<table border=\"1\" class=\"dataframe\">\n",
              "  <thead>\n",
              "    <tr style=\"text-align: right;\">\n",
              "      <th></th>\n",
              "      <th>dateofmatch</th>\n",
              "      <th>home_team</th>\n",
              "      <th>away_team</th>\n",
              "      <th>home_score</th>\n",
              "      <th>away_score</th>\n",
              "      <th>tournament</th>\n",
              "      <th>country</th>\n",
              "      <th>neutral</th>\n",
              "    </tr>\n",
              "  </thead>\n",
              "  <tbody>\n",
              "    <tr>\n",
              "      <th>0</th>\n",
              "      <td>1872-11-30</td>\n",
              "      <td>Scotland</td>\n",
              "      <td>England</td>\n",
              "      <td>0</td>\n",
              "      <td>0</td>\n",
              "      <td>Friendly</td>\n",
              "      <td>Scotland</td>\n",
              "      <td>False</td>\n",
              "    </tr>\n",
              "    <tr>\n",
              "      <th>1</th>\n",
              "      <td>1873-03-08</td>\n",
              "      <td>England</td>\n",
              "      <td>Scotland</td>\n",
              "      <td>4</td>\n",
              "      <td>2</td>\n",
              "      <td>Friendly</td>\n",
              "      <td>England</td>\n",
              "      <td>False</td>\n",
              "    </tr>\n",
              "    <tr>\n",
              "      <th>2</th>\n",
              "      <td>1874-03-07</td>\n",
              "      <td>Scotland</td>\n",
              "      <td>England</td>\n",
              "      <td>2</td>\n",
              "      <td>1</td>\n",
              "      <td>Friendly</td>\n",
              "      <td>Scotland</td>\n",
              "      <td>False</td>\n",
              "    </tr>\n",
              "    <tr>\n",
              "      <th>3</th>\n",
              "      <td>1875-03-06</td>\n",
              "      <td>England</td>\n",
              "      <td>Scotland</td>\n",
              "      <td>2</td>\n",
              "      <td>2</td>\n",
              "      <td>Friendly</td>\n",
              "      <td>England</td>\n",
              "      <td>False</td>\n",
              "    </tr>\n",
              "    <tr>\n",
              "      <th>4</th>\n",
              "      <td>1876-03-04</td>\n",
              "      <td>Scotland</td>\n",
              "      <td>England</td>\n",
              "      <td>3</td>\n",
              "      <td>0</td>\n",
              "      <td>Friendly</td>\n",
              "      <td>Scotland</td>\n",
              "      <td>False</td>\n",
              "    </tr>\n",
              "  </tbody>\n",
              "</table>\n",
              "</div>"
            ],
            "text/plain": [
              "  dateofmatch home_team away_team  ...  tournament   country neutral\n",
              "0  1872-11-30  Scotland   England  ...    Friendly  Scotland   False\n",
              "1  1873-03-08   England  Scotland  ...    Friendly   England   False\n",
              "2  1874-03-07  Scotland   England  ...    Friendly  Scotland   False\n",
              "3  1875-03-06   England  Scotland  ...    Friendly   England   False\n",
              "4  1876-03-04  Scotland   England  ...    Friendly  Scotland   False\n",
              "\n",
              "[5 rows x 8 columns]"
            ]
          },
          "metadata": {
            "tags": []
          },
          "execution_count": 36
        }
      ]
    },
    {
      "cell_type": "code",
      "metadata": {
        "id": "3g93fsXc9vkf",
        "colab_type": "code",
        "colab": {
          "base_uri": "https://localhost:8080/",
          "height": 489
        },
        "outputId": "ee61f98f-5caa-464a-9a35-a4b94835f6c4"
      },
      "source": [
        "# checking for outliers in results dataframe\n",
        "boxplot = results.boxplot(column=['home_score', 'away_score'], grid=True, rot=0, fontsize=15, figsize=(10,8))"
      ],
      "execution_count": 37,
      "outputs": [
        {
          "output_type": "display_data",
          "data": {
            "image/png": "[encoded data removed]",
            "text/plain": [
              "<Figure size 720x576 with 1 Axes>"
            ]
          },
          "metadata": {
            "tags": [],
            "needs_background": "light"
          }
        }
      ]
    },
    {
      "cell_type": "markdown",
      "metadata": {
        "id": "tTjzjSlSBrbU",
        "colab_type": "text"
      },
      "source": [
        "We see a bunch of outliers in home_score and away_score columns. We wont be dropping this records because it's possible for a team to score more than 3 goals at home and more than 5 goals away"
      ]
    },
    {
      "cell_type": "code",
      "metadata": {
        "id": "1Po6ckyYdaB6",
        "colab_type": "code",
        "colab": {
          "base_uri": "https://localhost:8080/",
          "height": 79
        },
        "outputId": "5b43698a-a098-492e-fdb8-5fce5d31c3f8"
      },
      "source": [
        "fifa.head(1)"
      ],
      "execution_count": 38,
      "outputs": [
        {
          "output_type": "execute_result",
          "data": {
            "text/html": [
              "<div>\n",
              "<style scoped>\n",
              "    .dataframe tbody tr th:only-of-type {\n",
              "        vertical-align: middle;\n",
              "    }\n",
              "\n",
              "    .dataframe tbody tr th {\n",
              "        vertical-align: top;\n",
              "    }\n",
              "\n",
              "    .dataframe thead th {\n",
              "        text-align: right;\n",
              "    }\n",
              "</style>\n",
              "<table border=\"1\" class=\"dataframe\">\n",
              "  <thead>\n",
              "    <tr style=\"text-align: right;\">\n",
              "      <th></th>\n",
              "      <th>rank</th>\n",
              "      <th>country</th>\n",
              "      <th>total_points</th>\n",
              "      <th>previous_points</th>\n",
              "      <th>rank_change</th>\n",
              "      <th>rank_date</th>\n",
              "    </tr>\n",
              "  </thead>\n",
              "  <tbody>\n",
              "    <tr>\n",
              "      <th>0</th>\n",
              "      <td>1</td>\n",
              "      <td>Germany</td>\n",
              "      <td>0.0</td>\n",
              "      <td>57</td>\n",
              "      <td>0</td>\n",
              "      <td>1993-08-08</td>\n",
              "    </tr>\n",
              "  </tbody>\n",
              "</table>\n",
              "</div>"
            ],
            "text/plain": [
              "   rank  country  total_points  previous_points  rank_change  rank_date\n",
              "0     1  Germany           0.0               57            0 1993-08-08"
            ]
          },
          "metadata": {
            "tags": []
          },
          "execution_count": 38
        }
      ]
    },
    {
      "cell_type": "code",
      "metadata": {
        "id": "7Sf4B3ZEdhST",
        "colab_type": "code",
        "colab": {
          "base_uri": "https://localhost:8080/",
          "height": 202
        },
        "outputId": "2dbd6b4a-1878-481f-a130-382fcd53d63e"
      },
      "source": [
        "results.head()"
      ],
      "execution_count": 39,
      "outputs": [
        {
          "output_type": "execute_result",
          "data": {
            "text/html": [
              "<div>\n",
              "<style scoped>\n",
              "    .dataframe tbody tr th:only-of-type {\n",
              "        vertical-align: middle;\n",
              "    }\n",
              "\n",
              "    .dataframe tbody tr th {\n",
              "        vertical-align: top;\n",
              "    }\n",
              "\n",
              "    .dataframe thead th {\n",
              "        text-align: right;\n",
              "    }\n",
              "</style>\n",
              "<table border=\"1\" class=\"dataframe\">\n",
              "  <thead>\n",
              "    <tr style=\"text-align: right;\">\n",
              "      <th></th>\n",
              "      <th>dateofmatch</th>\n",
              "      <th>home_team</th>\n",
              "      <th>away_team</th>\n",
              "      <th>home_score</th>\n",
              "      <th>away_score</th>\n",
              "      <th>tournament</th>\n",
              "      <th>country</th>\n",
              "      <th>neutral</th>\n",
              "    </tr>\n",
              "  </thead>\n",
              "  <tbody>\n",
              "    <tr>\n",
              "      <th>0</th>\n",
              "      <td>1872-11-30</td>\n",
              "      <td>Scotland</td>\n",
              "      <td>England</td>\n",
              "      <td>0</td>\n",
              "      <td>0</td>\n",
              "      <td>Friendly</td>\n",
              "      <td>Scotland</td>\n",
              "      <td>False</td>\n",
              "    </tr>\n",
              "    <tr>\n",
              "      <th>1</th>\n",
              "      <td>1873-03-08</td>\n",
              "      <td>England</td>\n",
              "      <td>Scotland</td>\n",
              "      <td>4</td>\n",
              "      <td>2</td>\n",
              "      <td>Friendly</td>\n",
              "      <td>England</td>\n",
              "      <td>False</td>\n",
              "    </tr>\n",
              "    <tr>\n",
              "      <th>2</th>\n",
              "      <td>1874-03-07</td>\n",
              "      <td>Scotland</td>\n",
              "      <td>England</td>\n",
              "      <td>2</td>\n",
              "      <td>1</td>\n",
              "      <td>Friendly</td>\n",
              "      <td>Scotland</td>\n",
              "      <td>False</td>\n",
              "    </tr>\n",
              "    <tr>\n",
              "      <th>3</th>\n",
              "      <td>1875-03-06</td>\n",
              "      <td>England</td>\n",
              "      <td>Scotland</td>\n",
              "      <td>2</td>\n",
              "      <td>2</td>\n",
              "      <td>Friendly</td>\n",
              "      <td>England</td>\n",
              "      <td>False</td>\n",
              "    </tr>\n",
              "    <tr>\n",
              "      <th>4</th>\n",
              "      <td>1876-03-04</td>\n",
              "      <td>Scotland</td>\n",
              "      <td>England</td>\n",
              "      <td>3</td>\n",
              "      <td>0</td>\n",
              "      <td>Friendly</td>\n",
              "      <td>Scotland</td>\n",
              "      <td>False</td>\n",
              "    </tr>\n",
              "  </tbody>\n",
              "</table>\n",
              "</div>"
            ],
            "text/plain": [
              "  dateofmatch home_team away_team  ...  tournament   country neutral\n",
              "0  1872-11-30  Scotland   England  ...    Friendly  Scotland   False\n",
              "1  1873-03-08   England  Scotland  ...    Friendly   England   False\n",
              "2  1874-03-07  Scotland   England  ...    Friendly  Scotland   False\n",
              "3  1875-03-06   England  Scotland  ...    Friendly   England   False\n",
              "4  1876-03-04  Scotland   England  ...    Friendly  Scotland   False\n",
              "\n",
              "[5 rows x 8 columns]"
            ]
          },
          "metadata": {
            "tags": []
          },
          "execution_count": 39
        }
      ]
    },
    {
      "cell_type": "markdown",
      "metadata": {
        "id": "o2qWsdWCEsPi",
        "colab_type": "text"
      },
      "source": [
        "### Merging the datasets"
      ]
    },
    {
      "cell_type": "code",
      "metadata": {
        "id": "dO5I6rzKmU5n",
        "colab_type": "code",
        "colab": {
          "base_uri": "https://localhost:8080/",
          "height": 203
        },
        "outputId": "31773bad-31a9-4c53-f4e5-41ae641b6109"
      },
      "source": [
        "fifa['rank_year_month'] = pd.to_datetime(fifa['rank_date']).dt.to_period('M') # extracting month and year from the rank date column\n",
        "fifa.drop('rank_date', axis=1, inplace=True) #dropping the rank_date column\n",
        "fifa.head()"
      ],
      "execution_count": 40,
      "outputs": [
        {
          "output_type": "execute_result",
          "data": {
            "text/html": [
              "<div>\n",
              "<style scoped>\n",
              "    .dataframe tbody tr th:only-of-type {\n",
              "        vertical-align: middle;\n",
              "    }\n",
              "\n",
              "    .dataframe tbody tr th {\n",
              "        vertical-align: top;\n",
              "    }\n",
              "\n",
              "    .dataframe thead th {\n",
              "        text-align: right;\n",
              "    }\n",
              "</style>\n",
              "<table border=\"1\" class=\"dataframe\">\n",
              "  <thead>\n",
              "    <tr style=\"text-align: right;\">\n",
              "      <th></th>\n",
              "      <th>rank</th>\n",
              "      <th>country</th>\n",
              "      <th>total_points</th>\n",
              "      <th>previous_points</th>\n",
              "      <th>rank_change</th>\n",
              "      <th>rank_year_month</th>\n",
              "    </tr>\n",
              "  </thead>\n",
              "  <tbody>\n",
              "    <tr>\n",
              "      <th>0</th>\n",
              "      <td>1</td>\n",
              "      <td>Germany</td>\n",
              "      <td>0.0</td>\n",
              "      <td>57</td>\n",
              "      <td>0</td>\n",
              "      <td>1993-08</td>\n",
              "    </tr>\n",
              "    <tr>\n",
              "      <th>1</th>\n",
              "      <td>2</td>\n",
              "      <td>Italy</td>\n",
              "      <td>0.0</td>\n",
              "      <td>57</td>\n",
              "      <td>0</td>\n",
              "      <td>1993-08</td>\n",
              "    </tr>\n",
              "    <tr>\n",
              "      <th>2</th>\n",
              "      <td>3</td>\n",
              "      <td>Switzerland</td>\n",
              "      <td>0.0</td>\n",
              "      <td>50</td>\n",
              "      <td>9</td>\n",
              "      <td>1993-08</td>\n",
              "    </tr>\n",
              "    <tr>\n",
              "      <th>3</th>\n",
              "      <td>4</td>\n",
              "      <td>Sweden</td>\n",
              "      <td>0.0</td>\n",
              "      <td>55</td>\n",
              "      <td>0</td>\n",
              "      <td>1993-08</td>\n",
              "    </tr>\n",
              "    <tr>\n",
              "      <th>4</th>\n",
              "      <td>5</td>\n",
              "      <td>Argentina</td>\n",
              "      <td>0.0</td>\n",
              "      <td>51</td>\n",
              "      <td>5</td>\n",
              "      <td>1993-08</td>\n",
              "    </tr>\n",
              "  </tbody>\n",
              "</table>\n",
              "</div>"
            ],
            "text/plain": [
              "   rank      country  ...  rank_change  rank_year_month\n",
              "0     1      Germany  ...            0          1993-08\n",
              "1     2        Italy  ...            0          1993-08\n",
              "2     3  Switzerland  ...            9          1993-08\n",
              "3     4       Sweden  ...            0          1993-08\n",
              "4     5    Argentina  ...            5          1993-08\n",
              "\n",
              "[5 rows x 6 columns]"
            ]
          },
          "metadata": {
            "tags": []
          },
          "execution_count": 40
        }
      ]
    },
    {
      "cell_type": "code",
      "metadata": {
        "id": "vvIo-cTMnp78",
        "colab_type": "code",
        "colab": {
          "base_uri": "https://localhost:8080/",
          "height": 141
        },
        "outputId": "090a5195-d0ae-416b-b4c4-fb4bd3f09b37"
      },
      "source": [
        "results['yr&monthofmatch'] = pd.to_datetime(results['dateofmatch']).dt.to_period('M') # extracting month and year from dateofmatch column\n",
        "results.drop('dateofmatch', axis=1, inplace=True) # dropping the dateofmatch column\n",
        "results.head(3)"
      ],
      "execution_count": 41,
      "outputs": [
        {
          "output_type": "execute_result",
          "data": {
            "text/html": [
              "<div>\n",
              "<style scoped>\n",
              "    .dataframe tbody tr th:only-of-type {\n",
              "        vertical-align: middle;\n",
              "    }\n",
              "\n",
              "    .dataframe tbody tr th {\n",
              "        vertical-align: top;\n",
              "    }\n",
              "\n",
              "    .dataframe thead th {\n",
              "        text-align: right;\n",
              "    }\n",
              "</style>\n",
              "<table border=\"1\" class=\"dataframe\">\n",
              "  <thead>\n",
              "    <tr style=\"text-align: right;\">\n",
              "      <th></th>\n",
              "      <th>home_team</th>\n",
              "      <th>away_team</th>\n",
              "      <th>home_score</th>\n",
              "      <th>away_score</th>\n",
              "      <th>tournament</th>\n",
              "      <th>country</th>\n",
              "      <th>neutral</th>\n",
              "      <th>yr&amp;monthofmatch</th>\n",
              "    </tr>\n",
              "  </thead>\n",
              "  <tbody>\n",
              "    <tr>\n",
              "      <th>0</th>\n",
              "      <td>Scotland</td>\n",
              "      <td>England</td>\n",
              "      <td>0</td>\n",
              "      <td>0</td>\n",
              "      <td>Friendly</td>\n",
              "      <td>Scotland</td>\n",
              "      <td>False</td>\n",
              "      <td>1872-11</td>\n",
              "    </tr>\n",
              "    <tr>\n",
              "      <th>1</th>\n",
              "      <td>England</td>\n",
              "      <td>Scotland</td>\n",
              "      <td>4</td>\n",
              "      <td>2</td>\n",
              "      <td>Friendly</td>\n",
              "      <td>England</td>\n",
              "      <td>False</td>\n",
              "      <td>1873-03</td>\n",
              "    </tr>\n",
              "    <tr>\n",
              "      <th>2</th>\n",
              "      <td>Scotland</td>\n",
              "      <td>England</td>\n",
              "      <td>2</td>\n",
              "      <td>1</td>\n",
              "      <td>Friendly</td>\n",
              "      <td>Scotland</td>\n",
              "      <td>False</td>\n",
              "      <td>1874-03</td>\n",
              "    </tr>\n",
              "  </tbody>\n",
              "</table>\n",
              "</div>"
            ],
            "text/plain": [
              "  home_team away_team  home_score  ...   country neutral yr&monthofmatch\n",
              "0  Scotland   England           0  ...  Scotland   False         1872-11\n",
              "1   England  Scotland           4  ...   England   False         1873-03\n",
              "2  Scotland   England           2  ...  Scotland   False         1874-03\n",
              "\n",
              "[3 rows x 8 columns]"
            ]
          },
          "metadata": {
            "tags": []
          },
          "execution_count": 41
        }
      ]
    },
    {
      "cell_type": "code",
      "metadata": {
        "id": "eD_9zlIgrbCq",
        "colab_type": "code",
        "colab": {
          "base_uri": "https://localhost:8080/",
          "height": 411
        },
        "outputId": "cff654ec-cd21-4141-ae82-6cd8e198a906"
      },
      "source": [
        "# merging the two dataframes\n",
        "\n",
        "merged = results.merge(fifa, how = 'inner', left_on = ['yr&monthofmatch', 'home_team'], \n",
        "                      right_on=['rank_year_month', 'country'])\n",
        "final_merge = merged.merge(fifa, how = 'inner', left_on = ['yr&monthofmatch', 'away_team'],\n",
        "                      right_on=['rank_year_month', 'country'], suffixes=('_home', '_away'))\n",
        "print(final_merge.shape)\n",
        "final_merge.head()"
      ],
      "execution_count": 42,
      "outputs": [
        {
          "output_type": "stream",
          "text": [
            "(16957, 20)\n"
          ],
          "name": "stdout"
        },
        {
          "output_type": "execute_result",
          "data": {
            "text/html": [
              "<div>\n",
              "<style scoped>\n",
              "    .dataframe tbody tr th:only-of-type {\n",
              "        vertical-align: middle;\n",
              "    }\n",
              "\n",
              "    .dataframe tbody tr th {\n",
              "        vertical-align: top;\n",
              "    }\n",
              "\n",
              "    .dataframe thead th {\n",
              "        text-align: right;\n",
              "    }\n",
              "</style>\n",
              "<table border=\"1\" class=\"dataframe\">\n",
              "  <thead>\n",
              "    <tr style=\"text-align: right;\">\n",
              "      <th></th>\n",
              "      <th>home_team</th>\n",
              "      <th>away_team</th>\n",
              "      <th>home_score</th>\n",
              "      <th>away_score</th>\n",
              "      <th>tournament</th>\n",
              "      <th>country_x</th>\n",
              "      <th>neutral</th>\n",
              "      <th>yr&amp;monthofmatch</th>\n",
              "      <th>rank_home</th>\n",
              "      <th>country_y</th>\n",
              "      <th>total_points_home</th>\n",
              "      <th>previous_points_home</th>\n",
              "      <th>rank_change_home</th>\n",
              "      <th>rank_year_month_home</th>\n",
              "      <th>rank_away</th>\n",
              "      <th>country</th>\n",
              "      <th>total_points_away</th>\n",
              "      <th>previous_points_away</th>\n",
              "      <th>rank_change_away</th>\n",
              "      <th>rank_year_month_away</th>\n",
              "    </tr>\n",
              "  </thead>\n",
              "  <tbody>\n",
              "    <tr>\n",
              "      <th>0</th>\n",
              "      <td>Colombia</td>\n",
              "      <td>Paraguay</td>\n",
              "      <td>0</td>\n",
              "      <td>0</td>\n",
              "      <td>FIFA World Cup qualification</td>\n",
              "      <td>Colombia</td>\n",
              "      <td>False</td>\n",
              "      <td>1993-08</td>\n",
              "      <td>19</td>\n",
              "      <td>Colombia</td>\n",
              "      <td>0.0</td>\n",
              "      <td>36</td>\n",
              "      <td>16</td>\n",
              "      <td>1993-08</td>\n",
              "      <td>67</td>\n",
              "      <td>Paraguay</td>\n",
              "      <td>0.0</td>\n",
              "      <td>22</td>\n",
              "      <td>1</td>\n",
              "      <td>1993-08</td>\n",
              "    </tr>\n",
              "    <tr>\n",
              "      <th>1</th>\n",
              "      <td>Argentina</td>\n",
              "      <td>Paraguay</td>\n",
              "      <td>0</td>\n",
              "      <td>0</td>\n",
              "      <td>FIFA World Cup qualification</td>\n",
              "      <td>Argentina</td>\n",
              "      <td>False</td>\n",
              "      <td>1993-08</td>\n",
              "      <td>5</td>\n",
              "      <td>Argentina</td>\n",
              "      <td>0.0</td>\n",
              "      <td>51</td>\n",
              "      <td>5</td>\n",
              "      <td>1993-08</td>\n",
              "      <td>67</td>\n",
              "      <td>Paraguay</td>\n",
              "      <td>0.0</td>\n",
              "      <td>22</td>\n",
              "      <td>1</td>\n",
              "      <td>1993-08</td>\n",
              "    </tr>\n",
              "    <tr>\n",
              "      <th>2</th>\n",
              "      <td>Colombia</td>\n",
              "      <td>Argentina</td>\n",
              "      <td>2</td>\n",
              "      <td>1</td>\n",
              "      <td>FIFA World Cup qualification</td>\n",
              "      <td>Colombia</td>\n",
              "      <td>False</td>\n",
              "      <td>1993-08</td>\n",
              "      <td>19</td>\n",
              "      <td>Colombia</td>\n",
              "      <td>0.0</td>\n",
              "      <td>36</td>\n",
              "      <td>16</td>\n",
              "      <td>1993-08</td>\n",
              "      <td>5</td>\n",
              "      <td>Argentina</td>\n",
              "      <td>0.0</td>\n",
              "      <td>51</td>\n",
              "      <td>5</td>\n",
              "      <td>1993-08</td>\n",
              "    </tr>\n",
              "    <tr>\n",
              "      <th>3</th>\n",
              "      <td>Peru</td>\n",
              "      <td>Argentina</td>\n",
              "      <td>0</td>\n",
              "      <td>1</td>\n",
              "      <td>FIFA World Cup qualification</td>\n",
              "      <td>Peru</td>\n",
              "      <td>False</td>\n",
              "      <td>1993-08</td>\n",
              "      <td>70</td>\n",
              "      <td>Peru</td>\n",
              "      <td>0.0</td>\n",
              "      <td>16</td>\n",
              "      <td>8</td>\n",
              "      <td>1993-08</td>\n",
              "      <td>5</td>\n",
              "      <td>Argentina</td>\n",
              "      <td>0.0</td>\n",
              "      <td>51</td>\n",
              "      <td>5</td>\n",
              "      <td>1993-08</td>\n",
              "    </tr>\n",
              "    <tr>\n",
              "      <th>4</th>\n",
              "      <td>Paraguay</td>\n",
              "      <td>Argentina</td>\n",
              "      <td>1</td>\n",
              "      <td>3</td>\n",
              "      <td>FIFA World Cup qualification</td>\n",
              "      <td>Paraguay</td>\n",
              "      <td>False</td>\n",
              "      <td>1993-08</td>\n",
              "      <td>67</td>\n",
              "      <td>Paraguay</td>\n",
              "      <td>0.0</td>\n",
              "      <td>22</td>\n",
              "      <td>1</td>\n",
              "      <td>1993-08</td>\n",
              "      <td>5</td>\n",
              "      <td>Argentina</td>\n",
              "      <td>0.0</td>\n",
              "      <td>51</td>\n",
              "      <td>5</td>\n",
              "      <td>1993-08</td>\n",
              "    </tr>\n",
              "  </tbody>\n",
              "</table>\n",
              "</div>"
            ],
            "text/plain": [
              "   home_team  away_team  ...  rank_change_away  rank_year_month_away\n",
              "0   Colombia   Paraguay  ...                 1               1993-08\n",
              "1  Argentina   Paraguay  ...                 1               1993-08\n",
              "2   Colombia  Argentina  ...                 5               1993-08\n",
              "3       Peru  Argentina  ...                 5               1993-08\n",
              "4   Paraguay  Argentina  ...                 5               1993-08\n",
              "\n",
              "[5 rows x 20 columns]"
            ]
          },
          "metadata": {
            "tags": []
          },
          "execution_count": 42
        }
      ]
    },
    {
      "cell_type": "code",
      "metadata": {
        "id": "_mIS-UcPzS-T",
        "colab_type": "code",
        "colab": {
          "base_uri": "https://localhost:8080/",
          "height": 394
        },
        "outputId": "d8240a4c-50ff-4042-883b-22a1371cddb6"
      },
      "source": [
        "# during merging unnecessary columns were created, let's get rid of those\n",
        "final_merge.drop(['country_x', 'country_y','previous_points_home', 'rank_year_month_home','country',\n",
        "                  'previous_points_away', 'yr&monthofmatch'], axis = 1, inplace=True)\n",
        "final_merge.head()\n"
      ],
      "execution_count": 43,
      "outputs": [
        {
          "output_type": "execute_result",
          "data": {
            "text/html": [
              "<div>\n",
              "<style scoped>\n",
              "    .dataframe tbody tr th:only-of-type {\n",
              "        vertical-align: middle;\n",
              "    }\n",
              "\n",
              "    .dataframe tbody tr th {\n",
              "        vertical-align: top;\n",
              "    }\n",
              "\n",
              "    .dataframe thead th {\n",
              "        text-align: right;\n",
              "    }\n",
              "</style>\n",
              "<table border=\"1\" class=\"dataframe\">\n",
              "  <thead>\n",
              "    <tr style=\"text-align: right;\">\n",
              "      <th></th>\n",
              "      <th>home_team</th>\n",
              "      <th>away_team</th>\n",
              "      <th>home_score</th>\n",
              "      <th>away_score</th>\n",
              "      <th>tournament</th>\n",
              "      <th>neutral</th>\n",
              "      <th>rank_home</th>\n",
              "      <th>total_points_home</th>\n",
              "      <th>rank_change_home</th>\n",
              "      <th>rank_away</th>\n",
              "      <th>total_points_away</th>\n",
              "      <th>rank_change_away</th>\n",
              "      <th>rank_year_month_away</th>\n",
              "    </tr>\n",
              "  </thead>\n",
              "  <tbody>\n",
              "    <tr>\n",
              "      <th>0</th>\n",
              "      <td>Colombia</td>\n",
              "      <td>Paraguay</td>\n",
              "      <td>0</td>\n",
              "      <td>0</td>\n",
              "      <td>FIFA World Cup qualification</td>\n",
              "      <td>False</td>\n",
              "      <td>19</td>\n",
              "      <td>0.0</td>\n",
              "      <td>16</td>\n",
              "      <td>67</td>\n",
              "      <td>0.0</td>\n",
              "      <td>1</td>\n",
              "      <td>1993-08</td>\n",
              "    </tr>\n",
              "    <tr>\n",
              "      <th>1</th>\n",
              "      <td>Argentina</td>\n",
              "      <td>Paraguay</td>\n",
              "      <td>0</td>\n",
              "      <td>0</td>\n",
              "      <td>FIFA World Cup qualification</td>\n",
              "      <td>False</td>\n",
              "      <td>5</td>\n",
              "      <td>0.0</td>\n",
              "      <td>5</td>\n",
              "      <td>67</td>\n",
              "      <td>0.0</td>\n",
              "      <td>1</td>\n",
              "      <td>1993-08</td>\n",
              "    </tr>\n",
              "    <tr>\n",
              "      <th>2</th>\n",
              "      <td>Colombia</td>\n",
              "      <td>Argentina</td>\n",
              "      <td>2</td>\n",
              "      <td>1</td>\n",
              "      <td>FIFA World Cup qualification</td>\n",
              "      <td>False</td>\n",
              "      <td>19</td>\n",
              "      <td>0.0</td>\n",
              "      <td>16</td>\n",
              "      <td>5</td>\n",
              "      <td>0.0</td>\n",
              "      <td>5</td>\n",
              "      <td>1993-08</td>\n",
              "    </tr>\n",
              "    <tr>\n",
              "      <th>3</th>\n",
              "      <td>Peru</td>\n",
              "      <td>Argentina</td>\n",
              "      <td>0</td>\n",
              "      <td>1</td>\n",
              "      <td>FIFA World Cup qualification</td>\n",
              "      <td>False</td>\n",
              "      <td>70</td>\n",
              "      <td>0.0</td>\n",
              "      <td>8</td>\n",
              "      <td>5</td>\n",
              "      <td>0.0</td>\n",
              "      <td>5</td>\n",
              "      <td>1993-08</td>\n",
              "    </tr>\n",
              "    <tr>\n",
              "      <th>4</th>\n",
              "      <td>Paraguay</td>\n",
              "      <td>Argentina</td>\n",
              "      <td>1</td>\n",
              "      <td>3</td>\n",
              "      <td>FIFA World Cup qualification</td>\n",
              "      <td>False</td>\n",
              "      <td>67</td>\n",
              "      <td>0.0</td>\n",
              "      <td>1</td>\n",
              "      <td>5</td>\n",
              "      <td>0.0</td>\n",
              "      <td>5</td>\n",
              "      <td>1993-08</td>\n",
              "    </tr>\n",
              "  </tbody>\n",
              "</table>\n",
              "</div>"
            ],
            "text/plain": [
              "   home_team  away_team  ...  rank_change_away  rank_year_month_away\n",
              "0   Colombia   Paraguay  ...                 1               1993-08\n",
              "1  Argentina   Paraguay  ...                 1               1993-08\n",
              "2   Colombia  Argentina  ...                 5               1993-08\n",
              "3       Peru  Argentina  ...                 5               1993-08\n",
              "4   Paraguay  Argentina  ...                 5               1993-08\n",
              "\n",
              "[5 rows x 13 columns]"
            ]
          },
          "metadata": {
            "tags": []
          },
          "execution_count": 43
        }
      ]
    },
    {
      "cell_type": "code",
      "metadata": {
        "id": "oBU2fyoM193n",
        "colab_type": "code",
        "colab": {
          "base_uri": "https://localhost:8080/",
          "height": 134
        },
        "outputId": "43cd7775-2b73-4136-b3d6-89378c2a32bd"
      },
      "source": [
        "# our final dataframe looks great, let's rename some columns for them to make more sense\n",
        "\n",
        "final_merge.rename({'home_score': 'home_team_score', 'away_score':'away_team_score','rank_home': 'rank_home_team', 'total_points_home':'points_home_team',\n",
        "                    'rank_change_home': 'rank_change_home_team', 'rank_away': 'rank_away_team','total_points_away': 'points_away_team',\n",
        "                    'rank_change_away': 'rank_change_away_team', 'rank_year_month_away':'year_month'}, axis=1, inplace=True)\n",
        "final_merge.head(1)"
      ],
      "execution_count": 44,
      "outputs": [
        {
          "output_type": "execute_result",
          "data": {
            "text/html": [
              "<div>\n",
              "<style scoped>\n",
              "    .dataframe tbody tr th:only-of-type {\n",
              "        vertical-align: middle;\n",
              "    }\n",
              "\n",
              "    .dataframe tbody tr th {\n",
              "        vertical-align: top;\n",
              "    }\n",
              "\n",
              "    .dataframe thead th {\n",
              "        text-align: right;\n",
              "    }\n",
              "</style>\n",
              "<table border=\"1\" class=\"dataframe\">\n",
              "  <thead>\n",
              "    <tr style=\"text-align: right;\">\n",
              "      <th></th>\n",
              "      <th>home_team</th>\n",
              "      <th>away_team</th>\n",
              "      <th>home_team_score</th>\n",
              "      <th>away_team_score</th>\n",
              "      <th>tournament</th>\n",
              "      <th>neutral</th>\n",
              "      <th>rank_home_team</th>\n",
              "      <th>points_home_team</th>\n",
              "      <th>rank_change_home_team</th>\n",
              "      <th>rank_away_team</th>\n",
              "      <th>points_away_team</th>\n",
              "      <th>rank_change_away_team</th>\n",
              "      <th>year_month</th>\n",
              "    </tr>\n",
              "  </thead>\n",
              "  <tbody>\n",
              "    <tr>\n",
              "      <th>0</th>\n",
              "      <td>Colombia</td>\n",
              "      <td>Paraguay</td>\n",
              "      <td>0</td>\n",
              "      <td>0</td>\n",
              "      <td>FIFA World Cup qualification</td>\n",
              "      <td>False</td>\n",
              "      <td>19</td>\n",
              "      <td>0.0</td>\n",
              "      <td>16</td>\n",
              "      <td>67</td>\n",
              "      <td>0.0</td>\n",
              "      <td>1</td>\n",
              "      <td>1993-08</td>\n",
              "    </tr>\n",
              "  </tbody>\n",
              "</table>\n",
              "</div>"
            ],
            "text/plain": [
              "  home_team away_team  ...  rank_change_away_team  year_month\n",
              "0  Colombia  Paraguay  ...                      1     1993-08\n",
              "\n",
              "[1 rows x 13 columns]"
            ]
          },
          "metadata": {
            "tags": []
          },
          "execution_count": 44
        }
      ]
    },
    {
      "cell_type": "code",
      "metadata": {
        "id": "FD7HxVrD4itY",
        "colab_type": "code",
        "colab": {
          "base_uri": "https://localhost:8080/",
          "height": 104
        },
        "outputId": "9bafbc47-4de7-43ce-9d4f-98ee4f07c954"
      },
      "source": [
        "# checking columns of the merged dataset\n",
        "final_merge.columns"
      ],
      "execution_count": 45,
      "outputs": [
        {
          "output_type": "execute_result",
          "data": {
            "text/plain": [
              "Index(['home_team', 'away_team', 'home_team_score', 'away_team_score',\n",
              "       'tournament', 'neutral', 'rank_home_team', 'points_home_team',\n",
              "       'rank_change_home_team', 'rank_away_team', 'points_away_team',\n",
              "       'rank_change_away_team', 'year_month'],\n",
              "      dtype='object')"
            ]
          },
          "metadata": {
            "tags": []
          },
          "execution_count": 45
        }
      ]
    },
    {
      "cell_type": "code",
      "metadata": {
        "id": "t2XoXbX-35sf",
        "colab_type": "code",
        "colab": {
          "base_uri": "https://localhost:8080/",
          "height": 34
        },
        "outputId": "a3fe3aa6-0600-476c-9b8d-34ca3145e782"
      },
      "source": [
        "# checking final shape of the after merging the dataframe and cleaning\n",
        "\n",
        "final_merge.shape\n",
        "\n",
        "# our final records has 16,957 records and 13 columns"
      ],
      "execution_count": 46,
      "outputs": [
        {
          "output_type": "execute_result",
          "data": {
            "text/plain": [
              "(16957, 13)"
            ]
          },
          "metadata": {
            "tags": []
          },
          "execution_count": 46
        }
      ]
    },
    {
      "cell_type": "code",
      "metadata": {
        "id": "T-gyzQQv57K2",
        "colab_type": "code",
        "colab": {
          "base_uri": "https://localhost:8080/",
          "height": 261
        },
        "outputId": "63aeaa16-d70a-4204-f7e0-41be2cb10f74"
      },
      "source": [
        "# checking for data types\n",
        "final_merge.dtypes"
      ],
      "execution_count": 47,
      "outputs": [
        {
          "output_type": "execute_result",
          "data": {
            "text/plain": [
              "home_team                   object\n",
              "away_team                   object\n",
              "home_team_score              int64\n",
              "away_team_score              int64\n",
              "tournament                  object\n",
              "neutral                       bool\n",
              "rank_home_team               int64\n",
              "points_home_team           float64\n",
              "rank_change_home_team        int64\n",
              "rank_away_team               int64\n",
              "points_away_team           float64\n",
              "rank_change_away_team        int64\n",
              "year_month               period[M]\n",
              "dtype: object"
            ]
          },
          "metadata": {
            "tags": []
          },
          "execution_count": 47
        }
      ]
    },
    {
      "cell_type": "code",
      "metadata": {
        "id": "pHZ08Iy8hvhs",
        "colab_type": "code",
        "colab": {
          "base_uri": "https://localhost:8080/",
          "height": 261
        },
        "outputId": "11a810f9-cd18-4784-baac-5f20c2588a2f"
      },
      "source": [
        "# converting the object data types to category\n",
        "final_merge['home_team'] = final_merge['home_team'].astype('category')\n",
        "final_merge['away_team'] = final_merge['away_team'].astype('category')\n",
        "final_merge['tournament'] = final_merge['tournament'].astype('category')\n",
        "\n",
        "final_merge.dtypes"
      ],
      "execution_count": 48,
      "outputs": [
        {
          "output_type": "execute_result",
          "data": {
            "text/plain": [
              "home_team                 category\n",
              "away_team                 category\n",
              "home_team_score              int64\n",
              "away_team_score              int64\n",
              "tournament                category\n",
              "neutral                       bool\n",
              "rank_home_team               int64\n",
              "points_home_team           float64\n",
              "rank_change_home_team        int64\n",
              "rank_away_team               int64\n",
              "points_away_team           float64\n",
              "rank_change_away_team        int64\n",
              "year_month               period[M]\n",
              "dtype: object"
            ]
          },
          "metadata": {
            "tags": []
          },
          "execution_count": 48
        }
      ]
    },
    {
      "cell_type": "markdown",
      "metadata": {
        "id": "Mip2ldx-HXJp",
        "colab_type": "text"
      },
      "source": [
        "##  Exploratory Data Analysis"
      ]
    },
    {
      "cell_type": "markdown",
      "metadata": {
        "id": "aKFtUl2-Hha9",
        "colab_type": "text"
      },
      "source": [
        "### Univariate Analysis"
      ]
    },
    {
      "cell_type": "code",
      "metadata": {
        "id": "QPAD4eRQ6Lvc",
        "colab_type": "code",
        "colab": {
          "base_uri": "https://localhost:8080/",
          "height": 500
        },
        "outputId": "8422881a-adcf-4955-8a00-fa03321b2c63"
      },
      "source": [
        "# plotting univariate summaries and recording our observations\n",
        "\n",
        "final_merge.plot.hist(bins=12, alpha=0.5, figsize=(10,8))"
      ],
      "execution_count": 49,
      "outputs": [
        {
          "output_type": "execute_result",
          "data": {
            "text/plain": [
              "<matplotlib.axes._subplots.AxesSubplot at 0x7f6ac48780f0>"
            ]
          },
          "metadata": {
            "tags": []
          },
          "execution_count": 49
        },
        {
          "output_type": "display_data",
          "data": {
            "image/png": "[encoded data removed]",
            "text/plain": [
              "<Figure size 720x576 with 1 Axes>"
            ]
          },
          "metadata": {
            "tags": [],
            "needs_background": "light"
          }
        }
      ]
    },
    {
      "cell_type": "markdown",
      "metadata": {
        "id": "CGi3sOK78IRN",
        "colab_type": "text"
      },
      "source": [
        "Observations: we see positive skewness in all our numerical variables "
      ]
    },
    {
      "cell_type": "code",
      "metadata": {
        "id": "uVrwTxEt8Gnb",
        "colab_type": "code",
        "colab": {
          "base_uri": "https://localhost:8080/",
          "height": 316
        },
        "outputId": "31f80233-3d52-4589-d895-818ca47a1340"
      },
      "source": [
        "# checking for statistical summary of our dataframe\n",
        "\n",
        "final_merge.describe()"
      ],
      "execution_count": 50,
      "outputs": [
        {
          "output_type": "execute_result",
          "data": {
            "text/html": [
              "<div>\n",
              "<style scoped>\n",
              "    .dataframe tbody tr th:only-of-type {\n",
              "        vertical-align: middle;\n",
              "    }\n",
              "\n",
              "    .dataframe tbody tr th {\n",
              "        vertical-align: top;\n",
              "    }\n",
              "\n",
              "    .dataframe thead th {\n",
              "        text-align: right;\n",
              "    }\n",
              "</style>\n",
              "<table border=\"1\" class=\"dataframe\">\n",
              "  <thead>\n",
              "    <tr style=\"text-align: right;\">\n",
              "      <th></th>\n",
              "      <th>home_team_score</th>\n",
              "      <th>away_team_score</th>\n",
              "      <th>rank_home_team</th>\n",
              "      <th>points_home_team</th>\n",
              "      <th>rank_change_home_team</th>\n",
              "      <th>rank_away_team</th>\n",
              "      <th>points_away_team</th>\n",
              "      <th>rank_change_away_team</th>\n",
              "    </tr>\n",
              "  </thead>\n",
              "  <tbody>\n",
              "    <tr>\n",
              "      <th>count</th>\n",
              "      <td>16957.000000</td>\n",
              "      <td>16957.000000</td>\n",
              "      <td>16957.000000</td>\n",
              "      <td>16957.000000</td>\n",
              "      <td>16957.000000</td>\n",
              "      <td>16957.000000</td>\n",
              "      <td>16957.000000</td>\n",
              "      <td>16957.000000</td>\n",
              "    </tr>\n",
              "    <tr>\n",
              "      <th>mean</th>\n",
              "      <td>1.602878</td>\n",
              "      <td>1.068290</td>\n",
              "      <td>76.090464</td>\n",
              "      <td>166.101932</td>\n",
              "      <td>0.936663</td>\n",
              "      <td>78.948458</td>\n",
              "      <td>159.520020</td>\n",
              "      <td>0.508345</td>\n",
              "    </tr>\n",
              "    <tr>\n",
              "      <th>std</th>\n",
              "      <td>1.614721</td>\n",
              "      <td>1.244543</td>\n",
              "      <td>50.825282</td>\n",
              "      <td>313.385538</td>\n",
              "      <td>6.859232</td>\n",
              "      <td>52.018337</td>\n",
              "      <td>303.061825</td>\n",
              "      <td>6.969350</td>\n",
              "    </tr>\n",
              "    <tr>\n",
              "      <th>min</th>\n",
              "      <td>0.000000</td>\n",
              "      <td>0.000000</td>\n",
              "      <td>1.000000</td>\n",
              "      <td>0.000000</td>\n",
              "      <td>-62.000000</td>\n",
              "      <td>1.000000</td>\n",
              "      <td>0.000000</td>\n",
              "      <td>-62.000000</td>\n",
              "    </tr>\n",
              "    <tr>\n",
              "      <th>25%</th>\n",
              "      <td>0.000000</td>\n",
              "      <td>0.000000</td>\n",
              "      <td>33.000000</td>\n",
              "      <td>0.000000</td>\n",
              "      <td>-2.000000</td>\n",
              "      <td>35.000000</td>\n",
              "      <td>0.000000</td>\n",
              "      <td>-2.000000</td>\n",
              "    </tr>\n",
              "    <tr>\n",
              "      <th>50%</th>\n",
              "      <td>1.000000</td>\n",
              "      <td>1.000000</td>\n",
              "      <td>71.000000</td>\n",
              "      <td>0.000000</td>\n",
              "      <td>0.000000</td>\n",
              "      <td>73.000000</td>\n",
              "      <td>0.000000</td>\n",
              "      <td>0.000000</td>\n",
              "    </tr>\n",
              "    <tr>\n",
              "      <th>75%</th>\n",
              "      <td>2.000000</td>\n",
              "      <td>2.000000</td>\n",
              "      <td>112.000000</td>\n",
              "      <td>232.670000</td>\n",
              "      <td>3.000000</td>\n",
              "      <td>115.000000</td>\n",
              "      <td>219.820000</td>\n",
              "      <td>2.000000</td>\n",
              "    </tr>\n",
              "    <tr>\n",
              "      <th>max</th>\n",
              "      <td>31.000000</td>\n",
              "      <td>15.000000</td>\n",
              "      <td>209.000000</td>\n",
              "      <td>1770.060000</td>\n",
              "      <td>73.000000</td>\n",
              "      <td>209.000000</td>\n",
              "      <td>1770.060000</td>\n",
              "      <td>92.000000</td>\n",
              "    </tr>\n",
              "  </tbody>\n",
              "</table>\n",
              "</div>"
            ],
            "text/plain": [
              "       home_team_score  ...  rank_change_away_team\n",
              "count     16957.000000  ...           16957.000000\n",
              "mean          1.602878  ...               0.508345\n",
              "std           1.614721  ...               6.969350\n",
              "min           0.000000  ...             -62.000000\n",
              "25%           0.000000  ...              -2.000000\n",
              "50%           1.000000  ...               0.000000\n",
              "75%           2.000000  ...               2.000000\n",
              "max          31.000000  ...              92.000000\n",
              "\n",
              "[8 rows x 8 columns]"
            ]
          },
          "metadata": {
            "tags": []
          },
          "execution_count": 50
        }
      ]
    },
    {
      "cell_type": "code",
      "metadata": {
        "id": "toTgm4BQn01a",
        "colab_type": "code",
        "colab": {}
      },
      "source": [
        ""
      ],
      "execution_count": 50,
      "outputs": []
    },
    {
      "cell_type": "markdown",
      "metadata": {
        "id": "3IX69CRf8v_Q",
        "colab_type": "text"
      },
      "source": [
        "Observations:\n",
        "\n",
        "home team score mean = 1.60\n",
        "\n",
        "away team score mean = 1.06\n",
        "\n",
        "from this we can conclude that home teams perfom better than away teams. This could be because of the familiar environment and available fans, at stadiums, who cheer them on. \n",
        "\n",
        "Mean rank change is about the same for both home and away teams"
      ]
    },
    {
      "cell_type": "markdown",
      "metadata": {
        "id": "w9vFQ1A8Hl_d",
        "colab_type": "text"
      },
      "source": [
        "### Bivariate Analysis"
      ]
    },
    {
      "cell_type": "code",
      "metadata": {
        "id": "iez4tlQT-X5B",
        "colab_type": "code",
        "colab": {}
      },
      "source": [
        "# plotting our bivariate summaries\n",
        "\n",
        "# sns.pairplot(final_merge)\n",
        "# plt.show()"
      ],
      "execution_count": 51,
      "outputs": []
    },
    {
      "cell_type": "code",
      "metadata": {
        "id": "5lDEIRH_Ch33",
        "colab_type": "code",
        "colab": {
          "base_uri": "https://localhost:8080/",
          "height": 605
        },
        "outputId": "82f88af4-e58b-4cea-8325-e199f7ecfabf"
      },
      "source": [
        "# checking for independence of variables\n",
        "\n",
        "fig, ax = plt.subplots(figsize=(10,8))\n",
        "sns.heatmap(final_merge.corr(), annot=True, ax=ax);"
      ],
      "execution_count": 52,
      "outputs": [
        {
          "output_type": "display_data",
          "data": {
            "image/png": "[encoded data removed]",
            "text/plain": [
              "<Figure size 720x576 with 2 Axes>"
            ]
          },
          "metadata": {
            "tags": [],
            "needs_background": "light"
          }
        }
      ]
    },
    {
      "cell_type": "markdown",
      "metadata": {
        "id": "cscpz4NnAPuO",
        "colab_type": "text"
      },
      "source": [
        "Observations: most of the variables are not correlated to each other, but we have a few that are correlated e.g points away team and points of home team"
      ]
    },
    {
      "cell_type": "markdown",
      "metadata": {
        "id": "FUSlS5BoIXY6",
        "colab_type": "text"
      },
      "source": [
        "##  KFold Cross-validation and RMSE computation"
      ]
    },
    {
      "cell_type": "code",
      "metadata": {
        "id": "4EVZSJNljiLU",
        "colab_type": "code",
        "colab": {
          "base_uri": "https://localhost:8080/",
          "height": 223
        },
        "outputId": "15226c9e-e5bc-4c64-9dc2-b393827b7037"
      },
      "source": [
        "# we first need to encode tournament, we will do that using label encoding as shown below\n",
        "\n",
        "final_merge['tournament'] = final_merge['tournament'].cat.codes\n",
        "final_merge.head()"
      ],
      "execution_count": 53,
      "outputs": [
        {
          "output_type": "execute_result",
          "data": {
            "text/html": [
              "<div>\n",
              "<style scoped>\n",
              "    .dataframe tbody tr th:only-of-type {\n",
              "        vertical-align: middle;\n",
              "    }\n",
              "\n",
              "    .dataframe tbody tr th {\n",
              "        vertical-align: top;\n",
              "    }\n",
              "\n",
              "    .dataframe thead th {\n",
              "        text-align: right;\n",
              "    }\n",
              "</style>\n",
              "<table border=\"1\" class=\"dataframe\">\n",
              "  <thead>\n",
              "    <tr style=\"text-align: right;\">\n",
              "      <th></th>\n",
              "      <th>home_team</th>\n",
              "      <th>away_team</th>\n",
              "      <th>home_team_score</th>\n",
              "      <th>away_team_score</th>\n",
              "      <th>tournament</th>\n",
              "      <th>neutral</th>\n",
              "      <th>rank_home_team</th>\n",
              "      <th>points_home_team</th>\n",
              "      <th>rank_change_home_team</th>\n",
              "      <th>rank_away_team</th>\n",
              "      <th>points_away_team</th>\n",
              "      <th>rank_change_away_team</th>\n",
              "      <th>year_month</th>\n",
              "    </tr>\n",
              "  </thead>\n",
              "  <tbody>\n",
              "    <tr>\n",
              "      <th>0</th>\n",
              "      <td>Colombia</td>\n",
              "      <td>Paraguay</td>\n",
              "      <td>0</td>\n",
              "      <td>0</td>\n",
              "      <td>26</td>\n",
              "      <td>False</td>\n",
              "      <td>19</td>\n",
              "      <td>0.0</td>\n",
              "      <td>16</td>\n",
              "      <td>67</td>\n",
              "      <td>0.0</td>\n",
              "      <td>1</td>\n",
              "      <td>1993-08</td>\n",
              "    </tr>\n",
              "    <tr>\n",
              "      <th>1</th>\n",
              "      <td>Argentina</td>\n",
              "      <td>Paraguay</td>\n",
              "      <td>0</td>\n",
              "      <td>0</td>\n",
              "      <td>26</td>\n",
              "      <td>False</td>\n",
              "      <td>5</td>\n",
              "      <td>0.0</td>\n",
              "      <td>5</td>\n",
              "      <td>67</td>\n",
              "      <td>0.0</td>\n",
              "      <td>1</td>\n",
              "      <td>1993-08</td>\n",
              "    </tr>\n",
              "    <tr>\n",
              "      <th>2</th>\n",
              "      <td>Colombia</td>\n",
              "      <td>Argentina</td>\n",
              "      <td>2</td>\n",
              "      <td>1</td>\n",
              "      <td>26</td>\n",
              "      <td>False</td>\n",
              "      <td>19</td>\n",
              "      <td>0.0</td>\n",
              "      <td>16</td>\n",
              "      <td>5</td>\n",
              "      <td>0.0</td>\n",
              "      <td>5</td>\n",
              "      <td>1993-08</td>\n",
              "    </tr>\n",
              "    <tr>\n",
              "      <th>3</th>\n",
              "      <td>Peru</td>\n",
              "      <td>Argentina</td>\n",
              "      <td>0</td>\n",
              "      <td>1</td>\n",
              "      <td>26</td>\n",
              "      <td>False</td>\n",
              "      <td>70</td>\n",
              "      <td>0.0</td>\n",
              "      <td>8</td>\n",
              "      <td>5</td>\n",
              "      <td>0.0</td>\n",
              "      <td>5</td>\n",
              "      <td>1993-08</td>\n",
              "    </tr>\n",
              "    <tr>\n",
              "      <th>4</th>\n",
              "      <td>Paraguay</td>\n",
              "      <td>Argentina</td>\n",
              "      <td>1</td>\n",
              "      <td>3</td>\n",
              "      <td>26</td>\n",
              "      <td>False</td>\n",
              "      <td>67</td>\n",
              "      <td>0.0</td>\n",
              "      <td>1</td>\n",
              "      <td>5</td>\n",
              "      <td>0.0</td>\n",
              "      <td>5</td>\n",
              "      <td>1993-08</td>\n",
              "    </tr>\n",
              "  </tbody>\n",
              "</table>\n",
              "</div>"
            ],
            "text/plain": [
              "   home_team  away_team  ...  rank_change_away_team  year_month\n",
              "0   Colombia   Paraguay  ...                      1     1993-08\n",
              "1  Argentina   Paraguay  ...                      1     1993-08\n",
              "2   Colombia  Argentina  ...                      5     1993-08\n",
              "3       Peru  Argentina  ...                      5     1993-08\n",
              "4   Paraguay  Argentina  ...                      5     1993-08\n",
              "\n",
              "[5 rows x 13 columns]"
            ]
          },
          "metadata": {
            "tags": []
          },
          "execution_count": 53
        }
      ]
    },
    {
      "cell_type": "code",
      "metadata": {
        "id": "8mGak6WyURyH",
        "colab_type": "code",
        "colab": {
          "base_uri": "https://localhost:8080/",
          "height": 279
        },
        "outputId": "458d7037-3e1b-411a-f5d1-45fac889a8c8"
      },
      "source": [
        "# splitting data into independent and dependent variables\n",
        "X = final_merge[['rank_home_team', 'rank_away_team', 'tournament']].values\n",
        "y = final_merge['home_team_score'].values\n",
        "\n",
        "# we will use KFold\n",
        "from sklearn.model_selection import KFold\n",
        "\n",
        "folds = KFold(n_splits =5)\n",
        "folds\n",
        "# creating an array to keep track of RSMEs for our 5 models\n",
        "RMSES = []\n",
        "count =1\n",
        "\n",
        "for train_index, test_index in folds.split(X):\n",
        "  print('\\nTraining model '+ str(count))\n",
        "\n",
        "  # splitting the data into train and test which is determined by KFold\n",
        "\n",
        "  X_train, X_test = X[train_index], X[test_index]\n",
        "  y_train, y_test = y[train_index], y[test_index]\n",
        "\n",
        "  # fitting our model\n",
        "\n",
        "  reg = LinearRegression()\n",
        "  reg.fit(X_train, y_train)\n",
        "\n",
        "  # acessing the accuracy of the model through prediction and getting the rmses values\n",
        "  home_team_score_pred = reg.predict(X_test)\n",
        "  rmse_value = np.sqrt(metrics.mean_squared_error(y_test, home_team_score_pred))\n",
        "  RMSES.append(rmse_value)\n",
        "\n",
        "  print('Model ' + str(count) + 'Root mean Squared Error: ', rmse_value)\n",
        "  count = count + 1\n"
      ],
      "execution_count": 54,
      "outputs": [
        {
          "output_type": "stream",
          "text": [
            "\n",
            "Training model 1\n",
            "Model 1Root mean Squared Error:  1.487488921213846\n",
            "\n",
            "Training model 2\n",
            "Model 2Root mean Squared Error:  1.6158826411160525\n",
            "\n",
            "Training model 3\n",
            "Model 3Root mean Squared Error:  1.3621079587124352\n",
            "\n",
            "Training model 4\n",
            "Model 4Root mean Squared Error:  1.3663151396791902\n",
            "\n",
            "Training model 5\n",
            "Model 5Root mean Squared Error:  1.359481725757262\n"
          ],
          "name": "stdout"
        }
      ]
    },
    {
      "cell_type": "markdown",
      "metadata": {
        "id": "HarQbaBZYJem",
        "colab_type": "text"
      },
      "source": [
        "Observations: based on the RMSE values, model 5 would be the best choice among the 5 models \n",
        "because it has the smallest value"
      ]
    },
    {
      "cell_type": "markdown",
      "metadata": {
        "id": "ip1UDOphCZq-",
        "colab_type": "text"
      },
      "source": [
        "## Polynomial Regression\n"
      ]
    },
    {
      "cell_type": "code",
      "metadata": {
        "id": "kvyxkXyXCYEO",
        "colab_type": "code",
        "colab": {
          "base_uri": "https://localhost:8080/",
          "height": 416
        },
        "outputId": "1e839117-5664-477b-bc12-af9c4da54f79"
      },
      "source": [
        "# Task 1: predict how many goals the home team scores\n",
        "# what to train: rank of home team, rank of away team and tournament type\n",
        "\n",
        "# splitting the data into independent and dependent variables\n",
        "X = final_merge[['rank_home_team', 'rank_away_team','tournament' ]].values #independent variables\n",
        "y = final_merge['home_team_score'].values #dependent variable\n",
        "\n",
        "\n",
        "# splitting the dataframe into train and test, we will 20 % as our test size\n",
        "\n",
        "X_train, X_test, y_train, y_test = train_test_split(X,y, test_size = 0.2, random_state = 0)\n",
        "\n",
        "# fitting regression model to the dataframe\n",
        "\n",
        "poly_reg = PolynomialFeatures(degree=3)\n",
        "X_poly =poly_reg.fit_transform(X)\n",
        "\n",
        "pol_reg = LinearRegression()\n",
        "pol_reg.fit(X_poly, y)\n",
        "\n",
        "# accessing the accuracy of the polynomial model\n",
        "home_team_score_pred = pol_reg.predict(poly_reg.fit_transform(X_test))\n",
        "\n",
        "# comparing actual with the prediction\n",
        "comparison = pd.DataFrame({'Actual score': y_test.flatten(), 'Predicted score': home_team_score_pred.flatten()})\n",
        "comparison\n"
      ],
      "execution_count": 55,
      "outputs": [
        {
          "output_type": "execute_result",
          "data": {
            "text/html": [
              "<div>\n",
              "<style scoped>\n",
              "    .dataframe tbody tr th:only-of-type {\n",
              "        vertical-align: middle;\n",
              "    }\n",
              "\n",
              "    .dataframe tbody tr th {\n",
              "        vertical-align: top;\n",
              "    }\n",
              "\n",
              "    .dataframe thead th {\n",
              "        text-align: right;\n",
              "    }\n",
              "</style>\n",
              "<table border=\"1\" class=\"dataframe\">\n",
              "  <thead>\n",
              "    <tr style=\"text-align: right;\">\n",
              "      <th></th>\n",
              "      <th>Actual score</th>\n",
              "      <th>Predicted score</th>\n",
              "    </tr>\n",
              "  </thead>\n",
              "  <tbody>\n",
              "    <tr>\n",
              "      <th>0</th>\n",
              "      <td>0</td>\n",
              "      <td>0.786151</td>\n",
              "    </tr>\n",
              "    <tr>\n",
              "      <th>1</th>\n",
              "      <td>1</td>\n",
              "      <td>1.064256</td>\n",
              "    </tr>\n",
              "    <tr>\n",
              "      <th>2</th>\n",
              "      <td>1</td>\n",
              "      <td>1.518588</td>\n",
              "    </tr>\n",
              "    <tr>\n",
              "      <th>3</th>\n",
              "      <td>1</td>\n",
              "      <td>1.686306</td>\n",
              "    </tr>\n",
              "    <tr>\n",
              "      <th>4</th>\n",
              "      <td>5</td>\n",
              "      <td>1.957835</td>\n",
              "    </tr>\n",
              "    <tr>\n",
              "      <th>...</th>\n",
              "      <td>...</td>\n",
              "      <td>...</td>\n",
              "    </tr>\n",
              "    <tr>\n",
              "      <th>3387</th>\n",
              "      <td>1</td>\n",
              "      <td>0.679076</td>\n",
              "    </tr>\n",
              "    <tr>\n",
              "      <th>3388</th>\n",
              "      <td>1</td>\n",
              "      <td>2.125715</td>\n",
              "    </tr>\n",
              "    <tr>\n",
              "      <th>3389</th>\n",
              "      <td>0</td>\n",
              "      <td>0.446282</td>\n",
              "    </tr>\n",
              "    <tr>\n",
              "      <th>3390</th>\n",
              "      <td>1</td>\n",
              "      <td>1.169489</td>\n",
              "    </tr>\n",
              "    <tr>\n",
              "      <th>3391</th>\n",
              "      <td>5</td>\n",
              "      <td>3.511127</td>\n",
              "    </tr>\n",
              "  </tbody>\n",
              "</table>\n",
              "<p>3392 rows × 2 columns</p>\n",
              "</div>"
            ],
            "text/plain": [
              "      Actual score  Predicted score\n",
              "0                0         0.786151\n",
              "1                1         1.064256\n",
              "2                1         1.518588\n",
              "3                1         1.686306\n",
              "4                5         1.957835\n",
              "...            ...              ...\n",
              "3387             1         0.679076\n",
              "3388             1         2.125715\n",
              "3389             0         0.446282\n",
              "3390             1         1.169489\n",
              "3391             5         3.511127\n",
              "\n",
              "[3392 rows x 2 columns]"
            ]
          },
          "metadata": {
            "tags": []
          },
          "execution_count": 55
        }
      ]
    },
    {
      "cell_type": "code",
      "metadata": {
        "id": "gQDT2HgWrb9Z",
        "colab_type": "code",
        "colab": {
          "base_uri": "https://localhost:8080/",
          "height": 416
        },
        "outputId": "bc424ccd-41e4-4087-9595-eb9dd326be30"
      },
      "source": [
        "# Task 2: predict how many goals the away team scores\n",
        "# what to train: rank of home team, rank of away team and tournament type\n",
        "\n",
        "# splitting the data into independent and dependent variables\n",
        "X = final_merge[['rank_away_team', 'rank_home_team','tournament' ]].values #independent variables\n",
        "y = final_merge['away_team_score'].values #dependent variable\n",
        "\n",
        "\n",
        "# splitting the dataframe into train and test, we will 20 % as our test size\n",
        "\n",
        "X_train, X_test, y_train, y_test = train_test_split(X,y, test_size = 0.2, random_state = 0)\n",
        "\n",
        "# fitting polynomial regression model to the dataframe\n",
        "\n",
        "poly_reg = PolynomialFeatures(degree=3)\n",
        "X_poly =poly_reg.fit_transform(X)\n",
        "\n",
        "pol_reg = LinearRegression()\n",
        "pol_reg.fit(X_poly, y)\n",
        "\n",
        "# using the model to make a prediction\n",
        "home_team_score_pred = pol_reg.predict(poly_reg.fit_transform(X_test))\n",
        "\n",
        "# comparing actual with the prediction\n",
        "comparison = pd.DataFrame({'Actual score': y_test.flatten(), 'Predicted score': home_team_score_pred.flatten()})\n",
        "comparison"
      ],
      "execution_count": 56,
      "outputs": [
        {
          "output_type": "execute_result",
          "data": {
            "text/html": [
              "<div>\n",
              "<style scoped>\n",
              "    .dataframe tbody tr th:only-of-type {\n",
              "        vertical-align: middle;\n",
              "    }\n",
              "\n",
              "    .dataframe tbody tr th {\n",
              "        vertical-align: top;\n",
              "    }\n",
              "\n",
              "    .dataframe thead th {\n",
              "        text-align: right;\n",
              "    }\n",
              "</style>\n",
              "<table border=\"1\" class=\"dataframe\">\n",
              "  <thead>\n",
              "    <tr style=\"text-align: right;\">\n",
              "      <th></th>\n",
              "      <th>Actual score</th>\n",
              "      <th>Predicted score</th>\n",
              "    </tr>\n",
              "  </thead>\n",
              "  <tbody>\n",
              "    <tr>\n",
              "      <th>0</th>\n",
              "      <td>2</td>\n",
              "      <td>1.742621</td>\n",
              "    </tr>\n",
              "    <tr>\n",
              "      <th>1</th>\n",
              "      <td>1</td>\n",
              "      <td>1.272721</td>\n",
              "    </tr>\n",
              "    <tr>\n",
              "      <th>2</th>\n",
              "      <td>1</td>\n",
              "      <td>0.813929</td>\n",
              "    </tr>\n",
              "    <tr>\n",
              "      <th>3</th>\n",
              "      <td>0</td>\n",
              "      <td>1.392895</td>\n",
              "    </tr>\n",
              "    <tr>\n",
              "      <th>4</th>\n",
              "      <td>0</td>\n",
              "      <td>0.657482</td>\n",
              "    </tr>\n",
              "    <tr>\n",
              "      <th>...</th>\n",
              "      <td>...</td>\n",
              "      <td>...</td>\n",
              "    </tr>\n",
              "    <tr>\n",
              "      <th>3387</th>\n",
              "      <td>1</td>\n",
              "      <td>2.329158</td>\n",
              "    </tr>\n",
              "    <tr>\n",
              "      <th>3388</th>\n",
              "      <td>0</td>\n",
              "      <td>0.569385</td>\n",
              "    </tr>\n",
              "    <tr>\n",
              "      <th>3389</th>\n",
              "      <td>1</td>\n",
              "      <td>2.578510</td>\n",
              "    </tr>\n",
              "    <tr>\n",
              "      <th>3390</th>\n",
              "      <td>2</td>\n",
              "      <td>1.151997</td>\n",
              "    </tr>\n",
              "    <tr>\n",
              "      <th>3391</th>\n",
              "      <td>0</td>\n",
              "      <td>0.228219</td>\n",
              "    </tr>\n",
              "  </tbody>\n",
              "</table>\n",
              "<p>3392 rows × 2 columns</p>\n",
              "</div>"
            ],
            "text/plain": [
              "      Actual score  Predicted score\n",
              "0                2         1.742621\n",
              "1                1         1.272721\n",
              "2                1         0.813929\n",
              "3                0         1.392895\n",
              "4                0         0.657482\n",
              "...            ...              ...\n",
              "3387             1         2.329158\n",
              "3388             0         0.569385\n",
              "3389             1         2.578510\n",
              "3390             2         1.151997\n",
              "3391             0         0.228219\n",
              "\n",
              "[3392 rows x 2 columns]"
            ]
          },
          "metadata": {
            "tags": []
          },
          "execution_count": 56
        }
      ]
    },
    {
      "cell_type": "markdown",
      "metadata": {
        "id": "i2bqV7sL5nys",
        "colab_type": "text"
      },
      "source": [
        "## Feature Engineering and Logistic Regression"
      ]
    },
    {
      "cell_type": "code",
      "metadata": {
        "id": "af7cSFuz5l6i",
        "colab_type": "code",
        "colab": {
          "base_uri": "https://localhost:8080/",
          "height": 222
        },
        "outputId": "77ba3485-0cfe-4e73-bed7-913705a819f2"
      },
      "source": [
        "# Task: Figure out the home team's perspective if the game is a win, lose or Draw(W,L,D)\n",
        "# Here we need to create a new feature that holds W,L,D values\n",
        "\n",
        "# for a win, home_score_diff > 0\n",
        "# for a loss, home_score_diff < 0\n",
        "# for a draw, home_score_diff = 0\n",
        "\n",
        "final_merge['home_score_diff'] = final_merge['home_team_score'] - final_merge['away_team_score']\n",
        "final_merge.head()"
      ],
      "execution_count": 57,
      "outputs": [
        {
          "output_type": "execute_result",
          "data": {
            "text/html": [
              "<div>\n",
              "<style scoped>\n",
              "    .dataframe tbody tr th:only-of-type {\n",
              "        vertical-align: middle;\n",
              "    }\n",
              "\n",
              "    .dataframe tbody tr th {\n",
              "        vertical-align: top;\n",
              "    }\n",
              "\n",
              "    .dataframe thead th {\n",
              "        text-align: right;\n",
              "    }\n",
              "</style>\n",
              "<table border=\"1\" class=\"dataframe\">\n",
              "  <thead>\n",
              "    <tr style=\"text-align: right;\">\n",
              "      <th></th>\n",
              "      <th>home_team</th>\n",
              "      <th>away_team</th>\n",
              "      <th>home_team_score</th>\n",
              "      <th>away_team_score</th>\n",
              "      <th>tournament</th>\n",
              "      <th>neutral</th>\n",
              "      <th>rank_home_team</th>\n",
              "      <th>points_home_team</th>\n",
              "      <th>rank_change_home_team</th>\n",
              "      <th>rank_away_team</th>\n",
              "      <th>points_away_team</th>\n",
              "      <th>rank_change_away_team</th>\n",
              "      <th>year_month</th>\n",
              "      <th>home_score_diff</th>\n",
              "    </tr>\n",
              "  </thead>\n",
              "  <tbody>\n",
              "    <tr>\n",
              "      <th>0</th>\n",
              "      <td>Colombia</td>\n",
              "      <td>Paraguay</td>\n",
              "      <td>0</td>\n",
              "      <td>0</td>\n",
              "      <td>26</td>\n",
              "      <td>False</td>\n",
              "      <td>19</td>\n",
              "      <td>0.0</td>\n",
              "      <td>16</td>\n",
              "      <td>67</td>\n",
              "      <td>0.0</td>\n",
              "      <td>1</td>\n",
              "      <td>1993-08</td>\n",
              "      <td>0</td>\n",
              "    </tr>\n",
              "    <tr>\n",
              "      <th>1</th>\n",
              "      <td>Argentina</td>\n",
              "      <td>Paraguay</td>\n",
              "      <td>0</td>\n",
              "      <td>0</td>\n",
              "      <td>26</td>\n",
              "      <td>False</td>\n",
              "      <td>5</td>\n",
              "      <td>0.0</td>\n",
              "      <td>5</td>\n",
              "      <td>67</td>\n",
              "      <td>0.0</td>\n",
              "      <td>1</td>\n",
              "      <td>1993-08</td>\n",
              "      <td>0</td>\n",
              "    </tr>\n",
              "    <tr>\n",
              "      <th>2</th>\n",
              "      <td>Colombia</td>\n",
              "      <td>Argentina</td>\n",
              "      <td>2</td>\n",
              "      <td>1</td>\n",
              "      <td>26</td>\n",
              "      <td>False</td>\n",
              "      <td>19</td>\n",
              "      <td>0.0</td>\n",
              "      <td>16</td>\n",
              "      <td>5</td>\n",
              "      <td>0.0</td>\n",
              "      <td>5</td>\n",
              "      <td>1993-08</td>\n",
              "      <td>1</td>\n",
              "    </tr>\n",
              "    <tr>\n",
              "      <th>3</th>\n",
              "      <td>Peru</td>\n",
              "      <td>Argentina</td>\n",
              "      <td>0</td>\n",
              "      <td>1</td>\n",
              "      <td>26</td>\n",
              "      <td>False</td>\n",
              "      <td>70</td>\n",
              "      <td>0.0</td>\n",
              "      <td>8</td>\n",
              "      <td>5</td>\n",
              "      <td>0.0</td>\n",
              "      <td>5</td>\n",
              "      <td>1993-08</td>\n",
              "      <td>-1</td>\n",
              "    </tr>\n",
              "    <tr>\n",
              "      <th>4</th>\n",
              "      <td>Paraguay</td>\n",
              "      <td>Argentina</td>\n",
              "      <td>1</td>\n",
              "      <td>3</td>\n",
              "      <td>26</td>\n",
              "      <td>False</td>\n",
              "      <td>67</td>\n",
              "      <td>0.0</td>\n",
              "      <td>1</td>\n",
              "      <td>5</td>\n",
              "      <td>0.0</td>\n",
              "      <td>5</td>\n",
              "      <td>1993-08</td>\n",
              "      <td>-2</td>\n",
              "    </tr>\n",
              "  </tbody>\n",
              "</table>\n",
              "</div>"
            ],
            "text/plain": [
              "   home_team  away_team  ...  year_month  home_score_diff\n",
              "0   Colombia   Paraguay  ...     1993-08                0\n",
              "1  Argentina   Paraguay  ...     1993-08                0\n",
              "2   Colombia  Argentina  ...     1993-08                1\n",
              "3       Peru  Argentina  ...     1993-08               -1\n",
              "4   Paraguay  Argentina  ...     1993-08               -2\n",
              "\n",
              "[5 rows x 14 columns]"
            ]
          },
          "metadata": {
            "tags": []
          },
          "execution_count": 57
        }
      ]
    },
    {
      "cell_type": "code",
      "metadata": {
        "id": "02Oo6hOfKFSx",
        "colab_type": "code",
        "colab": {
          "base_uri": "https://localhost:8080/",
          "height": 281
        },
        "outputId": "1f4754b9-d436-4ea8-edc4-b2a4c2109f15"
      },
      "source": [
        "# checking to see if the added column has the correct datatype\n",
        "final_merge.dtypes"
      ],
      "execution_count": 58,
      "outputs": [
        {
          "output_type": "execute_result",
          "data": {
            "text/plain": [
              "home_team                 category\n",
              "away_team                 category\n",
              "home_team_score              int64\n",
              "away_team_score              int64\n",
              "tournament                    int8\n",
              "neutral                       bool\n",
              "rank_home_team               int64\n",
              "points_home_team           float64\n",
              "rank_change_home_team        int64\n",
              "rank_away_team               int64\n",
              "points_away_team           float64\n",
              "rank_change_away_team        int64\n",
              "year_month               period[M]\n",
              "home_score_diff              int64\n",
              "dtype: object"
            ]
          },
          "metadata": {
            "tags": []
          },
          "execution_count": 58
        }
      ]
    },
    {
      "cell_type": "code",
      "metadata": {
        "id": "1_HGr4sn_pd1",
        "colab_type": "code",
        "colab": {
          "base_uri": "https://localhost:8080/",
          "height": 1000
        },
        "outputId": "847b6dbd-c93d-4abf-bfcd-34d9b5c09e20"
      },
      "source": [
        "# splitting data into independent and dependent variables\n",
        "\n",
        "X = final_merge[['home_team_score', 'away_team_score']]\n",
        "y = final_merge['home_score_diff']\n",
        "\n",
        "# splitting data into tran and test, we will use 20% as our test size\n",
        "\n",
        "X_train, X_test, y_train, y_test = train_test_split(X,y,test_size=0.2, random_state=0)\n",
        "\n",
        "# fitting the model\n",
        "\n",
        "LogReg = LogisticRegression()\n",
        "LogReg.fit(X_train, y_train)\n",
        "\n",
        "# using the model to make predictions\n",
        "\n",
        "home_score_diff_pred = LogReg.predict(X_test)\n",
        "\n",
        "# evaluating the model\n",
        "\n",
        "confusion_matrix = confusion_matrix(y_test, home_score_diff_pred)\n",
        "confusion_matrix"
      ],
      "execution_count": 59,
      "outputs": [
        {
          "output_type": "execute_result",
          "data": {
            "text/plain": [
              "array([[  0,   0,   0,   0,   0,   0,   1,   0,   0,   0,   0,   0,   0,\n",
              "          0,   0,   0,   0,   0,   0,   0,   0,   0,   0,   0,   0,   0,\n",
              "          0,   0,   0,   0],\n",
              "       [  0,   0,   0,   0,   0,   0,   1,   0,   0,   0,   0,   0,   0,\n",
              "          0,   0,   0,   0,   0,   0,   0,   0,   0,   0,   0,   0,   0,\n",
              "          0,   0,   0,   0],\n",
              "       [  0,   0,   0,   0,   0,   0,   1,   0,   0,   0,   0,   0,   0,\n",
              "          0,   0,   0,   0,   0,   0,   0,   0,   0,   0,   0,   0,   0,\n",
              "          0,   0,   0,   0],\n",
              "       [  0,   0,   0,   0,   0,   0,   1,   0,   0,   0,   0,   0,   0,\n",
              "          0,   0,   0,   0,   0,   0,   0,   0,   0,   0,   0,   0,   0,\n",
              "          0,   0,   0,   0],\n",
              "       [  0,   0,   0,   0,   0,   0,   4,   0,   0,   0,   0,   0,   0,\n",
              "          0,   0,   0,   0,   0,   0,   0,   0,   0,   0,   0,   0,   0,\n",
              "          0,   0,   0,   0],\n",
              "       [  0,   0,   0,   0,   0,   0,   0,   6,   0,   0,   0,   0,   0,\n",
              "          0,   0,   0,   0,   0,   0,   0,   0,   0,   0,   0,   0,   0,\n",
              "          0,   0,   0,   0],\n",
              "       [  0,   0,   0,   0,   0,   1,   3,   0,  14,   0,   0,   0,   0,\n",
              "          0,   0,   0,   0,   0,   0,   0,   0,   0,   0,   0,   0,   0,\n",
              "          0,   0,   0,   0],\n",
              "       [  0,   0,   0,   0,   0,   0,   2,   0,  21,   0,   0,   0,   0,\n",
              "          0,   0,   0,   0,   0,   0,   0,   0,   0,   0,   0,   0,   0,\n",
              "          0,   0,   0,   0],\n",
              "       [  0,   0,   0,   0,   0,   0,   0,   0,   0,  44,   0,   0,   0,\n",
              "          0,   0,   0,   0,   0,   0,   0,   0,   0,   0,   0,   0,   0,\n",
              "          0,   0,   0,   0],\n",
              "       [  0,   0,   0,   0,   0,   0,   0,   0,   0, 113,   0,   0,   0,\n",
              "          0,   0,   0,   0,   0,   0,   0,   0,   0,   0,   0,   0,   0,\n",
              "          0,   0,   0,   0],\n",
              "       [  0,   0,   0,   0,   0,   0,   0,   0,   0,   0, 252,   0,   0,\n",
              "          0,   0,   0,   0,   0,   0,   0,   0,   0,   0,   0,   0,   0,\n",
              "          0,   0,   0,   0],\n",
              "       [  0,   0,   0,   0,   0,   0,   0,   0,   0,   0,   0, 463,   0,\n",
              "          0,   0,   0,   0,   0,   0,   0,   0,   0,   0,   0,   0,   0,\n",
              "          0,   0,   0,   0],\n",
              "       [  0,   0,   2,   0,   0,   0,   0,   0,   0,   0,   0,   0, 810,\n",
              "          0,   0,   0,   0,   0,   0,   0,   0,   0,   0,   0,   0,   0,\n",
              "          0,   0,   0,   0],\n",
              "       [  0,   0,   0,   0,   0,   0,   0,   0,   0,   0,   0,   0,   0,\n",
              "        722,   0,   0,   0,   0,   0,   0,   0,   0,   0,   0,   0,   0,\n",
              "          0,   0,   0,   0],\n",
              "       [  0,   0,   0,   0,   0,   0,   0,   0,   0,   0,   0,   0,   0,\n",
              "          0, 451,   0,   0,   0,   0,   0,   0,   0,   0,   0,   0,   0,\n",
              "          2,   0,   0,   0],\n",
              "       [  0,   0,   0,   0,   0,   0,   0,   0,   0,   0,   0,   0,   0,\n",
              "          0,   0, 222,   0,   0,   0,   0,   0,   0,   0,   0,   0,   0,\n",
              "          0,   0,   0,   0],\n",
              "       [  0,   0,   0,   0,   0,   0,   0,   0,   0,   0,   0,   0,   0,\n",
              "          0,   0,  96,  25,   0,   0,   0,   0,   0,   0,   0,   0,   0,\n",
              "          0,   0,   0,   0],\n",
              "       [  0,   0,   0,   0,   0,   0,   0,   0,   0,   0,   0,   0,   0,\n",
              "          0,   0,   0,  60,   0,   0,   0,   0,   0,   0,   0,   0,   0,\n",
              "          0,   0,   0,   0],\n",
              "       [  0,   0,   0,   0,   0,   0,   0,   0,   0,   0,   0,   0,   0,\n",
              "          0,   0,   0,   0,  33,   0,   1,   0,   0,   0,   0,   0,   0,\n",
              "          0,   0,   0,   0],\n",
              "       [  0,   0,   0,   0,   0,   0,   0,   0,   0,   0,   0,   0,   0,\n",
              "          0,   0,   0,   0,  13,   0,   5,   0,   0,   0,   0,   0,   0,\n",
              "          0,   0,   0,   0],\n",
              "       [  0,   0,   0,   0,   0,   0,   0,   0,   0,   0,   0,   0,   0,\n",
              "          0,   0,   0,   0,   0,   5,   2,   0,   0,   0,   0,   0,   0,\n",
              "          0,   0,   0,   0],\n",
              "       [  0,   0,   0,   0,   0,   0,   0,   0,   0,   0,   0,   0,   0,\n",
              "          0,   0,   0,   0,   0,   2,   0,   0,   0,   0,   0,   0,   0,\n",
              "          0,   0,   0,   0],\n",
              "       [  0,   0,   0,   0,   0,   0,   0,   0,   0,   0,   0,   0,   0,\n",
              "          0,   0,   0,   0,   0,   0,   4,   0,   0,   0,   0,   0,   0,\n",
              "          0,   0,   0,   0],\n",
              "       [  0,   0,   0,   0,   0,   0,   0,   0,   0,   0,   0,   0,   0,\n",
              "          0,   0,   0,   0,   0,   0,   4,   0,   0,   0,   0,   0,   0,\n",
              "          0,   0,   0,   0],\n",
              "       [  0,   0,   0,   0,   0,   0,   0,   0,   0,   0,   0,   0,   0,\n",
              "          0,   0,   0,   0,   0,   0,   1,   0,   0,   0,   0,   0,   0,\n",
              "          0,   0,   0,   0],\n",
              "       [  0,   0,   0,   0,   0,   0,   0,   0,   0,   0,   0,   0,   0,\n",
              "          0,   0,   0,   0,   0,   0,   1,   0,   0,   0,   0,   0,   0,\n",
              "          0,   0,   0,   0],\n",
              "       [  0,   0,   0,   0,   0,   0,   0,   0,   0,   0,   0,   0,   0,\n",
              "          0,   0,   0,   0,   0,   0,   1,   0,   0,   0,   0,   0,   0,\n",
              "          0,   0,   0,   0],\n",
              "       [  0,   0,   0,   0,   0,   0,   0,   0,   0,   0,   0,   0,   0,\n",
              "          0,   0,   0,   0,   0,   0,   1,   0,   0,   0,   0,   0,   0,\n",
              "          0,   0,   0,   0],\n",
              "       [  0,   0,   0,   0,   0,   0,   0,   0,   0,   0,   0,   0,   0,\n",
              "          0,   0,   0,   0,   0,   0,   1,   0,   0,   0,   0,   0,   0,\n",
              "          0,   0,   0,   0],\n",
              "       [  0,   0,   0,   0,   0,   0,   0,   0,   0,   0,   0,   0,   0,\n",
              "          0,   0,   0,   0,   0,   0,   1,   0,   0,   0,   0,   0,   0,\n",
              "          0,   0,   0,   0]])"
            ]
          },
          "metadata": {
            "tags": []
          },
          "execution_count": 59
        }
      ]
    },
    {
      "cell_type": "markdown",
      "metadata": {
        "id": "E_8EGTQWsfUa",
        "colab_type": "text"
      },
      "source": [
        "## Creating residual plots for models and assessing their heteroscedasticity using Bartlett's test"
      ]
    },
    {
      "cell_type": "code",
      "metadata": {
        "id": "wwyrFaX1sdTe",
        "colab_type": "code",
        "colab": {
          "base_uri": "https://localhost:8080/",
          "height": 174
        },
        "outputId": "5c88c45a-2812-46df-b7d6-7ec8ff2c27f2"
      },
      "source": [
        "# splitting out dataframe into independent and dependent variables\n",
        "X = final_merge[['rank_home_team', 'rank_away_team', 'tournament']].values\n",
        "y = final_merge['home_team_score'].values\n",
        "\n",
        "# splitting dataframe into train and test\n",
        "\n",
        "X_train, X_test, y_train, y_test = train_test_split(X, y, test_size=0.2, random_state=0)\n",
        "\n",
        "# fitting our model\n",
        "\n",
        "regressor = LinearRegression()\n",
        "regressor.fit(X_train, y_train)\n",
        "\n",
        "# prediction\n",
        "\n",
        "y_predict = regressor.predict(X_test)\n",
        "\n",
        "# creating residual by subtracting the test value from predicted value\n",
        "\n",
        "residuals = np.subtract(y_predict, y_test)\n",
        "\n",
        "# getting statistical summary of our residual\n",
        "\n",
        "print(pd.DataFrame(residuals).describe())"
      ],
      "execution_count": 66,
      "outputs": [
        {
          "output_type": "stream",
          "text": [
            "                 0\n",
            "count  3392.000000\n",
            "mean     -0.013668\n",
            "std       1.468684\n",
            "min     -14.940155\n",
            "25%      -0.715866\n",
            "50%       0.199281\n",
            "75%       0.955941\n",
            "max       3.303290\n"
          ],
          "name": "stdout"
        }
      ]
    },
    {
      "cell_type": "markdown",
      "metadata": {
        "id": "iCNDTuJlv1pP",
        "colab_type": "text"
      },
      "source": [
        "Observations: yes we have created a model but our prediction are way off up to 330%(checking the max value). There is no need to do the heteroskedasticity test because it's obvious that our model needs a lot of fine tuning to make it better"
      ]
    },
    {
      "cell_type": "markdown",
      "metadata": {
        "id": "LSDUQf9cg9gK",
        "colab_type": "text"
      },
      "source": [
        "##  Checking for Multicollinearity"
      ]
    },
    {
      "cell_type": "code",
      "metadata": {
        "id": "1XEhm6byg_0z",
        "colab_type": "code",
        "colab": {
          "base_uri": "https://localhost:8080/",
          "height": 223
        },
        "outputId": "a5f46989-b53f-47f9-ba7f-5b3c58e388ba"
      },
      "source": [
        "# first, let's encode the neutral column using label encoding\n",
        "\n",
        "final_merge['neutral'] = final_merge['neutral'].astype('category')\n",
        "final_merge['neutral'] = final_merge['neutral'].cat.codes\n",
        "final_merge.head()"
      ],
      "execution_count": 60,
      "outputs": [
        {
          "output_type": "execute_result",
          "data": {
            "text/html": [
              "<div>\n",
              "<style scoped>\n",
              "    .dataframe tbody tr th:only-of-type {\n",
              "        vertical-align: middle;\n",
              "    }\n",
              "\n",
              "    .dataframe tbody tr th {\n",
              "        vertical-align: top;\n",
              "    }\n",
              "\n",
              "    .dataframe thead th {\n",
              "        text-align: right;\n",
              "    }\n",
              "</style>\n",
              "<table border=\"1\" class=\"dataframe\">\n",
              "  <thead>\n",
              "    <tr style=\"text-align: right;\">\n",
              "      <th></th>\n",
              "      <th>home_team</th>\n",
              "      <th>away_team</th>\n",
              "      <th>home_team_score</th>\n",
              "      <th>away_team_score</th>\n",
              "      <th>tournament</th>\n",
              "      <th>neutral</th>\n",
              "      <th>rank_home_team</th>\n",
              "      <th>points_home_team</th>\n",
              "      <th>rank_change_home_team</th>\n",
              "      <th>rank_away_team</th>\n",
              "      <th>points_away_team</th>\n",
              "      <th>rank_change_away_team</th>\n",
              "      <th>year_month</th>\n",
              "      <th>home_score_diff</th>\n",
              "    </tr>\n",
              "  </thead>\n",
              "  <tbody>\n",
              "    <tr>\n",
              "      <th>0</th>\n",
              "      <td>Colombia</td>\n",
              "      <td>Paraguay</td>\n",
              "      <td>0</td>\n",
              "      <td>0</td>\n",
              "      <td>26</td>\n",
              "      <td>0</td>\n",
              "      <td>19</td>\n",
              "      <td>0.0</td>\n",
              "      <td>16</td>\n",
              "      <td>67</td>\n",
              "      <td>0.0</td>\n",
              "      <td>1</td>\n",
              "      <td>1993-08</td>\n",
              "      <td>0</td>\n",
              "    </tr>\n",
              "    <tr>\n",
              "      <th>1</th>\n",
              "      <td>Argentina</td>\n",
              "      <td>Paraguay</td>\n",
              "      <td>0</td>\n",
              "      <td>0</td>\n",
              "      <td>26</td>\n",
              "      <td>0</td>\n",
              "      <td>5</td>\n",
              "      <td>0.0</td>\n",
              "      <td>5</td>\n",
              "      <td>67</td>\n",
              "      <td>0.0</td>\n",
              "      <td>1</td>\n",
              "      <td>1993-08</td>\n",
              "      <td>0</td>\n",
              "    </tr>\n",
              "    <tr>\n",
              "      <th>2</th>\n",
              "      <td>Colombia</td>\n",
              "      <td>Argentina</td>\n",
              "      <td>2</td>\n",
              "      <td>1</td>\n",
              "      <td>26</td>\n",
              "      <td>0</td>\n",
              "      <td>19</td>\n",
              "      <td>0.0</td>\n",
              "      <td>16</td>\n",
              "      <td>5</td>\n",
              "      <td>0.0</td>\n",
              "      <td>5</td>\n",
              "      <td>1993-08</td>\n",
              "      <td>1</td>\n",
              "    </tr>\n",
              "    <tr>\n",
              "      <th>3</th>\n",
              "      <td>Peru</td>\n",
              "      <td>Argentina</td>\n",
              "      <td>0</td>\n",
              "      <td>1</td>\n",
              "      <td>26</td>\n",
              "      <td>0</td>\n",
              "      <td>70</td>\n",
              "      <td>0.0</td>\n",
              "      <td>8</td>\n",
              "      <td>5</td>\n",
              "      <td>0.0</td>\n",
              "      <td>5</td>\n",
              "      <td>1993-08</td>\n",
              "      <td>-1</td>\n",
              "    </tr>\n",
              "    <tr>\n",
              "      <th>4</th>\n",
              "      <td>Paraguay</td>\n",
              "      <td>Argentina</td>\n",
              "      <td>1</td>\n",
              "      <td>3</td>\n",
              "      <td>26</td>\n",
              "      <td>0</td>\n",
              "      <td>67</td>\n",
              "      <td>0.0</td>\n",
              "      <td>1</td>\n",
              "      <td>5</td>\n",
              "      <td>0.0</td>\n",
              "      <td>5</td>\n",
              "      <td>1993-08</td>\n",
              "      <td>-2</td>\n",
              "    </tr>\n",
              "  </tbody>\n",
              "</table>\n",
              "</div>"
            ],
            "text/plain": [
              "   home_team  away_team  ...  year_month  home_score_diff\n",
              "0   Colombia   Paraguay  ...     1993-08                0\n",
              "1  Argentina   Paraguay  ...     1993-08                0\n",
              "2   Colombia  Argentina  ...     1993-08                1\n",
              "3       Peru  Argentina  ...     1993-08               -1\n",
              "4   Paraguay  Argentina  ...     1993-08               -2\n",
              "\n",
              "[5 rows x 14 columns]"
            ]
          },
          "metadata": {
            "tags": []
          },
          "execution_count": 60
        }
      ]
    },
    {
      "cell_type": "code",
      "metadata": {
        "id": "4VkGWhB8iZZb",
        "colab_type": "code",
        "colab": {}
      },
      "source": [
        "# dropping columns that we wont need to check for multicollineality\n",
        "\n",
        "final_merge.drop(['home_team', 'away_team','year_month', 'home_score_diff' ], axis=1, inplace = True)"
      ],
      "execution_count": 61,
      "outputs": []
    },
    {
      "cell_type": "code",
      "metadata": {
        "id": "XK2WtC4LkQOv",
        "colab_type": "code",
        "colab": {
          "base_uri": "https://localhost:8080/",
          "height": 223
        },
        "outputId": "57fcbd79-1dad-497a-b0d4-474db05d3bab"
      },
      "source": [
        "final_merge.head()"
      ],
      "execution_count": 62,
      "outputs": [
        {
          "output_type": "execute_result",
          "data": {
            "text/html": [
              "<div>\n",
              "<style scoped>\n",
              "    .dataframe tbody tr th:only-of-type {\n",
              "        vertical-align: middle;\n",
              "    }\n",
              "\n",
              "    .dataframe tbody tr th {\n",
              "        vertical-align: top;\n",
              "    }\n",
              "\n",
              "    .dataframe thead th {\n",
              "        text-align: right;\n",
              "    }\n",
              "</style>\n",
              "<table border=\"1\" class=\"dataframe\">\n",
              "  <thead>\n",
              "    <tr style=\"text-align: right;\">\n",
              "      <th></th>\n",
              "      <th>home_team_score</th>\n",
              "      <th>away_team_score</th>\n",
              "      <th>tournament</th>\n",
              "      <th>neutral</th>\n",
              "      <th>rank_home_team</th>\n",
              "      <th>points_home_team</th>\n",
              "      <th>rank_change_home_team</th>\n",
              "      <th>rank_away_team</th>\n",
              "      <th>points_away_team</th>\n",
              "      <th>rank_change_away_team</th>\n",
              "    </tr>\n",
              "  </thead>\n",
              "  <tbody>\n",
              "    <tr>\n",
              "      <th>0</th>\n",
              "      <td>0</td>\n",
              "      <td>0</td>\n",
              "      <td>26</td>\n",
              "      <td>0</td>\n",
              "      <td>19</td>\n",
              "      <td>0.0</td>\n",
              "      <td>16</td>\n",
              "      <td>67</td>\n",
              "      <td>0.0</td>\n",
              "      <td>1</td>\n",
              "    </tr>\n",
              "    <tr>\n",
              "      <th>1</th>\n",
              "      <td>0</td>\n",
              "      <td>0</td>\n",
              "      <td>26</td>\n",
              "      <td>0</td>\n",
              "      <td>5</td>\n",
              "      <td>0.0</td>\n",
              "      <td>5</td>\n",
              "      <td>67</td>\n",
              "      <td>0.0</td>\n",
              "      <td>1</td>\n",
              "    </tr>\n",
              "    <tr>\n",
              "      <th>2</th>\n",
              "      <td>2</td>\n",
              "      <td>1</td>\n",
              "      <td>26</td>\n",
              "      <td>0</td>\n",
              "      <td>19</td>\n",
              "      <td>0.0</td>\n",
              "      <td>16</td>\n",
              "      <td>5</td>\n",
              "      <td>0.0</td>\n",
              "      <td>5</td>\n",
              "    </tr>\n",
              "    <tr>\n",
              "      <th>3</th>\n",
              "      <td>0</td>\n",
              "      <td>1</td>\n",
              "      <td>26</td>\n",
              "      <td>0</td>\n",
              "      <td>70</td>\n",
              "      <td>0.0</td>\n",
              "      <td>8</td>\n",
              "      <td>5</td>\n",
              "      <td>0.0</td>\n",
              "      <td>5</td>\n",
              "    </tr>\n",
              "    <tr>\n",
              "      <th>4</th>\n",
              "      <td>1</td>\n",
              "      <td>3</td>\n",
              "      <td>26</td>\n",
              "      <td>0</td>\n",
              "      <td>67</td>\n",
              "      <td>0.0</td>\n",
              "      <td>1</td>\n",
              "      <td>5</td>\n",
              "      <td>0.0</td>\n",
              "      <td>5</td>\n",
              "    </tr>\n",
              "  </tbody>\n",
              "</table>\n",
              "</div>"
            ],
            "text/plain": [
              "   home_team_score  away_team_score  ...  points_away_team  rank_change_away_team\n",
              "0                0                0  ...               0.0                      1\n",
              "1                0                0  ...               0.0                      1\n",
              "2                2                1  ...               0.0                      5\n",
              "3                0                1  ...               0.0                      5\n",
              "4                1                3  ...               0.0                      5\n",
              "\n",
              "[5 rows x 10 columns]"
            ]
          },
          "metadata": {
            "tags": []
          },
          "execution_count": 62
        }
      ]
    },
    {
      "cell_type": "code",
      "metadata": {
        "id": "gldwGClvlcAz",
        "colab_type": "code",
        "colab": {
          "base_uri": "https://localhost:8080/",
          "height": 347
        },
        "outputId": "efa0b6c6-7c1c-489d-8ff7-a92bb2183160"
      },
      "source": [
        "# Assuming our dependent variable is home_team_score, we will focus on the other variables as our independent variables\n",
        "# let's first check for the correlation of the independent variables\n",
        "\n",
        "correlations = final_merge.iloc[:, 1:10].corr()\n",
        "correlations"
      ],
      "execution_count": 63,
      "outputs": [
        {
          "output_type": "execute_result",
          "data": {
            "text/html": [
              "<div>\n",
              "<style scoped>\n",
              "    .dataframe tbody tr th:only-of-type {\n",
              "        vertical-align: middle;\n",
              "    }\n",
              "\n",
              "    .dataframe tbody tr th {\n",
              "        vertical-align: top;\n",
              "    }\n",
              "\n",
              "    .dataframe thead th {\n",
              "        text-align: right;\n",
              "    }\n",
              "</style>\n",
              "<table border=\"1\" class=\"dataframe\">\n",
              "  <thead>\n",
              "    <tr style=\"text-align: right;\">\n",
              "      <th></th>\n",
              "      <th>away_team_score</th>\n",
              "      <th>tournament</th>\n",
              "      <th>neutral</th>\n",
              "      <th>rank_home_team</th>\n",
              "      <th>points_home_team</th>\n",
              "      <th>rank_change_home_team</th>\n",
              "      <th>rank_away_team</th>\n",
              "      <th>points_away_team</th>\n",
              "      <th>rank_change_away_team</th>\n",
              "    </tr>\n",
              "  </thead>\n",
              "  <tbody>\n",
              "    <tr>\n",
              "      <th>away_team_score</th>\n",
              "      <td>1.000000</td>\n",
              "      <td>0.029986</td>\n",
              "      <td>0.099986</td>\n",
              "      <td>0.221319</td>\n",
              "      <td>-0.060497</td>\n",
              "      <td>-0.089402</td>\n",
              "      <td>-0.180431</td>\n",
              "      <td>0.073230</td>\n",
              "      <td>0.100628</td>\n",
              "    </tr>\n",
              "    <tr>\n",
              "      <th>tournament</th>\n",
              "      <td>0.029986</td>\n",
              "      <td>1.000000</td>\n",
              "      <td>-0.080757</td>\n",
              "      <td>-0.146859</td>\n",
              "      <td>0.020499</td>\n",
              "      <td>-0.060467</td>\n",
              "      <td>-0.157931</td>\n",
              "      <td>0.025825</td>\n",
              "      <td>-0.020157</td>\n",
              "    </tr>\n",
              "    <tr>\n",
              "      <th>neutral</th>\n",
              "      <td>0.099986</td>\n",
              "      <td>-0.080757</td>\n",
              "      <td>1.000000</td>\n",
              "      <td>0.037763</td>\n",
              "      <td>0.036702</td>\n",
              "      <td>0.019000</td>\n",
              "      <td>0.047874</td>\n",
              "      <td>0.027494</td>\n",
              "      <td>0.052987</td>\n",
              "    </tr>\n",
              "    <tr>\n",
              "      <th>rank_home_team</th>\n",
              "      <td>0.221319</td>\n",
              "      <td>-0.146859</td>\n",
              "      <td>0.037763</td>\n",
              "      <td>1.000000</td>\n",
              "      <td>-0.289158</td>\n",
              "      <td>-0.000978</td>\n",
              "      <td>0.469478</td>\n",
              "      <td>-0.123647</td>\n",
              "      <td>0.047072</td>\n",
              "    </tr>\n",
              "    <tr>\n",
              "      <th>points_home_team</th>\n",
              "      <td>-0.060497</td>\n",
              "      <td>0.020499</td>\n",
              "      <td>0.036702</td>\n",
              "      <td>-0.289158</td>\n",
              "      <td>1.000000</td>\n",
              "      <td>-0.043067</td>\n",
              "      <td>-0.119600</td>\n",
              "      <td>0.796825</td>\n",
              "      <td>-0.063686</td>\n",
              "    </tr>\n",
              "    <tr>\n",
              "      <th>rank_change_home_team</th>\n",
              "      <td>-0.089402</td>\n",
              "      <td>-0.060467</td>\n",
              "      <td>0.019000</td>\n",
              "      <td>-0.000978</td>\n",
              "      <td>-0.043067</td>\n",
              "      <td>1.000000</td>\n",
              "      <td>0.044891</td>\n",
              "      <td>-0.061849</td>\n",
              "      <td>0.034294</td>\n",
              "    </tr>\n",
              "    <tr>\n",
              "      <th>rank_away_team</th>\n",
              "      <td>-0.180431</td>\n",
              "      <td>-0.157931</td>\n",
              "      <td>0.047874</td>\n",
              "      <td>0.469478</td>\n",
              "      <td>-0.119600</td>\n",
              "      <td>0.044891</td>\n",
              "      <td>1.000000</td>\n",
              "      <td>-0.286291</td>\n",
              "      <td>-0.018607</td>\n",
              "    </tr>\n",
              "    <tr>\n",
              "      <th>points_away_team</th>\n",
              "      <td>0.073230</td>\n",
              "      <td>0.025825</td>\n",
              "      <td>0.027494</td>\n",
              "      <td>-0.123647</td>\n",
              "      <td>0.796825</td>\n",
              "      <td>-0.061849</td>\n",
              "      <td>-0.286291</td>\n",
              "      <td>1.000000</td>\n",
              "      <td>-0.029886</td>\n",
              "    </tr>\n",
              "    <tr>\n",
              "      <th>rank_change_away_team</th>\n",
              "      <td>0.100628</td>\n",
              "      <td>-0.020157</td>\n",
              "      <td>0.052987</td>\n",
              "      <td>0.047072</td>\n",
              "      <td>-0.063686</td>\n",
              "      <td>0.034294</td>\n",
              "      <td>-0.018607</td>\n",
              "      <td>-0.029886</td>\n",
              "      <td>1.000000</td>\n",
              "    </tr>\n",
              "  </tbody>\n",
              "</table>\n",
              "</div>"
            ],
            "text/plain": [
              "                       away_team_score  ...  rank_change_away_team\n",
              "away_team_score               1.000000  ...               0.100628\n",
              "tournament                    0.029986  ...              -0.020157\n",
              "neutral                       0.099986  ...               0.052987\n",
              "rank_home_team                0.221319  ...               0.047072\n",
              "points_home_team             -0.060497  ...              -0.063686\n",
              "rank_change_home_team        -0.089402  ...               0.034294\n",
              "rank_away_team               -0.180431  ...              -0.018607\n",
              "points_away_team              0.073230  ...              -0.029886\n",
              "rank_change_away_team         0.100628  ...               1.000000\n",
              "\n",
              "[9 rows x 9 columns]"
            ]
          },
          "metadata": {
            "tags": []
          },
          "execution_count": 63
        }
      ]
    },
    {
      "cell_type": "markdown",
      "metadata": {
        "id": "pCZ-73q-muM8",
        "colab_type": "text"
      },
      "source": [
        "Observations: the above table shows how each variable is correlated to each other"
      ]
    },
    {
      "cell_type": "code",
      "metadata": {
        "id": "XPuS1iT7m3wr",
        "colab_type": "code",
        "colab": {
          "base_uri": "https://localhost:8080/",
          "height": 347
        },
        "outputId": "e8d6b340-405b-4871-b9ef-158ae22f0ea0"
      },
      "source": [
        "# let's use the correlations to compute the VIF\n",
        "\n",
        "pd.DataFrame(np.linalg.inv(correlations.values), index = correlations.index, columns= correlations.columns)"
      ],
      "execution_count": 64,
      "outputs": [
        {
          "output_type": "execute_result",
          "data": {
            "text/html": [
              "<div>\n",
              "<style scoped>\n",
              "    .dataframe tbody tr th:only-of-type {\n",
              "        vertical-align: middle;\n",
              "    }\n",
              "\n",
              "    .dataframe tbody tr th {\n",
              "        vertical-align: top;\n",
              "    }\n",
              "\n",
              "    .dataframe thead th {\n",
              "        text-align: right;\n",
              "    }\n",
              "</style>\n",
              "<table border=\"1\" class=\"dataframe\">\n",
              "  <thead>\n",
              "    <tr style=\"text-align: right;\">\n",
              "      <th></th>\n",
              "      <th>away_team_score</th>\n",
              "      <th>tournament</th>\n",
              "      <th>neutral</th>\n",
              "      <th>rank_home_team</th>\n",
              "      <th>points_home_team</th>\n",
              "      <th>rank_change_home_team</th>\n",
              "      <th>rank_away_team</th>\n",
              "      <th>points_away_team</th>\n",
              "      <th>rank_change_away_team</th>\n",
              "    </tr>\n",
              "  </thead>\n",
              "  <tbody>\n",
              "    <tr>\n",
              "      <th>away_team_score</th>\n",
              "      <td>1.213019</td>\n",
              "      <td>-0.043521</td>\n",
              "      <td>-0.124361</td>\n",
              "      <td>-0.461679</td>\n",
              "      <td>0.022240</td>\n",
              "      <td>0.090639</td>\n",
              "      <td>0.421455</td>\n",
              "      <td>-0.035504</td>\n",
              "      <td>-0.089530</td>\n",
              "    </tr>\n",
              "    <tr>\n",
              "      <th>tournament</th>\n",
              "      <td>-0.043521</td>\n",
              "      <td>1.043694</td>\n",
              "      <td>0.076641</td>\n",
              "      <td>0.117766</td>\n",
              "      <td>0.015572</td>\n",
              "      <td>0.054006</td>\n",
              "      <td>0.100310</td>\n",
              "      <td>0.008849</td>\n",
              "      <td>0.017083</td>\n",
              "    </tr>\n",
              "    <tr>\n",
              "      <th>neutral</th>\n",
              "      <td>-0.124361</td>\n",
              "      <td>0.076641</td>\n",
              "      <td>1.026226</td>\n",
              "      <td>0.022971</td>\n",
              "      <td>-0.051808</td>\n",
              "      <td>-0.023297</td>\n",
              "      <td>-0.076739</td>\n",
              "      <td>-0.001732</td>\n",
              "      <td>-0.045379</td>\n",
              "    </tr>\n",
              "    <tr>\n",
              "      <th>rank_home_team</th>\n",
              "      <td>-0.461679</td>\n",
              "      <td>0.117766</td>\n",
              "      <td>0.022971</td>\n",
              "      <td>1.820811</td>\n",
              "      <td>1.111546</td>\n",
              "      <td>0.005263</td>\n",
              "      <td>-1.055218</td>\n",
              "      <td>-0.932655</td>\n",
              "      <td>-0.014992</td>\n",
              "    </tr>\n",
              "    <tr>\n",
              "      <th>points_home_team</th>\n",
              "      <td>0.022240</td>\n",
              "      <td>0.015572</td>\n",
              "      <td>-0.051808</td>\n",
              "      <td>1.111546</td>\n",
              "      <td>3.616448</td>\n",
              "      <td>0.014349</td>\n",
              "      <td>-0.941856</td>\n",
              "      <td>-3.011484</td>\n",
              "      <td>0.070799</td>\n",
              "    </tr>\n",
              "    <tr>\n",
              "      <th>rank_change_home_team</th>\n",
              "      <td>0.090639</td>\n",
              "      <td>0.054006</td>\n",
              "      <td>-0.023297</td>\n",
              "      <td>0.005263</td>\n",
              "      <td>0.014349</td>\n",
              "      <td>1.016753</td>\n",
              "      <td>-0.009460</td>\n",
              "      <td>0.040808</td>\n",
              "      <td>-0.039957</td>\n",
              "    </tr>\n",
              "    <tr>\n",
              "      <th>rank_away_team</th>\n",
              "      <td>0.421455</td>\n",
              "      <td>0.100310</td>\n",
              "      <td>-0.076739</td>\n",
              "      <td>-1.055218</td>\n",
              "      <td>-0.941856</td>\n",
              "      <td>-0.009460</td>\n",
              "      <td>1.794752</td>\n",
              "      <td>1.102511</td>\n",
              "      <td>0.020034</td>\n",
              "    </tr>\n",
              "    <tr>\n",
              "      <th>points_away_team</th>\n",
              "      <td>-0.035504</td>\n",
              "      <td>0.008849</td>\n",
              "      <td>-0.001732</td>\n",
              "      <td>-0.932655</td>\n",
              "      <td>-3.011484</td>\n",
              "      <td>0.040808</td>\n",
              "      <td>1.102511</td>\n",
              "      <td>3.604373</td>\n",
              "      <td>-0.017211</td>\n",
              "    </tr>\n",
              "    <tr>\n",
              "      <th>rank_change_away_team</th>\n",
              "      <td>-0.089530</td>\n",
              "      <td>0.017083</td>\n",
              "      <td>-0.045379</td>\n",
              "      <td>-0.014992</td>\n",
              "      <td>0.070799</td>\n",
              "      <td>-0.039957</td>\n",
              "      <td>0.020034</td>\n",
              "      <td>-0.017211</td>\n",
              "      <td>1.018201</td>\n",
              "    </tr>\n",
              "  </tbody>\n",
              "</table>\n",
              "</div>"
            ],
            "text/plain": [
              "                       away_team_score  ...  rank_change_away_team\n",
              "away_team_score               1.213019  ...              -0.089530\n",
              "tournament                   -0.043521  ...               0.017083\n",
              "neutral                      -0.124361  ...              -0.045379\n",
              "rank_home_team               -0.461679  ...              -0.014992\n",
              "points_home_team              0.022240  ...               0.070799\n",
              "rank_change_home_team         0.090639  ...              -0.039957\n",
              "rank_away_team                0.421455  ...               0.020034\n",
              "points_away_team             -0.035504  ...              -0.017211\n",
              "rank_change_away_team        -0.089530  ...               1.018201\n",
              "\n",
              "[9 rows x 9 columns]"
            ]
          },
          "metadata": {
            "tags": []
          },
          "execution_count": 64
        }
      ]
    },
    {
      "cell_type": "markdown",
      "metadata": {
        "id": "-onc3kliosXY",
        "colab_type": "text"
      },
      "source": [
        "Observations: looking at the VIF results , the VIF results for each variable is found diagonaly. From the table, we see that thta points away team has a VIF of 3.60 and points home team also has a VIF of 3.61. Let's remove points away team and see if the VIF will improve"
      ]
    },
    {
      "cell_type": "code",
      "metadata": {
        "id": "n8pUu9BEpiW_",
        "colab_type": "code",
        "colab": {
          "base_uri": "https://localhost:8080/",
          "height": 316
        },
        "outputId": "ef0fb3a4-454e-4b5f-c632-422f0bb85b1a"
      },
      "source": [
        "point_away_team_dropped = correlations.drop(columns=['points_away_team'])\n",
        "correlations = point_away_team_dropped.corr()\n",
        "pd.DataFrame(np.linalg.inv(correlations.values), index = correlations.index, columns= correlations.columns)"
      ],
      "execution_count": 65,
      "outputs": [
        {
          "output_type": "execute_result",
          "data": {
            "text/html": [
              "<div>\n",
              "<style scoped>\n",
              "    .dataframe tbody tr th:only-of-type {\n",
              "        vertical-align: middle;\n",
              "    }\n",
              "\n",
              "    .dataframe tbody tr th {\n",
              "        vertical-align: top;\n",
              "    }\n",
              "\n",
              "    .dataframe thead th {\n",
              "        text-align: right;\n",
              "    }\n",
              "</style>\n",
              "<table border=\"1\" class=\"dataframe\">\n",
              "  <thead>\n",
              "    <tr style=\"text-align: right;\">\n",
              "      <th></th>\n",
              "      <th>away_team_score</th>\n",
              "      <th>tournament</th>\n",
              "      <th>neutral</th>\n",
              "      <th>rank_home_team</th>\n",
              "      <th>points_home_team</th>\n",
              "      <th>rank_change_home_team</th>\n",
              "      <th>rank_away_team</th>\n",
              "      <th>rank_change_away_team</th>\n",
              "    </tr>\n",
              "  </thead>\n",
              "  <tbody>\n",
              "    <tr>\n",
              "      <th>away_team_score</th>\n",
              "      <td>39.967570</td>\n",
              "      <td>56.066176</td>\n",
              "      <td>29.360903</td>\n",
              "      <td>38.909838</td>\n",
              "      <td>79.731067</td>\n",
              "      <td>44.699227</td>\n",
              "      <td>49.673594</td>\n",
              "      <td>34.807375</td>\n",
              "    </tr>\n",
              "    <tr>\n",
              "      <th>tournament</th>\n",
              "      <td>56.066176</td>\n",
              "      <td>83.854233</td>\n",
              "      <td>43.804404</td>\n",
              "      <td>60.026747</td>\n",
              "      <td>117.553002</td>\n",
              "      <td>65.635522</td>\n",
              "      <td>70.921845</td>\n",
              "      <td>51.512571</td>\n",
              "    </tr>\n",
              "    <tr>\n",
              "      <th>neutral</th>\n",
              "      <td>29.360903</td>\n",
              "      <td>43.804404</td>\n",
              "      <td>23.973401</td>\n",
              "      <td>31.711170</td>\n",
              "      <td>61.887807</td>\n",
              "      <td>34.544014</td>\n",
              "      <td>37.083214</td>\n",
              "      <td>27.100275</td>\n",
              "    </tr>\n",
              "    <tr>\n",
              "      <th>rank_home_team</th>\n",
              "      <td>38.909838</td>\n",
              "      <td>60.026747</td>\n",
              "      <td>31.711170</td>\n",
              "      <td>46.808330</td>\n",
              "      <td>85.399092</td>\n",
              "      <td>47.347769</td>\n",
              "      <td>48.301867</td>\n",
              "      <td>37.150249</td>\n",
              "    </tr>\n",
              "    <tr>\n",
              "      <th>points_home_team</th>\n",
              "      <td>79.731067</td>\n",
              "      <td>117.553002</td>\n",
              "      <td>61.887807</td>\n",
              "      <td>85.399092</td>\n",
              "      <td>168.015693</td>\n",
              "      <td>93.166065</td>\n",
              "      <td>100.574311</td>\n",
              "      <td>73.215003</td>\n",
              "    </tr>\n",
              "    <tr>\n",
              "      <th>rank_change_home_team</th>\n",
              "      <td>44.699227</td>\n",
              "      <td>65.635522</td>\n",
              "      <td>34.544014</td>\n",
              "      <td>47.347769</td>\n",
              "      <td>93.166065</td>\n",
              "      <td>52.910349</td>\n",
              "      <td>56.063606</td>\n",
              "      <td>40.709676</td>\n",
              "    </tr>\n",
              "    <tr>\n",
              "      <th>rank_away_team</th>\n",
              "      <td>49.673594</td>\n",
              "      <td>70.921845</td>\n",
              "      <td>37.083214</td>\n",
              "      <td>48.301867</td>\n",
              "      <td>100.574311</td>\n",
              "      <td>56.063606</td>\n",
              "      <td>64.068834</td>\n",
              "      <td>44.109795</td>\n",
              "    </tr>\n",
              "    <tr>\n",
              "      <th>rank_change_away_team</th>\n",
              "      <td>34.807375</td>\n",
              "      <td>51.512571</td>\n",
              "      <td>27.100275</td>\n",
              "      <td>37.150249</td>\n",
              "      <td>73.215003</td>\n",
              "      <td>40.709676</td>\n",
              "      <td>44.109795</td>\n",
              "      <td>32.974598</td>\n",
              "    </tr>\n",
              "  </tbody>\n",
              "</table>\n",
              "</div>"
            ],
            "text/plain": [
              "                       away_team_score  ...  rank_change_away_team\n",
              "away_team_score              39.967570  ...              34.807375\n",
              "tournament                   56.066176  ...              51.512571\n",
              "neutral                      29.360903  ...              27.100275\n",
              "rank_home_team               38.909838  ...              37.150249\n",
              "points_home_team             79.731067  ...              73.215003\n",
              "rank_change_home_team        44.699227  ...              40.709676\n",
              "rank_away_team               49.673594  ...              44.109795\n",
              "rank_change_away_team        34.807375  ...              32.974598\n",
              "\n",
              "[8 rows x 8 columns]"
            ]
          },
          "metadata": {
            "tags": []
          },
          "execution_count": 65
        }
      ]
    },
    {
      "cell_type": "markdown",
      "metadata": {
        "id": "A_Wq8FMbrZGZ",
        "colab_type": "text"
      },
      "source": [
        "Observations: the resulting values are strange and can not tell us about the change in VIF hence it's hard to tell on multicollineality"
      ]
    }
  ]
}